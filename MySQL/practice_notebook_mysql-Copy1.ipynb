{
 "cells": [
  {
   "cell_type": "code",
   "execution_count": 8,
   "id": "4dd39fe7",
   "metadata": {},
   "outputs": [],
   "source": [
    "import mysql.connector \n",
    "import pandas as pd"
   ]
  },
  {
   "cell_type": "code",
   "execution_count": 9,
   "id": "ed1e8d58",
   "metadata": {},
   "outputs": [
    {
     "ename": "NotSupportedError",
     "evalue": "Authentication plugin 'caching_sha2_password' is not supported",
     "output_type": "error",
     "traceback": [
      "\u001b[1;31m---------------------------------------------------------------------------\u001b[0m",
      "\u001b[1;31mNotSupportedError\u001b[0m                         Traceback (most recent call last)",
      "Input \u001b[1;32mIn [9]\u001b[0m, in \u001b[0;36m<cell line: 1>\u001b[1;34m()\u001b[0m\n\u001b[1;32m----> 1\u001b[0m conn \u001b[38;5;241m=\u001b[39m \u001b[43mmysql\u001b[49m\u001b[38;5;241;43m.\u001b[39;49m\u001b[43mconnector\u001b[49m\u001b[38;5;241;43m.\u001b[39;49m\u001b[43mconnect\u001b[49m\u001b[43m(\u001b[49m\n\u001b[0;32m      2\u001b[0m \u001b[43m    \u001b[49m\u001b[43mhost\u001b[49m\u001b[43m \u001b[49m\u001b[38;5;241;43m=\u001b[39;49m\u001b[43m \u001b[49m\u001b[38;5;124;43m\"\u001b[39;49m\u001b[38;5;124;43mlocalhost\u001b[39;49m\u001b[38;5;124;43m\"\u001b[39;49m\u001b[43m,\u001b[49m\u001b[43m \u001b[49m\n\u001b[0;32m      3\u001b[0m \u001b[43m    \u001b[49m\u001b[43muser\u001b[49m\u001b[43m \u001b[49m\u001b[38;5;241;43m=\u001b[39;49m\u001b[43m \u001b[49m\u001b[38;5;124;43m\"\u001b[39;49m\u001b[38;5;124;43mroot\u001b[39;49m\u001b[38;5;124;43m\"\u001b[39;49m\u001b[43m,\u001b[49m\u001b[43m \u001b[49m\n\u001b[0;32m      4\u001b[0m \u001b[43m    \u001b[49m\u001b[43mpassword\u001b[49m\u001b[43m \u001b[49m\u001b[38;5;241;43m=\u001b[39;49m\u001b[43m \u001b[49m\u001b[38;5;124;43m\"\u001b[39;49m\u001b[38;5;124;43m@Ngelo8998\u001b[39;49m\u001b[38;5;124;43m\"\u001b[39;49m\u001b[43m,\u001b[49m\n\u001b[0;32m      5\u001b[0m \u001b[43m    \u001b[49m\u001b[43mdatabase\u001b[49m\u001b[43m \u001b[49m\u001b[38;5;241;43m=\u001b[39;49m\u001b[43m \u001b[49m\u001b[38;5;124;43m\"\u001b[39;49m\u001b[38;5;124;43mworld_disaster_risk_dataset\u001b[39;49m\u001b[38;5;124;43m\"\u001b[39;49m\u001b[43m,\u001b[49m\n\u001b[0;32m      6\u001b[0m \u001b[43m    \u001b[49m\u001b[43mauth_plugin\u001b[49m\u001b[38;5;241;43m=\u001b[39;49m\u001b[38;5;124;43m'\u001b[39;49m\u001b[38;5;124;43mmysql_native_password\u001b[39;49m\u001b[38;5;124;43m'\u001b[39;49m\n\u001b[0;32m      7\u001b[0m \u001b[43m)\u001b[49m\n",
      "File \u001b[1;32m~\\AppData\\Roaming\\Python\\Python39\\site-packages\\mysql\\connector\\__init__.py:179\u001b[0m, in \u001b[0;36mconnect\u001b[1;34m(*args, **kwargs)\u001b[0m\n\u001b[0;32m    177\u001b[0m     \u001b[38;5;28;01mreturn\u001b[39;00m CMySQLConnection(\u001b[38;5;241m*\u001b[39margs, \u001b[38;5;241m*\u001b[39m\u001b[38;5;241m*\u001b[39mkwargs)\n\u001b[0;32m    178\u001b[0m \u001b[38;5;28;01melse\u001b[39;00m:\n\u001b[1;32m--> 179\u001b[0m     \u001b[38;5;28;01mreturn\u001b[39;00m MySQLConnection(\u001b[38;5;241m*\u001b[39margs, \u001b[38;5;241m*\u001b[39m\u001b[38;5;241m*\u001b[39mkwargs)\n",
      "File \u001b[1;32m~\\AppData\\Roaming\\Python\\Python39\\site-packages\\mysql\\connector\\connection.py:95\u001b[0m, in \u001b[0;36mMySQLConnection.__init__\u001b[1;34m(self, *args, **kwargs)\u001b[0m\n\u001b[0;32m     92\u001b[0m \u001b[38;5;28mself\u001b[39m\u001b[38;5;241m.\u001b[39m_pool_config_version \u001b[38;5;241m=\u001b[39m \u001b[38;5;28;01mNone\u001b[39;00m\n\u001b[0;32m     94\u001b[0m \u001b[38;5;28;01mif\u001b[39;00m \u001b[38;5;28mlen\u001b[39m(kwargs) \u001b[38;5;241m>\u001b[39m \u001b[38;5;241m0\u001b[39m:\n\u001b[1;32m---> 95\u001b[0m     \u001b[38;5;28mself\u001b[39m\u001b[38;5;241m.\u001b[39mconnect(\u001b[38;5;241m*\u001b[39m\u001b[38;5;241m*\u001b[39mkwargs)\n",
      "File \u001b[1;32m~\\AppData\\Roaming\\Python\\Python39\\site-packages\\mysql\\connector\\abstracts.py:716\u001b[0m, in \u001b[0;36mMySQLConnectionAbstract.connect\u001b[1;34m(self, **kwargs)\u001b[0m\n\u001b[0;32m    713\u001b[0m     \u001b[38;5;28mself\u001b[39m\u001b[38;5;241m.\u001b[39mconfig(\u001b[38;5;241m*\u001b[39m\u001b[38;5;241m*\u001b[39mkwargs)\n\u001b[0;32m    715\u001b[0m \u001b[38;5;28mself\u001b[39m\u001b[38;5;241m.\u001b[39mdisconnect()\n\u001b[1;32m--> 716\u001b[0m \u001b[38;5;28;43mself\u001b[39;49m\u001b[38;5;241;43m.\u001b[39;49m\u001b[43m_open_connection\u001b[49m\u001b[43m(\u001b[49m\u001b[43m)\u001b[49m\n\u001b[0;32m    717\u001b[0m \u001b[38;5;28mself\u001b[39m\u001b[38;5;241m.\u001b[39m_post_connection()\n",
      "File \u001b[1;32m~\\AppData\\Roaming\\Python\\Python39\\site-packages\\mysql\\connector\\connection.py:208\u001b[0m, in \u001b[0;36mMySQLConnection._open_connection\u001b[1;34m(self)\u001b[0m\n\u001b[0;32m    206\u001b[0m \u001b[38;5;28mself\u001b[39m\u001b[38;5;241m.\u001b[39m_socket\u001b[38;5;241m.\u001b[39mopen_connection()\n\u001b[0;32m    207\u001b[0m \u001b[38;5;28mself\u001b[39m\u001b[38;5;241m.\u001b[39m_do_handshake()\n\u001b[1;32m--> 208\u001b[0m \u001b[38;5;28;43mself\u001b[39;49m\u001b[38;5;241;43m.\u001b[39;49m\u001b[43m_do_auth\u001b[49m\u001b[43m(\u001b[49m\u001b[38;5;28;43mself\u001b[39;49m\u001b[38;5;241;43m.\u001b[39;49m\u001b[43m_user\u001b[49m\u001b[43m,\u001b[49m\u001b[43m \u001b[49m\u001b[38;5;28;43mself\u001b[39;49m\u001b[38;5;241;43m.\u001b[39;49m\u001b[43m_password\u001b[49m\u001b[43m,\u001b[49m\n\u001b[0;32m    209\u001b[0m \u001b[43m              \u001b[49m\u001b[38;5;28;43mself\u001b[39;49m\u001b[38;5;241;43m.\u001b[39;49m\u001b[43m_database\u001b[49m\u001b[43m,\u001b[49m\u001b[43m \u001b[49m\u001b[38;5;28;43mself\u001b[39;49m\u001b[38;5;241;43m.\u001b[39;49m\u001b[43m_client_flags\u001b[49m\u001b[43m,\u001b[49m\u001b[43m \u001b[49m\u001b[38;5;28;43mself\u001b[39;49m\u001b[38;5;241;43m.\u001b[39;49m\u001b[43m_charset_id\u001b[49m\u001b[43m,\u001b[49m\n\u001b[0;32m    210\u001b[0m \u001b[43m              \u001b[49m\u001b[38;5;28;43mself\u001b[39;49m\u001b[38;5;241;43m.\u001b[39;49m\u001b[43m_ssl\u001b[49m\u001b[43m)\u001b[49m\n\u001b[0;32m    211\u001b[0m \u001b[38;5;28mself\u001b[39m\u001b[38;5;241m.\u001b[39mset_converter_class(\u001b[38;5;28mself\u001b[39m\u001b[38;5;241m.\u001b[39m_converter_class)\n\u001b[0;32m    212\u001b[0m \u001b[38;5;28;01mif\u001b[39;00m \u001b[38;5;28mself\u001b[39m\u001b[38;5;241m.\u001b[39m_client_flags \u001b[38;5;241m&\u001b[39m ClientFlag\u001b[38;5;241m.\u001b[39mCOMPRESS:\n",
      "File \u001b[1;32m~\\AppData\\Roaming\\Python\\Python39\\site-packages\\mysql\\connector\\connection.py:144\u001b[0m, in \u001b[0;36mMySQLConnection._do_auth\u001b[1;34m(self, username, password, database, client_flags, charset, ssl_options)\u001b[0m\n\u001b[0;32m    137\u001b[0m packet \u001b[38;5;241m=\u001b[39m \u001b[38;5;28mself\u001b[39m\u001b[38;5;241m.\u001b[39m_protocol\u001b[38;5;241m.\u001b[39mmake_auth(\n\u001b[0;32m    138\u001b[0m     handshake\u001b[38;5;241m=\u001b[39m\u001b[38;5;28mself\u001b[39m\u001b[38;5;241m.\u001b[39m_handshake,\n\u001b[0;32m    139\u001b[0m     username\u001b[38;5;241m=\u001b[39musername, password\u001b[38;5;241m=\u001b[39mpassword, database\u001b[38;5;241m=\u001b[39mdatabase,\n\u001b[0;32m    140\u001b[0m     charset\u001b[38;5;241m=\u001b[39mcharset, client_flags\u001b[38;5;241m=\u001b[39mclient_flags,\n\u001b[0;32m    141\u001b[0m     ssl_enabled\u001b[38;5;241m=\u001b[39m\u001b[38;5;28mself\u001b[39m\u001b[38;5;241m.\u001b[39m_ssl_active,\n\u001b[0;32m    142\u001b[0m     auth_plugin\u001b[38;5;241m=\u001b[39m\u001b[38;5;28mself\u001b[39m\u001b[38;5;241m.\u001b[39m_auth_plugin)\n\u001b[0;32m    143\u001b[0m \u001b[38;5;28mself\u001b[39m\u001b[38;5;241m.\u001b[39m_socket\u001b[38;5;241m.\u001b[39msend(packet)\n\u001b[1;32m--> 144\u001b[0m \u001b[38;5;28;43mself\u001b[39;49m\u001b[38;5;241;43m.\u001b[39;49m\u001b[43m_auth_switch_request\u001b[49m\u001b[43m(\u001b[49m\u001b[43musername\u001b[49m\u001b[43m,\u001b[49m\u001b[43m \u001b[49m\u001b[43mpassword\u001b[49m\u001b[43m)\u001b[49m\n\u001b[0;32m    146\u001b[0m \u001b[38;5;28;01mif\u001b[39;00m \u001b[38;5;129;01mnot\u001b[39;00m (client_flags \u001b[38;5;241m&\u001b[39m ClientFlag\u001b[38;5;241m.\u001b[39mCONNECT_WITH_DB) \u001b[38;5;129;01mand\u001b[39;00m database:\n\u001b[0;32m    147\u001b[0m     \u001b[38;5;28mself\u001b[39m\u001b[38;5;241m.\u001b[39mcmd_init_db(database)\n",
      "File \u001b[1;32m~\\AppData\\Roaming\\Python\\Python39\\site-packages\\mysql\\connector\\connection.py:167\u001b[0m, in \u001b[0;36mMySQLConnection._auth_switch_request\u001b[1;34m(self, username, password)\u001b[0m\n\u001b[0;32m    163\u001b[0m \u001b[38;5;28;01melif\u001b[39;00m packet[\u001b[38;5;241m4\u001b[39m] \u001b[38;5;241m==\u001b[39m \u001b[38;5;241m254\u001b[39m:\n\u001b[0;32m    164\u001b[0m     \u001b[38;5;66;03m# AuthSwitchRequest\u001b[39;00m\n\u001b[0;32m    165\u001b[0m     (new_auth_plugin,\n\u001b[0;32m    166\u001b[0m      auth_data) \u001b[38;5;241m=\u001b[39m \u001b[38;5;28mself\u001b[39m\u001b[38;5;241m.\u001b[39m_protocol\u001b[38;5;241m.\u001b[39mparse_auth_switch_request(packet)\n\u001b[1;32m--> 167\u001b[0m     auth \u001b[38;5;241m=\u001b[39m \u001b[43mget_auth_plugin\u001b[49m\u001b[43m(\u001b[49m\u001b[43mnew_auth_plugin\u001b[49m\u001b[43m)\u001b[49m(\n\u001b[0;32m    168\u001b[0m         auth_data, password\u001b[38;5;241m=\u001b[39mpassword, ssl_enabled\u001b[38;5;241m=\u001b[39m\u001b[38;5;28mself\u001b[39m\u001b[38;5;241m.\u001b[39m_ssl_active)\n\u001b[0;32m    169\u001b[0m     response \u001b[38;5;241m=\u001b[39m auth\u001b[38;5;241m.\u001b[39mauth_response()\n\u001b[0;32m    170\u001b[0m     \u001b[38;5;28mself\u001b[39m\u001b[38;5;241m.\u001b[39m_socket\u001b[38;5;241m.\u001b[39msend(response)\n",
      "File \u001b[1;32m~\\AppData\\Roaming\\Python\\Python39\\site-packages\\mysql\\connector\\authentication.py:190\u001b[0m, in \u001b[0;36mget_auth_plugin\u001b[1;34m(plugin_name)\u001b[0m\n\u001b[0;32m    187\u001b[0m     \u001b[38;5;28;01mif\u001b[39;00m authclass\u001b[38;5;241m.\u001b[39mplugin_name \u001b[38;5;241m==\u001b[39m plugin_name:\n\u001b[0;32m    188\u001b[0m         \u001b[38;5;28;01mreturn\u001b[39;00m authclass\n\u001b[1;32m--> 190\u001b[0m \u001b[38;5;28;01mraise\u001b[39;00m errors\u001b[38;5;241m.\u001b[39mNotSupportedError(\n\u001b[0;32m    191\u001b[0m     \u001b[38;5;124m\"\u001b[39m\u001b[38;5;124mAuthentication plugin \u001b[39m\u001b[38;5;124m'\u001b[39m\u001b[38;5;132;01m{0}\u001b[39;00m\u001b[38;5;124m'\u001b[39m\u001b[38;5;124m is not supported\u001b[39m\u001b[38;5;124m\"\u001b[39m\u001b[38;5;241m.\u001b[39mformat(plugin_name))\n",
      "\u001b[1;31mNotSupportedError\u001b[0m: Authentication plugin 'caching_sha2_password' is not supported"
     ]
    }
   ],
   "source": [
    "conn = mysql.connector.connect(\n",
    "    host = \"localhost\", \n",
    "    user = \"root\", \n",
    "    password = \"@Ngelo8998\",\n",
    "    database = \"world_disaster_risk_dataset\",\n",
    "    auth_plugin='mysql_native_password'\n",
    ")"
   ]
  },
  {
   "cell_type": "code",
   "execution_count": null,
   "id": "18585033",
   "metadata": {},
   "outputs": [],
   "source": [
    "c = conn.cursor()"
   ]
  },
  {
   "cell_type": "code",
   "execution_count": null,
   "id": "dea3fec3",
   "metadata": {},
   "outputs": [],
   "source": [
    "c.execute(\"SELECT * FROM students_3csc\")"
   ]
  },
  {
   "cell_type": "code",
   "execution_count": null,
   "id": "882675b9",
   "metadata": {},
   "outputs": [],
   "source": [
    "c.fetchall()"
   ]
  },
  {
   "cell_type": "code",
   "execution_count": null,
   "id": "963336ad",
   "metadata": {},
   "outputs": [],
   "source": [
    "test = [(2021193093, 'Louise', 'Legazpi', 19, 1.420, 'M')]"
   ]
  },
  {
   "cell_type": "code",
   "execution_count": null,
   "id": "904d1476",
   "metadata": {},
   "outputs": [],
   "source": [
    "test_list = list(test)"
   ]
  },
  {
   "cell_type": "code",
   "execution_count": null,
   "id": "2a7dcfa0",
   "metadata": {},
   "outputs": [],
   "source": [
    "c.executemany(\"\"\"\n",
    "    INSERT INTO \n",
    "        students_3csc\n",
    "    VALUES\n",
    "        (%s, %s, %s, %s, %s, %s)\n",
    "\"\"\", test_list)"
   ]
  },
  {
   "cell_type": "code",
   "execution_count": null,
   "id": "71cf49c0",
   "metadata": {},
   "outputs": [],
   "source": [
    "conn.commit()"
   ]
  },
  {
   "cell_type": "code",
   "execution_count": null,
   "id": "4a84bcd2",
   "metadata": {},
   "outputs": [],
   "source": [
    "id = input(\"id: \")\n",
    "firstname = input(\"firstname: \")\n",
    "familyname = input(\"familyname: \")\n",
    "age = input(\"age: \")\n",
    "gwa = input(\"gwa: \")\n",
    "gender = input(\"gender: \")"
   ]
  },
  {
   "cell_type": "code",
   "execution_count": null,
   "id": "ddcbdef9",
   "metadata": {},
   "outputs": [],
   "source": [
    "c.execute(\"\"\"\n",
    "    INSERT INTO \n",
    "        students_3csc\n",
    "    VALUES\n",
    "        (%s, %s, %s, %s, %s, %s)\n",
    "\"\"\", (id, firstname, familyname, age, gwa, gender))"
   ]
  },
  {
   "cell_type": "code",
   "execution_count": null,
   "id": "debbd463",
   "metadata": {},
   "outputs": [],
   "source": [
    "conn.commit()"
   ]
  },
  {
   "cell_type": "code",
   "execution_count": null,
   "id": "5951b33f",
   "metadata": {},
   "outputs": [],
   "source": [
    "df1 = pd.read_sql_query(\"SELECT * FROM students_3csc\", conn)\n",
    "df1"
   ]
  },
  {
   "cell_type": "code",
   "execution_count": null,
   "id": "1d0f7e47",
   "metadata": {},
   "outputs": [],
   "source": [
    "import csv\n",
    "import csv as reader"
   ]
  },
  {
   "cell_type": "code",
   "execution_count": null,
   "id": "8f16c5e2",
   "metadata": {},
   "outputs": [],
   "source": [
    "# using csv reader\n",
    "csc_g1 = open(\"3csc - csc_g1.csv\")\n",
    "g1_3csc = csv.reader(csc_g1)\n",
    "g1_3csc"
   ]
  },
  {
   "cell_type": "code",
   "execution_count": null,
   "id": "37f0b303",
   "metadata": {},
   "outputs": [],
   "source": [
    "# creating a list\n",
    "g1 = list(csv.reader(csc_g1))\n",
    "g1"
   ]
  },
  {
   "cell_type": "code",
   "execution_count": null,
   "id": "7dba5d72",
   "metadata": {},
   "outputs": [],
   "source": [
    "c.executemany(\"\"\"\n",
    "    INSERT INTO students_3csc VALUES(%s, %s, %s, %s, %s, %s)\n",
    "\"\"\", g1)"
   ]
  },
  {
   "cell_type": "code",
   "execution_count": null,
   "id": "33fcee2b",
   "metadata": {},
   "outputs": [],
   "source": [
    "conn.commit()"
   ]
  },
  {
   "cell_type": "code",
   "execution_count": null,
   "id": "c015e0c5",
   "metadata": {},
   "outputs": [],
   "source": [
    "df_g1 = pd.read_sql_query(\"SELECT * FROM students_3csc\", conn)\n",
    "df_g1"
   ]
  },
  {
   "cell_type": "code",
   "execution_count": null,
   "id": "7356e9b6",
   "metadata": {},
   "outputs": [],
   "source": [
    "csc_g2 = open(\"3csc - csc_g2.csv\")\n",
    "g2_3csc = csv.reader(csc_g2)\n",
    "g2_3csc"
   ]
  },
  {
   "cell_type": "code",
   "execution_count": null,
   "id": "904f9a2b",
   "metadata": {},
   "outputs": [],
   "source": [
    "# creating a list\n",
    "g2 = list(g2_3csc)\n",
    "g2"
   ]
  },
  {
   "cell_type": "code",
   "execution_count": null,
   "id": "025df75b",
   "metadata": {},
   "outputs": [],
   "source": [
    "c.executemany(\"\"\"\n",
    "    INSERT INTO students_3csc VALUES(%s, %s, %s, %s, %s, %s)\n",
    "\"\"\", g2)"
   ]
  },
  {
   "cell_type": "code",
   "execution_count": null,
   "id": "bba2f002",
   "metadata": {},
   "outputs": [],
   "source": [
    "df_g1_and_g2 = pd.read_sql_query(\"SELECT * FROM students_3csc\", conn)\n",
    "df_g1_and_g2"
   ]
  },
  {
   "cell_type": "code",
   "execution_count": null,
   "id": "5b25603e",
   "metadata": {},
   "outputs": [],
   "source": [
    "c.execute(\"\"\"\n",
    "    CREATE TABLE info2(\n",
    "        applicant_no INT NOT NULL PRIMARY KEY,\n",
    "        ustet_score REAL NOT NULL,\n",
    "        jhs_gwa REAL NOT NULL,\n",
    "        shs_gwa REAL NOT NULL, \n",
    "        strand TEXT NOT NULL\n",
    "    )\n",
    "\"\"\")"
   ]
  },
  {
   "cell_type": "code",
   "execution_count": null,
   "id": "c4b9133c",
   "metadata": {},
   "outputs": [],
   "source": [
    "conn.commit()"
   ]
  },
  {
   "cell_type": "code",
   "execution_count": null,
   "id": "00526a1f",
   "metadata": {},
   "outputs": [],
   "source": [
    "# using csv reader\n",
    "csc_info = open(\"3csc - csc_info2.csv\")\n",
    "info_3csc = csv.reader(csc_info)\n",
    "info_3csc"
   ]
  },
  {
   "cell_type": "code",
   "execution_count": null,
   "id": "0c0ba3a1",
   "metadata": {},
   "outputs": [],
   "source": [
    "# creating a list\n",
    "info = list(info_3csc)\n",
    "info"
   ]
  },
  {
   "cell_type": "code",
   "execution_count": null,
   "id": "54a46bba",
   "metadata": {},
   "outputs": [],
   "source": [
    "c.executemany(\"\"\"\n",
    "    INSERT INTO info2 VALUES(%s, %s, %s, %s, %s)\n",
    "\"\"\", info)"
   ]
  },
  {
   "cell_type": "code",
   "execution_count": null,
   "id": "670c49b1",
   "metadata": {},
   "outputs": [],
   "source": [
    "complete_info2 = pd.read_sql_query(\"SELECT * FROM info2\", conn)\n",
    "complete_info2"
   ]
  },
  {
   "cell_type": "code",
   "execution_count": null,
   "id": "060e29d6",
   "metadata": {},
   "outputs": [],
   "source": [
    "conn.commit()"
   ]
  },
  {
   "cell_type": "code",
   "execution_count": null,
   "id": "89610b16",
   "metadata": {},
   "outputs": [],
   "source": [
    "query = \"\"\"\n",
    "    SELECT \n",
    "        *\n",
    "    FROM \n",
    "        students_3csc \n",
    "    INNER JOIN\n",
    "        info2\n",
    "    ON\n",
    "        id = applicant_no\n",
    "\"\"\"\n",
    "inner_join = pd.read_sql_query(query, conn)\n",
    "inner_join"
   ]
  },
  {
   "cell_type": "code",
   "execution_count": null,
   "id": "b2c5f681",
   "metadata": {},
   "outputs": [],
   "source": [
    "query = \"\"\"\n",
    "    SELECT \n",
    "        *\n",
    "    FROM \n",
    "        students_3csc \n",
    "    LEFT JOIN\n",
    "        info2\n",
    "    ON\n",
    "        id = applicant_no\n",
    "\"\"\"\n",
    "left_join = pd.read_sql_query(query, conn)\n",
    "left_join"
   ]
  },
  {
   "cell_type": "code",
   "execution_count": null,
   "id": "e4e2f54c",
   "metadata": {},
   "outputs": [],
   "source": [
    "# using of pandas and engine to insert csv into the database\n",
    "from sqlalchemy import create_engine"
   ]
  },
  {
   "cell_type": "code",
   "execution_count": null,
   "id": "e69d8642",
   "metadata": {},
   "outputs": [],
   "source": [
    "engine = create_engine('mysql+mysqlconnector://root:@Ngelo8998@localhost:3306/dw_3csc')"
   ]
  },
  {
   "cell_type": "code",
   "execution_count": null,
   "id": "5229e58b",
   "metadata": {},
   "outputs": [],
   "source": [
    "csv = pd.read_csv(\"3csc - csc_info2.csv\")"
   ]
  },
  {
   "cell_type": "code",
   "execution_count": null,
   "id": "aa5fee6e",
   "metadata": {},
   "outputs": [],
   "source": [
    "csv.to_sql(\"info2\", engine, index = False, if_exists = \"replace\")"
   ]
  },
  {
   "cell_type": "code",
   "execution_count": null,
   "id": "1aaa98ee",
   "metadata": {},
   "outputs": [],
   "source": [
    "query = \"\"\"\n",
    "    SELECT \n",
    "        id,\n",
    "        gwa\n",
    "    FROM \n",
    "        students_3csc \n",
    "    UNION\n",
    "    SELECT \n",
    "        applicant_no,\n",
    "        ustet_score\n",
    "    FROM \n",
    "        info2\n",
    "\"\"\"\n",
    "union = pd.read_sql_query(query, conn)\n",
    "union"
   ]
  },
  {
   "cell_type": "code",
   "execution_count": null,
   "id": "6384aae6",
   "metadata": {},
   "outputs": [],
   "source": [
    "query = \"\"\"\n",
    "    SELECT \n",
    "        id,\n",
    "        gwa\n",
    "    FROM \n",
    "        students_3csc \n",
    "    UNION ALL\n",
    "    SELECT \n",
    "        applicant_no,\n",
    "        ustet_score\n",
    "    FROM \n",
    "        info2\n",
    "\"\"\"\n",
    "union_all = pd.read_sql_query(query, conn)\n",
    "union_all"
   ]
  },
  {
   "cell_type": "code",
   "execution_count": null,
   "id": "d8d60c8b",
   "metadata": {},
   "outputs": [],
   "source": [
    "# Rollup\n",
    "query = ('''\n",
    "    SELECT \n",
    "    gender, gwa, age, AVG(gwa)\n",
    "    FROM students_3csc\n",
    "    GROUP BY gender, gwa, age WITH ROLLUP\n",
    "''')\n",
    "pd.read_sql(query, conn)"
   ]
  },
  {
   "cell_type": "code",
   "execution_count": null,
   "id": "2892caed",
   "metadata": {},
   "outputs": [],
   "source": []
  }
 ],
 "metadata": {
  "kernelspec": {
   "display_name": "Python 3",
   "language": "python",
   "name": "python3"
  },
  "language_info": {
   "codemirror_mode": {
    "name": "ipython",
    "version": 3
   },
   "file_extension": ".py",
   "mimetype": "text/x-python",
   "name": "python",
   "nbconvert_exporter": "python",
   "pygments_lexer": "ipython3",
   "version": "3.9.12"
  }
 },
 "nbformat": 4,
 "nbformat_minor": 5
}
