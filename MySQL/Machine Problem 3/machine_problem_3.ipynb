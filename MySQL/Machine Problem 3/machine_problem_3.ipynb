{
 "cells": [
  {
   "cell_type": "code",
   "execution_count": 1,
   "id": "4c4e8575",
   "metadata": {},
   "outputs": [],
   "source": [
    "import mysql.connector\n",
    "import pandas as pd\n",
    "from sqlalchemy import create_engine"
   ]
  },
  {
   "cell_type": "code",
   "execution_count": 2,
   "id": "432887a7",
   "metadata": {},
   "outputs": [],
   "source": [
    "conn = mysql.connector.connect(\n",
    "  host=\"localhost\",\n",
    "  user=\"root\",\n",
    "  password=\"@Ngelo8998\",\n",
    "  database=\"cust_database\"\n",
    ")"
   ]
  },
  {
   "cell_type": "code",
   "execution_count": 3,
   "id": "b40c0fbe",
   "metadata": {},
   "outputs": [],
   "source": [
    "c = conn.cursor()\n",
    "engine = create_engine(\"mysql+mysqlconnector://root:@Ngelo8998@localhost:3306/cust_database\")"
   ]
  },
  {
   "cell_type": "code",
   "execution_count": null,
   "id": "c54edb7c",
   "metadata": {},
   "outputs": [],
   "source": [
    "# Hizon\n",
    "c.execute(\"\"\"\n",
    "    CREATE TABLE customers(\n",
    "        customer_id INT PRIMARY KEY NOT NULL, \n",
    "        gender TEXT NOT NULL, \n",
    "        age INT NOT NULL,\n",
    "        annual_income INT NOT NULL,\n",
    "        spending_score INT NOT NULL\n",
    "    )\n",
    "\"\"\")"
   ]
  },
  {
   "cell_type": "code",
   "execution_count": null,
   "id": "ba59b55c",
   "metadata": {},
   "outputs": [],
   "source": [
    "conn.commit()"
   ]
  },
  {
   "cell_type": "code",
   "execution_count": 4,
   "id": "2558409d",
   "metadata": {},
   "outputs": [],
   "source": [
    "#Hizon\n",
    "batch_one = [\n",
    "    (1, \"Male\", 19, 15, 39),\n",
    "    (2, \"Male\", 21, 15, 81),\n",
    "    (3, \"Female\", 20, 16, 6),\n",
    "    (4, \"Female\", 23, 16, 77),\n",
    "    (5, \"Female\", 31, 17, 40),\n",
    "]"
   ]
  },
  {
   "cell_type": "code",
   "execution_count": 5,
   "id": "d8da56b8",
   "metadata": {},
   "outputs": [],
   "source": [
    "batch_one_list = list(batch_one)"
   ]
  },
  {
   "cell_type": "code",
   "execution_count": 6,
   "id": "5a71f928",
   "metadata": {},
   "outputs": [],
   "source": [
    "c.executemany(\"\"\"\n",
    "    INSERT INTO customers VALUES(%s, %s, %s, %s, %s)\n",
    "\"\"\", batch_one_list)"
   ]
  },
  {
   "cell_type": "code",
   "execution_count": 7,
   "id": "99882555",
   "metadata": {},
   "outputs": [],
   "source": [
    "conn.commit()"
   ]
  },
  {
   "cell_type": "code",
   "execution_count": null,
   "id": "45243b98",
   "metadata": {},
   "outputs": [],
   "source": [
    "# Hizon\n",
    "df1_db = pd.read_sql_query(\"SELECT * FROM customers\", conn)\n",
    "df1_db"
   ]
  },
  {
   "cell_type": "code",
   "execution_count": null,
   "id": "4426b3c3",
   "metadata": {},
   "outputs": [],
   "source": [
    "# Hizon\n",
    "customer_batch_one = pd.read_csv(\"Mall_Customers - customer_batch1.csv\")"
   ]
  },
  {
   "cell_type": "code",
   "execution_count": null,
   "id": "ab7350f7",
   "metadata": {},
   "outputs": [],
   "source": [
    "customer_batch_one.to_sql(\"customers\", engine, index = False, if_exists = \"append\")"
   ]
  },
  {
   "cell_type": "code",
   "execution_count": null,
   "id": "b3e7533d",
   "metadata": {},
   "outputs": [],
   "source": [
    "df1 = pd.read_sql_query(\"SELECT * FROM customers\", conn)\n",
    "df1.head()"
   ]
  },
  {
   "cell_type": "code",
   "execution_count": null,
   "id": "528071aa",
   "metadata": {},
   "outputs": [],
   "source": [
    "df1.tail()"
   ]
  },
  {
   "cell_type": "code",
   "execution_count": null,
   "id": "0e0b47a8",
   "metadata": {},
   "outputs": [],
   "source": [
    "# Hizon\n",
    "c.execute(\"\"\"\n",
    "    INSERT INTO customers VALUES(31, 'Male', 60, 30, 4)\n",
    "\"\"\")"
   ]
  },
  {
   "cell_type": "code",
   "execution_count": null,
   "id": "74e71fa3",
   "metadata": {},
   "outputs": [],
   "source": [
    "conn.commit()"
   ]
  },
  {
   "cell_type": "code",
   "execution_count": null,
   "id": "b4a40e0e",
   "metadata": {},
   "outputs": [],
   "source": [
    "df2 = pd.read_sql_query(\"SELECT * FROM customers\", conn)\n",
    "df2.head()"
   ]
  },
  {
   "cell_type": "code",
   "execution_count": null,
   "id": "68d76c51",
   "metadata": {},
   "outputs": [],
   "source": [
    "df2.tail()"
   ]
  },
  {
   "cell_type": "code",
   "execution_count": null,
   "id": "5bba0348",
   "metadata": {},
   "outputs": [],
   "source": [
    "query = \"\"\"\n",
    "    SELECT customer_id FROM customers WHERE spending_score < 20\n",
    "\"\"\"\n",
    "df3  = pd.read_sql_query(query, conn)\n",
    "df3.head()"
   ]
  },
  {
   "cell_type": "code",
   "execution_count": null,
   "id": "094f9e37",
   "metadata": {},
   "outputs": [],
   "source": [
    "query = \"\"\"\n",
    "    SELECT customer_id, gender FROM customers WHERE annual_income > 27\n",
    "\"\"\"\n",
    "df4  = pd.read_sql_query(query, conn)\n",
    "df4.head()"
   ]
  },
  {
   "cell_type": "code",
   "execution_count": null,
   "id": "8cec56db",
   "metadata": {},
   "outputs": [],
   "source": [
    "query = \"\"\"\n",
    "    SELECT customer_id, gender \n",
    "    FROM customers \n",
    "    WHERE age < 35 AND gender LIKE 'MALE'\n",
    "\"\"\"\n",
    "df5  = pd.read_sql_query(query, conn)\n",
    "df5.head()"
   ]
  },
  {
   "cell_type": "code",
   "execution_count": null,
   "id": "05027d6c",
   "metadata": {},
   "outputs": [],
   "source": [
    "# Hizon\n",
    "customer_batch_two = pd.read_csv(\"Mall_Customers - customer_batch2.csv\")"
   ]
  },
  {
   "cell_type": "code",
   "execution_count": null,
   "id": "fbfbd9c7",
   "metadata": {},
   "outputs": [],
   "source": [
    "customer_batch_two.to_sql(\"customers\", engine, index = False, if_exists = \"append\")"
   ]
  },
  {
   "cell_type": "code",
   "execution_count": null,
   "id": "7c43ca2f",
   "metadata": {},
   "outputs": [],
   "source": [
    "# Hizon\n",
    "df_csv = pd.read_sql_query(\"SELECT * FROM customers\", conn)\n",
    "df_csv"
   ]
  },
  {
   "cell_type": "code",
   "execution_count": null,
   "id": "ef97bf7b",
   "metadata": {},
   "outputs": [],
   "source": [
    "# Hizon\n",
    "df_csv.shape"
   ]
  },
  {
   "cell_type": "code",
   "execution_count": null,
   "id": "ce621ba9",
   "metadata": {},
   "outputs": [],
   "source": [
    "df_csv.to_csv('customer_batch.csv', index=False)"
   ]
  },
  {
   "cell_type": "code",
   "execution_count": null,
   "id": "6376fd45",
   "metadata": {},
   "outputs": [],
   "source": [
    "# Hizon\n",
    "query = \"\"\"\n",
    "    SELECT *\n",
    "    FROM customers \n",
    "    LIMIT 10\n",
    "\"\"\"\n",
    "c.execute(query)\n",
    "c.fetchmany(5)"
   ]
  },
  {
   "cell_type": "code",
   "execution_count": null,
   "id": "96f19246",
   "metadata": {},
   "outputs": [],
   "source": [
    "# Hizon\n",
    "query = \"\"\"\n",
    "    SELECT customer_id\n",
    "    FROM customers \n",
    "    WHERE age BETWEEN 25 AND 35\n",
    "\"\"\"\n",
    "c.execute(query)\n",
    "c.fetchmany(5)"
   ]
  },
  {
   "cell_type": "code",
   "execution_count": null,
   "id": "7ab17cc2",
   "metadata": {},
   "outputs": [],
   "source": [
    "# Hizon\n",
    "query = \"\"\"\n",
    "    SELECT customer_id, gender\n",
    "    FROM customers \n",
    "    WHERE spending_score > 75 AND gender LIKE 'Female'\n",
    "\"\"\"\n",
    "df8  = pd.read_sql_query(query, conn)\n",
    "df8"
   ]
  },
  {
   "cell_type": "code",
   "execution_count": null,
   "id": "336105d6",
   "metadata": {},
   "outputs": [],
   "source": [
    "# Hizon\n",
    "query = \"\"\"\n",
    "    SELECT customer_id, gender, age, annual_income, \n",
    "        spending_score, 73.347852 + age*-0.604787 AS new_spending_score \n",
    "    FROM customers \n",
    "\"\"\"\n",
    "df8  = pd.read_sql_query(query, conn)\n",
    "df8"
   ]
  },
  {
   "cell_type": "code",
   "execution_count": null,
   "id": "29130b66",
   "metadata": {},
   "outputs": [],
   "source": [
    "# Hizon\n",
    "customer_profile_two = pd.read_csv(\"Mall_Customers - cust_profile2.csv\")"
   ]
  },
  {
   "cell_type": "code",
   "execution_count": null,
   "id": "8f3cdfcf",
   "metadata": {},
   "outputs": [],
   "source": [
    "customer_profile_two.to_sql(\"customer_profile2\", engine, index = False, if_exists = \"replace\")"
   ]
  },
  {
   "cell_type": "code",
   "execution_count": null,
   "id": "d50b1208",
   "metadata": {},
   "outputs": [],
   "source": [
    "# Hizon\n",
    "query = \"\"\"\n",
    "    SELECT * FROM customer_profile2\n",
    "\"\"\"\n",
    "\n",
    "df9 = pd.read_sql_query(query, conn)\n",
    "df9"
   ]
  },
  {
   "cell_type": "code",
   "execution_count": null,
   "id": "ae6f8e29",
   "metadata": {},
   "outputs": [],
   "source": [
    "# Hizon\n",
    "query = \"\"\"\n",
    "    SELECT * FROM customers \n",
    "    INNER JOIN customer_profile2 \n",
    "    ON customer_id = cust_id\n",
    "\"\"\"\n",
    "\n",
    "df10 = pd.read_sql_query(query, conn)\n",
    "df10.head()"
   ]
  },
  {
   "cell_type": "code",
   "execution_count": null,
   "id": "cd50c473",
   "metadata": {},
   "outputs": [],
   "source": [
    "# Hizon\n",
    "query = \"\"\"\n",
    "    SELECT * FROM customers \n",
    "    LEFT JOIN customer_profile2 \n",
    "    ON customer_id = cust_id\n",
    "\"\"\"\n",
    "\n",
    "df11 = pd.read_sql_query(query, conn)\n",
    "df11.head()"
   ]
  },
  {
   "cell_type": "code",
   "execution_count": null,
   "id": "e0f42ee9",
   "metadata": {},
   "outputs": [],
   "source": [
    "# Hizon\n",
    "query = \"\"\"\n",
    "    SELECT * FROM customers \n",
    "    FULL JOIN customer_profile2 \n",
    "    ON customer_id = cust_id\n",
    "\"\"\"\n",
    "\n",
    "df12 = pd.read_sql_query(query, conn)\n",
    "df12.head()"
   ]
  },
  {
   "cell_type": "code",
   "execution_count": null,
   "id": "11aa311a",
   "metadata": {},
   "outputs": [],
   "source": [
    "# Hizon\n",
    "query = \"\"\"\n",
    "    SELECT * FROM customers \n",
    "    UNION\n",
    "    SELECT * FROM customer_profile2\n",
    "\"\"\"\n",
    "\n",
    "df13 = pd.read_sql_query(query, conn)\n",
    "df13.head()"
   ]
  },
  {
   "cell_type": "code",
   "execution_count": null,
   "id": "a2bbe151",
   "metadata": {},
   "outputs": [],
   "source": [
    "df13.tail()"
   ]
  },
  {
   "cell_type": "code",
   "execution_count": null,
   "id": "af3ffbc2",
   "metadata": {},
   "outputs": [],
   "source": [
    "# Hizon\n",
    "query = \"\"\"\n",
    "    SELECT customer_id, age, education, gender\n",
    "    FROM customers\n",
    "    INNER JOIN\n",
    "    customer_profile2\n",
    "    ON customer_id = cust_id\n",
    "    WHERE age < 40 AND gender LIKE 'Female' AND education LIKE 'college'\n",
    "\"\"\"\n",
    "\n",
    "df14 = pd.read_sql_query(query, conn)\n",
    "df14.head()"
   ]
  },
  {
   "cell_type": "code",
   "execution_count": null,
   "id": "71dafbf6",
   "metadata": {},
   "outputs": [],
   "source": [
    "df14.tail()"
   ]
  },
  {
   "cell_type": "code",
   "execution_count": null,
   "id": "772d5c0c",
   "metadata": {},
   "outputs": [],
   "source": [
    "# Hizon\n",
    "query = \"\"\"\n",
    "    SELECT cust_id, siblings, SUM(siblings) AS sum_siblings\n",
    "    FROM \n",
    "    customer_profile2\n",
    "    GROUP BY cust_id, siblings\n",
    "    ORDER BY SUM(siblings)\n",
    "\"\"\"\n",
    "\n",
    "df15 = pd.read_sql_query(query, conn)\n",
    "df15"
   ]
  },
  {
   "cell_type": "code",
   "execution_count": null,
   "id": "6adf432c",
   "metadata": {},
   "outputs": [],
   "source": [
    "# Hizon\n",
    "query = \"\"\"\n",
    "    SELECT customer_id, age, AVG(spending_score) AS average_spending_scores\n",
    "    FROM \n",
    "    customers\n",
    "    GROUP BY customer_id, age\n",
    "    UNION\n",
    "    SELECT customer_id, MAX(age), AVG(spending_score) AS average_spending_scores\n",
    "    FROM\n",
    "    customers\n",
    "    GROUP BY customer_id\n",
    "\"\"\"\n",
    "\n",
    "df16 = pd.read_sql_query(query, conn)\n",
    "df16"
   ]
  },
  {
   "cell_type": "code",
   "execution_count": null,
   "id": "1095c126",
   "metadata": {},
   "outputs": [],
   "source": [
    "# Hizon\n",
    "query = \"\"\"\n",
    "    SELECT customer_id, age, annual_income, AVG(annual_income)\n",
    "    FROM customers\n",
    "    GROUP BY customer_id, age, annual_income WITH ROLLUP\n",
    "\"\"\"\n",
    "\n",
    "df16 = pd.read_sql_query(query, conn)\n",
    "df16"
   ]
  },
  {
   "cell_type": "code",
   "execution_count": null,
   "id": "7ff5fed3",
   "metadata": {},
   "outputs": [],
   "source": []
  }
 ],
 "metadata": {
  "kernelspec": {
   "display_name": "Python 3",
   "language": "python",
   "name": "python3"
  },
  "language_info": {
   "codemirror_mode": {
    "name": "ipython",
    "version": 3
   },
   "file_extension": ".py",
   "mimetype": "text/x-python",
   "name": "python",
   "nbconvert_exporter": "python",
   "pygments_lexer": "ipython3",
   "version": "3.8.8"
  }
 },
 "nbformat": 4,
 "nbformat_minor": 5
}
