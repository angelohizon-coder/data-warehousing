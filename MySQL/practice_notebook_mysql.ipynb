{
 "cells": [
  {
   "cell_type": "code",
   "execution_count": null,
   "id": "4dd39fe7",
   "metadata": {},
   "outputs": [],
   "source": [
    "import mysql.connector \n",
    "import pandas as pd"
   ]
  },
  {
   "cell_type": "code",
   "execution_count": null,
   "id": "ed1e8d58",
   "metadata": {},
   "outputs": [],
   "source": [
    "conn = mysql.connector.connect(\n",
    "    host = \"localhost\", \n",
    "    user = \"root\", \n",
    "    password = \"@Ngelo8998\",\n",
    "    database = \"dw_3csc\"\n",
    ")"
   ]
  },
  {
   "cell_type": "code",
   "execution_count": null,
   "id": "18585033",
   "metadata": {},
   "outputs": [],
   "source": [
    "c = conn.cursor()"
   ]
  },
  {
   "cell_type": "code",
   "execution_count": null,
   "id": "2fd451a5",
   "metadata": {},
   "outputs": [],
   "source": [
    "c.execute(\"\"\"\n",
    "    CREATE TABLE \n",
    "        students_3csc(id INT PRIMARY KEY NOT NULL, \n",
    "        firstname TEXT NOT NULL, \n",
    "        familyname TEXT NOT NULL, \n",
    "        age INT NOT NULL, \n",
    "        gwa REAL NOT NULL, \n",
    "        gender TEXT NOT NULL)\n",
    "\"\"\")"
   ]
  },
  {
   "cell_type": "code",
   "execution_count": null,
   "id": "eba4d5c1",
   "metadata": {},
   "outputs": [],
   "source": [
    "conn.commit()"
   ]
  },
  {
   "cell_type": "code",
   "execution_count": null,
   "id": "2be94b60",
   "metadata": {},
   "outputs": [],
   "source": [
    "c.execute(\"\"\"\n",
    "    INSERT INTO \n",
    "        students_3csc\n",
    "    VALUES\n",
    "        (2018107987, 'John Louise', 'Lagazo', 21, 1.69, 'M')\n",
    "\"\"\")"
   ]
  },
  {
   "cell_type": "code",
   "execution_count": null,
   "id": "d3ad7849",
   "metadata": {},
   "outputs": [],
   "source": [
    "conn.commit()"
   ]
  },
  {
   "cell_type": "code",
   "execution_count": null,
   "id": "dea3fec3",
   "metadata": {},
   "outputs": [],
   "source": [
    "c.execute(\"SELECT * FROM students_3csc\")"
   ]
  },
  {
   "cell_type": "code",
   "execution_count": null,
   "id": "882675b9",
   "metadata": {},
   "outputs": [],
   "source": [
    "c.fetchall()"
   ]
  },
  {
   "cell_type": "code",
   "execution_count": null,
   "id": "963336ad",
   "metadata": {},
   "outputs": [],
   "source": [
    "test = [(2021193093, 'Louise', 'Legazpi', 19, 1.420, 'M')]"
   ]
  },
  {
   "cell_type": "code",
   "execution_count": null,
   "id": "904d1476",
   "metadata": {},
   "outputs": [],
   "source": [
    "test_list = list(test)"
   ]
  },
  {
   "cell_type": "code",
   "execution_count": null,
   "id": "2a7dcfa0",
   "metadata": {},
   "outputs": [],
   "source": [
    "c.executemany(\"\"\"\n",
    "    INSERT INTO \n",
    "        students_3csc\n",
    "    VALUES\n",
    "        (%s, %s, %s, %s, %s, %s)\n",
    "\"\"\", test_list)"
   ]
  },
  {
   "cell_type": "code",
   "execution_count": null,
   "id": "71cf49c0",
   "metadata": {},
   "outputs": [],
   "source": [
    "conn.commit()"
   ]
  },
  {
   "cell_type": "code",
   "execution_count": null,
   "id": "4a84bcd2",
   "metadata": {},
   "outputs": [],
   "source": [
    "id = input(\"id: \")\n",
    "firstname = input(\"firstname: \")\n",
    "familyname = input(\"familyname: \")\n",
    "age = input(\"age: \")\n",
    "gwa = input(\"gwa: \")\n",
    "gender = input(\"gender: \")"
   ]
  },
  {
   "cell_type": "code",
   "execution_count": null,
   "id": "ddcbdef9",
   "metadata": {},
   "outputs": [],
   "source": [
    "c.execute(\"\"\"\n",
    "    INSERT INTO \n",
    "        students_3csc\n",
    "    VALUES\n",
    "        (%s, %s, %s, %s, %s, %s)\n",
    "\"\"\", (id, firstname, familyname, age, gwa, gender))"
   ]
  },
  {
   "cell_type": "code",
   "execution_count": null,
   "id": "debbd463",
   "metadata": {},
   "outputs": [],
   "source": [
    "conn.commit()"
   ]
  },
  {
   "cell_type": "code",
   "execution_count": null,
   "id": "5951b33f",
   "metadata": {},
   "outputs": [],
   "source": [
    "df1 = pd.read_sql_query(\"SELECT * FROM students_3csc\", conn)\n",
    "df1"
   ]
  },
  {
   "cell_type": "code",
   "execution_count": null,
   "id": "1d0f7e47",
   "metadata": {},
   "outputs": [],
   "source": [
    "import csv\n",
    "import csv as reader"
   ]
  },
  {
   "cell_type": "code",
   "execution_count": null,
   "id": "8f16c5e2",
   "metadata": {},
   "outputs": [],
   "source": [
    "# using csv reader\n",
    "csc_g1 = open(\"3csc - csc_g1.csv\")\n",
    "g1_3csc = csv.reader(csc_g1)\n",
    "g1_3csc"
   ]
  },
  {
   "cell_type": "code",
   "execution_count": null,
   "id": "37f0b303",
   "metadata": {},
   "outputs": [],
   "source": [
    "# creating a list\n",
    "g1 = list(csv.reader(csc_g1))\n",
    "g1"
   ]
  },
  {
   "cell_type": "code",
   "execution_count": null,
   "id": "7dba5d72",
   "metadata": {},
   "outputs": [],
   "source": [
    "c.executemany(\"\"\"\n",
    "    INSERT INTO students_3csc VALUES(%s, %s, %s, %s, %s, %s)\n",
    "\"\"\", g1)"
   ]
  },
  {
   "cell_type": "code",
   "execution_count": null,
   "id": "33fcee2b",
   "metadata": {},
   "outputs": [],
   "source": [
    "conn.commit()"
   ]
  },
  {
   "cell_type": "code",
   "execution_count": null,
   "id": "c015e0c5",
   "metadata": {},
   "outputs": [],
   "source": [
    "df_g1 = pd.read_sql_query(\"SELECT * FROM students_3csc\", conn)\n",
    "df_g1"
   ]
  },
  {
   "cell_type": "code",
   "execution_count": null,
   "id": "7356e9b6",
   "metadata": {},
   "outputs": [],
   "source": [
    "csc_g2 = open(\"3csc - csc_g2.csv\")\n",
    "g2_3csc = csv.reader(csc_g2)\n",
    "g2_3csc"
   ]
  },
  {
   "cell_type": "code",
   "execution_count": null,
   "id": "904f9a2b",
   "metadata": {},
   "outputs": [],
   "source": [
    "# creating a list\n",
    "g2 = list(g2_3csc)\n",
    "g2"
   ]
  },
  {
   "cell_type": "code",
   "execution_count": null,
   "id": "025df75b",
   "metadata": {},
   "outputs": [],
   "source": [
    "c.executemany(\"\"\"\n",
    "    INSERT INTO students_3csc VALUES(%s, %s, %s, %s, %s, %s)\n",
    "\"\"\", g2)"
   ]
  },
  {
   "cell_type": "code",
   "execution_count": null,
   "id": "bba2f002",
   "metadata": {},
   "outputs": [],
   "source": [
    "df_g1_and_g2 = pd.read_sql_query(\"SELECT * FROM students_3csc\", conn)\n",
    "df_g1_and_g2"
   ]
  },
  {
   "cell_type": "code",
   "execution_count": null,
   "id": "5b25603e",
   "metadata": {},
   "outputs": [],
   "source": [
    "c.execute(\"\"\"\n",
    "    CREATE TABLE info2(\n",
    "        applicant_no INT NOT NULL PRIMARY KEY,\n",
    "        ustet_score REAL NOT NULL,\n",
    "        jhs_gwa REAL NOT NULL,\n",
    "        shs_gwa REAL NOT NULL, \n",
    "        strand TEXT NOT NULL\n",
    "    )\n",
    "\"\"\")"
   ]
  },
  {
   "cell_type": "code",
   "execution_count": null,
   "id": "c4b9133c",
   "metadata": {},
   "outputs": [],
   "source": [
    "conn.commit()"
   ]
  },
  {
   "cell_type": "code",
   "execution_count": null,
   "id": "00526a1f",
   "metadata": {},
   "outputs": [],
   "source": [
    "# using csv reader\n",
    "csc_info = open(\"3csc - csc_info2.csv\")\n",
    "info_3csc = csv.reader(csc_info)\n",
    "info_3csc"
   ]
  },
  {
   "cell_type": "code",
   "execution_count": null,
   "id": "0c0ba3a1",
   "metadata": {},
   "outputs": [],
   "source": [
    "# creating a list\n",
    "info = list(info_3csc)\n",
    "info"
   ]
  },
  {
   "cell_type": "code",
   "execution_count": null,
   "id": "54a46bba",
   "metadata": {},
   "outputs": [],
   "source": [
    "c.executemany(\"\"\"\n",
    "    INSERT INTO info2 VALUES(%s, %s, %s, %s, %s)\n",
    "\"\"\", info)"
   ]
  },
  {
   "cell_type": "code",
   "execution_count": null,
   "id": "670c49b1",
   "metadata": {},
   "outputs": [],
   "source": [
    "complete_info2 = pd.read_sql_query(\"SELECT * FROM info2\", conn)\n",
    "complete_info2"
   ]
  },
  {
   "cell_type": "code",
   "execution_count": null,
   "id": "060e29d6",
   "metadata": {},
   "outputs": [],
   "source": [
    "conn.commit()"
   ]
  },
  {
   "cell_type": "code",
   "execution_count": null,
   "id": "89610b16",
   "metadata": {},
   "outputs": [],
   "source": [
    "query = \"\"\"\n",
    "    SELECT \n",
    "        *\n",
    "    FROM \n",
    "        students_3csc \n",
    "    INNER JOIN\n",
    "        info2\n",
    "    ON\n",
    "        id = applicant_no\n",
    "\"\"\"\n",
    "inner_join = pd.read_sql_query(query, conn)\n",
    "inner_join"
   ]
  },
  {
   "cell_type": "code",
   "execution_count": null,
   "id": "b2c5f681",
   "metadata": {},
   "outputs": [],
   "source": [
    "query = \"\"\"\n",
    "    SELECT \n",
    "        *\n",
    "    FROM \n",
    "        students_3csc \n",
    "    LEFT JOIN\n",
    "        info2\n",
    "    ON\n",
    "        id = applicant_no\n",
    "\"\"\"\n",
    "left_join = pd.read_sql_query(query, conn)\n",
    "left_join"
   ]
  },
  {
   "cell_type": "code",
   "execution_count": null,
   "id": "e4e2f54c",
   "metadata": {},
   "outputs": [],
   "source": [
    "# using of pandas and engine to insert csv into the database\n",
    "from sqlalchemy import create_engine"
   ]
  },
  {
   "cell_type": "code",
   "execution_count": null,
   "id": "e69d8642",
   "metadata": {},
   "outputs": [],
   "source": [
    "engine = create_engine('mysql+mysqlconnector://root:@Ngelo8998@localhost:3306/dw_3csc')"
   ]
  },
  {
   "cell_type": "code",
   "execution_count": null,
   "id": "5229e58b",
   "metadata": {},
   "outputs": [],
   "source": [
    "csv = pd.read_csv(\"3csc - csc_info2.csv\")"
   ]
  },
  {
   "cell_type": "code",
   "execution_count": null,
   "id": "aa5fee6e",
   "metadata": {},
   "outputs": [],
   "source": [
    "csv.to_sql(\"info2\", engine, index = False, if_exists = \"replace\")"
   ]
  },
  {
   "cell_type": "code",
   "execution_count": null,
   "id": "1aaa98ee",
   "metadata": {},
   "outputs": [],
   "source": [
    "query = \"\"\"\n",
    "    SELECT \n",
    "        id,\n",
    "        gwa\n",
    "    FROM \n",
    "        students_3csc \n",
    "    UNION\n",
    "    SELECT \n",
    "        applicant_no,\n",
    "        ustet_score\n",
    "    FROM \n",
    "        info2\n",
    "\"\"\"\n",
    "union = pd.read_sql_query(query, conn)\n",
    "union"
   ]
  },
  {
   "cell_type": "code",
   "execution_count": null,
   "id": "6384aae6",
   "metadata": {},
   "outputs": [],
   "source": [
    "query = \"\"\"\n",
    "    SELECT \n",
    "        id,\n",
    "        gwa\n",
    "    FROM \n",
    "        students_3csc \n",
    "    UNION ALL\n",
    "    SELECT \n",
    "        applicant_no,\n",
    "        ustet_score\n",
    "    FROM \n",
    "        info2\n",
    "\"\"\"\n",
    "union_all = pd.read_sql_query(query, conn)\n",
    "union_all"
   ]
  },
  {
   "cell_type": "code",
   "execution_count": null,
   "id": "d8d60c8b",
   "metadata": {},
   "outputs": [],
   "source": [
    "# Rollup\n",
    "query = ('''\n",
    "    SELECT \n",
    "    gender, gwa, age, AVG(gwa)\n",
    "    FROM students_3csc\n",
    "    GROUP BY gender, gwa, age WITH ROLLUP\n",
    "''')\n",
    "pd.read_sql(query, conn)"
   ]
  },
  {
   "cell_type": "code",
   "execution_count": null,
   "id": "2892caed",
   "metadata": {},
   "outputs": [],
   "source": []
  }
 ],
 "metadata": {
  "kernelspec": {
   "display_name": "Python 3",
   "language": "python",
   "name": "python3"
  },
  "language_info": {
   "codemirror_mode": {
    "name": "ipython",
    "version": 3
   },
   "file_extension": ".py",
   "mimetype": "text/x-python",
   "name": "python",
   "nbconvert_exporter": "python",
   "pygments_lexer": "ipython3",
   "version": "3.9.12"
  }
 },
 "nbformat": 4,
 "nbformat_minor": 5
}
