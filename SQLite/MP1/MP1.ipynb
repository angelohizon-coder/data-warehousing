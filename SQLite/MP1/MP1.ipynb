{
 "cells": [
  {
   "cell_type": "code",
   "execution_count": 8,
   "id": "337f32e2",
   "metadata": {},
   "outputs": [],
   "source": [
    "import sqlite3 as sql"
   ]
  },
  {
   "cell_type": "code",
   "execution_count": 9,
   "id": "6601718f",
   "metadata": {},
   "outputs": [],
   "source": [
    "conn = sql.connect(\"dw_mp1.db\")"
   ]
  },
  {
   "cell_type": "code",
   "execution_count": 10,
   "id": "0143a436",
   "metadata": {},
   "outputs": [],
   "source": [
    "cursor = conn.cursor()"
   ]
  },
  {
   "cell_type": "code",
   "execution_count": 11,
   "id": "eebf1bdb",
   "metadata": {},
   "outputs": [],
   "source": [
    "import pandas as pd"
   ]
  },
  {
   "cell_type": "code",
   "execution_count": 12,
   "id": "1eb120ff",
   "metadata": {},
   "outputs": [
    {
     "data": {
      "text/html": [
       "<div>\n",
       "<style scoped>\n",
       "    .dataframe tbody tr th:only-of-type {\n",
       "        vertical-align: middle;\n",
       "    }\n",
       "\n",
       "    .dataframe tbody tr th {\n",
       "        vertical-align: top;\n",
       "    }\n",
       "\n",
       "    .dataframe thead th {\n",
       "        text-align: right;\n",
       "    }\n",
       "</style>\n",
       "<table border=\"1\" class=\"dataframe\">\n",
       "  <thead>\n",
       "    <tr style=\"text-align: right;\">\n",
       "      <th></th>\n",
       "      <th>Product_ID</th>\n",
       "      <th>Transaction_date</th>\n",
       "      <th>Product</th>\n",
       "      <th>Price</th>\n",
       "      <th>Payment_Type</th>\n",
       "      <th>Name</th>\n",
       "      <th>City</th>\n",
       "      <th>State</th>\n",
       "      <th>Country</th>\n",
       "    </tr>\n",
       "  </thead>\n",
       "  <tbody>\n",
       "    <tr>\n",
       "      <th>0</th>\n",
       "      <td>10000</td>\n",
       "      <td>1/1/09 4:24</td>\n",
       "      <td>Product3</td>\n",
       "      <td>7500</td>\n",
       "      <td>Amex</td>\n",
       "      <td>Pamela</td>\n",
       "      <td>Skaneateles</td>\n",
       "      <td>NY</td>\n",
       "      <td>United States</td>\n",
       "    </tr>\n",
       "    <tr>\n",
       "      <th>1</th>\n",
       "      <td>10001</td>\n",
       "      <td>1/8/09 11:55</td>\n",
       "      <td>Product1</td>\n",
       "      <td>1200</td>\n",
       "      <td>Diners</td>\n",
       "      <td>julie</td>\n",
       "      <td>Haverhill</td>\n",
       "      <td>England</td>\n",
       "      <td>United Kingdom</td>\n",
       "    </tr>\n",
       "    <tr>\n",
       "      <th>2</th>\n",
       "      <td>10002</td>\n",
       "      <td>1/12/09 21:30</td>\n",
       "      <td>Product1</td>\n",
       "      <td>1200</td>\n",
       "      <td>Visa</td>\n",
       "      <td>Julia</td>\n",
       "      <td>Madison</td>\n",
       "      <td>WI</td>\n",
       "      <td>United States</td>\n",
       "    </tr>\n",
       "  </tbody>\n",
       "</table>\n",
       "</div>"
      ],
      "text/plain": [
       "   Product_ID Transaction_date   Product  Price Payment_Type    Name  \\\n",
       "0       10000      1/1/09 4:24  Product3   7500         Amex  Pamela   \n",
       "1       10001     1/8/09 11:55  Product1   1200       Diners   julie   \n",
       "2       10002    1/12/09 21:30  Product1   1200         Visa   Julia   \n",
       "\n",
       "          City    State         Country  \n",
       "0  Skaneateles       NY   United States  \n",
       "1    Haverhill  England  United Kingdom  \n",
       "2      Madison       WI   United States  "
      ]
     },
     "execution_count": 12,
     "metadata": {},
     "output_type": "execute_result"
    }
   ],
   "source": [
    "df_db = pd.read_sql_query('SELECT * FROM sales', conn)\n",
    "df_db\n",
    "#Angelo Louis L. Hizon"
   ]
  },
  {
   "cell_type": "code",
   "execution_count": 13,
   "id": "9c7841a7",
   "metadata": {},
   "outputs": [],
   "source": [
    "sales_information = [(10003,'1/26/09 13:41','Product1',1200,'Mastercard','Lesleigh','Baden','Aargau','Switzerland'),\n",
    "                  (10004,'1/20/09 10:42','Product2',3600,'Diners','esther','Huddersfield','England','United Kingdom'),\n",
    "                  (10005,'1/22/09 14:25','Product1',1200,'Visa','Hans-Joerg','Belfast','Northern Ireland','United Kingdom'),\n",
    "                  (10006,'1/28/09 5:36','Product2',3600,'Visa','Christiane','Black River','Black River','Mauritius')]\n",
    "#Angelo Louis L. Hizon"
   ]
  },
  {
   "cell_type": "code",
   "execution_count": 14,
   "id": "cb13a508",
   "metadata": {},
   "outputs": [
    {
     "data": {
      "text/plain": [
       "<sqlite3.Cursor at 0x1d278498490>"
      ]
     },
     "execution_count": 14,
     "metadata": {},
     "output_type": "execute_result"
    }
   ],
   "source": [
    "cursor.executemany(\"INSERT INTO sales VALUES(?, ?, ?, ?, ?, ?, ?, ? ,?)\", sales_information)"
   ]
  },
  {
   "cell_type": "code",
   "execution_count": 15,
   "id": "04c182b0",
   "metadata": {},
   "outputs": [],
   "source": [
    "conn.commit()"
   ]
  },
  {
   "cell_type": "code",
   "execution_count": null,
   "id": "77d87a38",
   "metadata": {},
   "outputs": [],
   "source": [
    "cursor.execute(\"SELECT * FROM sales LIMIT 4\")\n",
    "list = cursor.fetchall()"
   ]
  },
  {
   "cell_type": "code",
   "execution_count": null,
   "id": "5643d768",
   "metadata": {},
   "outputs": [],
   "source": [
    "for sales in list:\n",
    "    print(sales[0], '-', sales[1], '-', sales[2], '-', sales[3], '-', sales[4], '-', sales[5], '-', sales[6], '-', \n",
    "          sales[7], '-', sales[8])\n",
    "#Angelo Louis L. Hizon"
   ]
  },
  {
   "cell_type": "code",
   "execution_count": null,
   "id": "ab4eb00d",
   "metadata": {},
   "outputs": [],
   "source": [
    "cursor.execute(\"SELECT * FROM sales\")\n",
    "list = cursor.fetchall()"
   ]
  },
  {
   "cell_type": "code",
   "execution_count": null,
   "id": "9a2ad817",
   "metadata": {},
   "outputs": [],
   "source": [
    "for sales in list:\n",
    "    print(sales[0], '-', sales[1], '-', sales[2], '-', sales[3], '-', sales[4], '-', sales[5], '-', sales[6], '-', \n",
    "          sales[7], '-', sales[8])\n",
    "#Angelo Louis L. Hizon"
   ]
  },
  {
   "cell_type": "code",
   "execution_count": null,
   "id": "4a952167",
   "metadata": {},
   "outputs": [],
   "source": [
    "cursor.execute(\"SELECT Name, City FROM sales\")\n",
    "list = cursor.fetchall()"
   ]
  },
  {
   "cell_type": "code",
   "execution_count": null,
   "id": "bca6f58c",
   "metadata": {},
   "outputs": [],
   "source": [
    "for sales in list:\n",
    "    print(sales[0], '-' , sales[1])\n",
    "#Angelo Louis L. Hizon"
   ]
  },
  {
   "cell_type": "code",
   "execution_count": null,
   "id": "1c57536a",
   "metadata": {},
   "outputs": [],
   "source": [
    "cursor.execute(\"SELECT Product, Payment_Type FROM sales WHERE price < 3000\")\n",
    "list = cursor.fetchall()"
   ]
  },
  {
   "cell_type": "code",
   "execution_count": null,
   "id": "31007221",
   "metadata": {},
   "outputs": [],
   "source": [
    "for sales in list:\n",
    "    print(sales[0], '-' , sales[1])\n",
    "#Angelo Louis L. Hizon"
   ]
  },
  {
   "cell_type": "code",
   "execution_count": 5,
   "id": "e10cea1d",
   "metadata": {
    "scrolled": true
   },
   "outputs": [
    {
     "data": {
      "text/html": [
       "<div>\n",
       "<style scoped>\n",
       "    .dataframe tbody tr th:only-of-type {\n",
       "        vertical-align: middle;\n",
       "    }\n",
       "\n",
       "    .dataframe tbody tr th {\n",
       "        vertical-align: top;\n",
       "    }\n",
       "\n",
       "    .dataframe thead th {\n",
       "        text-align: right;\n",
       "    }\n",
       "</style>\n",
       "<table border=\"1\" class=\"dataframe\">\n",
       "  <thead>\n",
       "    <tr style=\"text-align: right;\">\n",
       "      <th></th>\n",
       "      <th>Product_ID</th>\n",
       "      <th>Transaction_date</th>\n",
       "      <th>Product</th>\n",
       "      <th>Price</th>\n",
       "      <th>Payment_Type</th>\n",
       "      <th>Name</th>\n",
       "      <th>City</th>\n",
       "      <th>State</th>\n",
       "      <th>Country</th>\n",
       "    </tr>\n",
       "  </thead>\n",
       "  <tbody>\n",
       "    <tr>\n",
       "      <th>0</th>\n",
       "      <td>10007</td>\n",
       "      <td>01/02/2009 6:17</td>\n",
       "      <td>Product1</td>\n",
       "      <td>1200</td>\n",
       "      <td>Mastercard</td>\n",
       "      <td>carolina</td>\n",
       "      <td>Basildon</td>\n",
       "      <td>England</td>\n",
       "      <td>United Kingdom</td>\n",
       "    </tr>\n",
       "    <tr>\n",
       "      <th>1</th>\n",
       "      <td>10008</td>\n",
       "      <td>01/02/2009 4:53</td>\n",
       "      <td>Product1</td>\n",
       "      <td>1200</td>\n",
       "      <td>Visa</td>\n",
       "      <td>Betina</td>\n",
       "      <td>Parkville</td>\n",
       "      <td>MO</td>\n",
       "      <td>United States</td>\n",
       "    </tr>\n",
       "    <tr>\n",
       "      <th>2</th>\n",
       "      <td>10009</td>\n",
       "      <td>01/02/2009 13:08</td>\n",
       "      <td>Product1</td>\n",
       "      <td>1200</td>\n",
       "      <td>Mastercard</td>\n",
       "      <td>Federica e Andrea</td>\n",
       "      <td>Astoria</td>\n",
       "      <td>OR</td>\n",
       "      <td>United States</td>\n",
       "    </tr>\n",
       "    <tr>\n",
       "      <th>3</th>\n",
       "      <td>10010</td>\n",
       "      <td>01/03/2009 14:44</td>\n",
       "      <td>Product1</td>\n",
       "      <td>1200</td>\n",
       "      <td>Visa</td>\n",
       "      <td>Gouya</td>\n",
       "      <td>Echuca</td>\n",
       "      <td>Victoria</td>\n",
       "      <td>Australia</td>\n",
       "    </tr>\n",
       "    <tr>\n",
       "      <th>4</th>\n",
       "      <td>10011</td>\n",
       "      <td>01/04/2009 12:56</td>\n",
       "      <td>Product2</td>\n",
       "      <td>3600</td>\n",
       "      <td>Visa</td>\n",
       "      <td>Gerd W</td>\n",
       "      <td>Cahaba Heights</td>\n",
       "      <td>AL</td>\n",
       "      <td>United States</td>\n",
       "    </tr>\n",
       "    <tr>\n",
       "      <th>...</th>\n",
       "      <td>...</td>\n",
       "      <td>...</td>\n",
       "      <td>...</td>\n",
       "      <td>...</td>\n",
       "      <td>...</td>\n",
       "      <td>...</td>\n",
       "      <td>...</td>\n",
       "      <td>...</td>\n",
       "      <td>...</td>\n",
       "    </tr>\n",
       "    <tr>\n",
       "      <th>986</th>\n",
       "      <td>10993</td>\n",
       "      <td>01/07/2009 17:48</td>\n",
       "      <td>Product1</td>\n",
       "      <td>1200</td>\n",
       "      <td>Mastercard</td>\n",
       "      <td>Alex</td>\n",
       "      <td>Augusta</td>\n",
       "      <td>GA</td>\n",
       "      <td>United States</td>\n",
       "    </tr>\n",
       "    <tr>\n",
       "      <th>987</th>\n",
       "      <td>10994</td>\n",
       "      <td>1/23/09 12:42</td>\n",
       "      <td>Product2</td>\n",
       "      <td>3600</td>\n",
       "      <td>Mastercard</td>\n",
       "      <td>Anke</td>\n",
       "      <td>Avalon</td>\n",
       "      <td>New South Wales</td>\n",
       "      <td>Australia</td>\n",
       "    </tr>\n",
       "    <tr>\n",
       "      <th>988</th>\n",
       "      <td>10995</td>\n",
       "      <td>01/07/2009 19:48</td>\n",
       "      <td>Product2</td>\n",
       "      <td>3600</td>\n",
       "      <td>Mastercard</td>\n",
       "      <td>TRICIA</td>\n",
       "      <td>Sydney</td>\n",
       "      <td>New South Wales</td>\n",
       "      <td>Australia</td>\n",
       "    </tr>\n",
       "    <tr>\n",
       "      <th>989</th>\n",
       "      <td>10996</td>\n",
       "      <td>1/26/09 11:19</td>\n",
       "      <td>Product1</td>\n",
       "      <td>1200</td>\n",
       "      <td>Mastercard</td>\n",
       "      <td>smith</td>\n",
       "      <td>Lahti</td>\n",
       "      <td>Etela-Suomen Laani</td>\n",
       "      <td>Finland</td>\n",
       "    </tr>\n",
       "    <tr>\n",
       "      <th>990</th>\n",
       "      <td>10997</td>\n",
       "      <td>01/05/2009 13:23</td>\n",
       "      <td>Product1</td>\n",
       "      <td>1200</td>\n",
       "      <td>Visa</td>\n",
       "      <td>Macy</td>\n",
       "      <td>Inner City</td>\n",
       "      <td>Vienna</td>\n",
       "      <td>Austria</td>\n",
       "    </tr>\n",
       "  </tbody>\n",
       "</table>\n",
       "<p>991 rows × 9 columns</p>\n",
       "</div>"
      ],
      "text/plain": [
       "     Product_ID  Transaction_date   Product Price Payment_Type  \\\n",
       "0         10007   01/02/2009 6:17  Product1  1200   Mastercard   \n",
       "1         10008   01/02/2009 4:53  Product1  1200         Visa   \n",
       "2         10009  01/02/2009 13:08  Product1  1200   Mastercard   \n",
       "3         10010  01/03/2009 14:44  Product1  1200         Visa   \n",
       "4         10011  01/04/2009 12:56  Product2  3600         Visa   \n",
       "..          ...               ...       ...   ...          ...   \n",
       "986       10993  01/07/2009 17:48  Product1  1200   Mastercard   \n",
       "987       10994     1/23/09 12:42  Product2  3600   Mastercard   \n",
       "988       10995  01/07/2009 19:48  Product2  3600   Mastercard   \n",
       "989       10996     1/26/09 11:19  Product1  1200   Mastercard   \n",
       "990       10997  01/05/2009 13:23  Product1  1200         Visa   \n",
       "\n",
       "                  Name            City               State         Country  \n",
       "0             carolina        Basildon             England  United Kingdom  \n",
       "1               Betina       Parkville                  MO   United States  \n",
       "2    Federica e Andrea         Astoria                  OR   United States  \n",
       "3                Gouya          Echuca            Victoria       Australia  \n",
       "4               Gerd W  Cahaba Heights                  AL   United States  \n",
       "..                 ...             ...                 ...             ...  \n",
       "986               Alex         Augusta                  GA   United States  \n",
       "987               Anke          Avalon     New South Wales       Australia  \n",
       "988             TRICIA          Sydney     New South Wales       Australia  \n",
       "989              smith           Lahti  Etela-Suomen Laani         Finland  \n",
       "990               Macy      Inner City              Vienna         Austria  \n",
       "\n",
       "[991 rows x 9 columns]"
      ]
     },
     "execution_count": 5,
     "metadata": {},
     "output_type": "execute_result"
    }
   ],
   "source": [
    "df_csv = pd.read_csv('Sales - Sales.csv')\n",
    "df_csv"
   ]
  },
  {
   "cell_type": "code",
   "execution_count": 6,
   "id": "bc82cf54",
   "metadata": {},
   "outputs": [
    {
     "ename": "IntegrityError",
     "evalue": "UNIQUE constraint failed: sales.Product_ID",
     "output_type": "error",
     "traceback": [
      "\u001b[1;31m---------------------------------------------------------------------------\u001b[0m",
      "\u001b[1;31mIntegrityError\u001b[0m                            Traceback (most recent call last)",
      "\u001b[1;32m<ipython-input-6-fe1ea4fe18da>\u001b[0m in \u001b[0;36m<module>\u001b[1;34m\u001b[0m\n\u001b[1;32m----> 1\u001b[1;33m \u001b[0mdf_csv\u001b[0m\u001b[1;33m.\u001b[0m\u001b[0mto_sql\u001b[0m\u001b[1;33m(\u001b[0m\u001b[0mname\u001b[0m \u001b[1;33m=\u001b[0m \u001b[1;34m'sales'\u001b[0m\u001b[1;33m,\u001b[0m \u001b[0mcon\u001b[0m \u001b[1;33m=\u001b[0m \u001b[0mconn\u001b[0m\u001b[1;33m,\u001b[0m \u001b[0mindex\u001b[0m \u001b[1;33m=\u001b[0m \u001b[1;32mFalse\u001b[0m\u001b[1;33m,\u001b[0m \u001b[0mif_exists\u001b[0m \u001b[1;33m=\u001b[0m \u001b[1;34m'append'\u001b[0m\u001b[1;33m)\u001b[0m\u001b[1;33m\u001b[0m\u001b[1;33m\u001b[0m\u001b[0m\n\u001b[0m",
      "\u001b[1;32mC:\\ProgramData\\Anaconda3\\lib\\site-packages\\pandas\\core\\generic.py\u001b[0m in \u001b[0;36mto_sql\u001b[1;34m(self, name, con, schema, if_exists, index, index_label, chunksize, dtype, method)\u001b[0m\n\u001b[0;32m   2777\u001b[0m         \u001b[1;32mfrom\u001b[0m \u001b[0mpandas\u001b[0m\u001b[1;33m.\u001b[0m\u001b[0mio\u001b[0m \u001b[1;32mimport\u001b[0m \u001b[0msql\u001b[0m\u001b[1;33m\u001b[0m\u001b[1;33m\u001b[0m\u001b[0m\n\u001b[0;32m   2778\u001b[0m \u001b[1;33m\u001b[0m\u001b[0m\n\u001b[1;32m-> 2779\u001b[1;33m         sql.to_sql(\n\u001b[0m\u001b[0;32m   2780\u001b[0m             \u001b[0mself\u001b[0m\u001b[1;33m,\u001b[0m\u001b[1;33m\u001b[0m\u001b[1;33m\u001b[0m\u001b[0m\n\u001b[0;32m   2781\u001b[0m             \u001b[0mname\u001b[0m\u001b[1;33m,\u001b[0m\u001b[1;33m\u001b[0m\u001b[1;33m\u001b[0m\u001b[0m\n",
      "\u001b[1;32mC:\\ProgramData\\Anaconda3\\lib\\site-packages\\pandas\\io\\sql.py\u001b[0m in \u001b[0;36mto_sql\u001b[1;34m(frame, name, con, schema, if_exists, index, index_label, chunksize, dtype, method)\u001b[0m\n\u001b[0;32m    599\u001b[0m         )\n\u001b[0;32m    600\u001b[0m \u001b[1;33m\u001b[0m\u001b[0m\n\u001b[1;32m--> 601\u001b[1;33m     pandas_sql.to_sql(\n\u001b[0m\u001b[0;32m    602\u001b[0m         \u001b[0mframe\u001b[0m\u001b[1;33m,\u001b[0m\u001b[1;33m\u001b[0m\u001b[1;33m\u001b[0m\u001b[0m\n\u001b[0;32m    603\u001b[0m         \u001b[0mname\u001b[0m\u001b[1;33m,\u001b[0m\u001b[1;33m\u001b[0m\u001b[1;33m\u001b[0m\u001b[0m\n",
      "\u001b[1;32mC:\\ProgramData\\Anaconda3\\lib\\site-packages\\pandas\\io\\sql.py\u001b[0m in \u001b[0;36mto_sql\u001b[1;34m(self, frame, name, if_exists, index, index_label, schema, chunksize, dtype, method)\u001b[0m\n\u001b[0;32m   1870\u001b[0m         )\n\u001b[0;32m   1871\u001b[0m         \u001b[0mtable\u001b[0m\u001b[1;33m.\u001b[0m\u001b[0mcreate\u001b[0m\u001b[1;33m(\u001b[0m\u001b[1;33m)\u001b[0m\u001b[1;33m\u001b[0m\u001b[1;33m\u001b[0m\u001b[0m\n\u001b[1;32m-> 1872\u001b[1;33m         \u001b[0mtable\u001b[0m\u001b[1;33m.\u001b[0m\u001b[0minsert\u001b[0m\u001b[1;33m(\u001b[0m\u001b[0mchunksize\u001b[0m\u001b[1;33m,\u001b[0m \u001b[0mmethod\u001b[0m\u001b[1;33m)\u001b[0m\u001b[1;33m\u001b[0m\u001b[1;33m\u001b[0m\u001b[0m\n\u001b[0m\u001b[0;32m   1873\u001b[0m \u001b[1;33m\u001b[0m\u001b[0m\n\u001b[0;32m   1874\u001b[0m     \u001b[1;32mdef\u001b[0m \u001b[0mhas_table\u001b[0m\u001b[1;33m(\u001b[0m\u001b[0mself\u001b[0m\u001b[1;33m,\u001b[0m \u001b[0mname\u001b[0m\u001b[1;33m,\u001b[0m \u001b[0mschema\u001b[0m\u001b[1;33m=\u001b[0m\u001b[1;32mNone\u001b[0m\u001b[1;33m)\u001b[0m\u001b[1;33m:\u001b[0m\u001b[1;33m\u001b[0m\u001b[1;33m\u001b[0m\u001b[0m\n",
      "\u001b[1;32mC:\\ProgramData\\Anaconda3\\lib\\site-packages\\pandas\\io\\sql.py\u001b[0m in \u001b[0;36minsert\u001b[1;34m(self, chunksize, method)\u001b[0m\n\u001b[0;32m    843\u001b[0m \u001b[1;33m\u001b[0m\u001b[0m\n\u001b[0;32m    844\u001b[0m                 \u001b[0mchunk_iter\u001b[0m \u001b[1;33m=\u001b[0m \u001b[0mzip\u001b[0m\u001b[1;33m(\u001b[0m\u001b[1;33m*\u001b[0m\u001b[1;33m[\u001b[0m\u001b[0marr\u001b[0m\u001b[1;33m[\u001b[0m\u001b[0mstart_i\u001b[0m\u001b[1;33m:\u001b[0m\u001b[0mend_i\u001b[0m\u001b[1;33m]\u001b[0m \u001b[1;32mfor\u001b[0m \u001b[0marr\u001b[0m \u001b[1;32min\u001b[0m \u001b[0mdata_list\u001b[0m\u001b[1;33m]\u001b[0m\u001b[1;33m)\u001b[0m\u001b[1;33m\u001b[0m\u001b[1;33m\u001b[0m\u001b[0m\n\u001b[1;32m--> 845\u001b[1;33m                 \u001b[0mexec_insert\u001b[0m\u001b[1;33m(\u001b[0m\u001b[0mconn\u001b[0m\u001b[1;33m,\u001b[0m \u001b[0mkeys\u001b[0m\u001b[1;33m,\u001b[0m \u001b[0mchunk_iter\u001b[0m\u001b[1;33m)\u001b[0m\u001b[1;33m\u001b[0m\u001b[1;33m\u001b[0m\u001b[0m\n\u001b[0m\u001b[0;32m    846\u001b[0m \u001b[1;33m\u001b[0m\u001b[0m\n\u001b[0;32m    847\u001b[0m     def _query_iterator(\n",
      "\u001b[1;32mC:\\ProgramData\\Anaconda3\\lib\\site-packages\\pandas\\io\\sql.py\u001b[0m in \u001b[0;36m_execute_insert\u001b[1;34m(self, conn, keys, data_iter)\u001b[0m\n\u001b[0;32m   1593\u001b[0m     \u001b[1;32mdef\u001b[0m \u001b[0m_execute_insert\u001b[0m\u001b[1;33m(\u001b[0m\u001b[0mself\u001b[0m\u001b[1;33m,\u001b[0m \u001b[0mconn\u001b[0m\u001b[1;33m,\u001b[0m \u001b[0mkeys\u001b[0m\u001b[1;33m,\u001b[0m \u001b[0mdata_iter\u001b[0m\u001b[1;33m)\u001b[0m\u001b[1;33m:\u001b[0m\u001b[1;33m\u001b[0m\u001b[1;33m\u001b[0m\u001b[0m\n\u001b[0;32m   1594\u001b[0m         \u001b[0mdata_list\u001b[0m \u001b[1;33m=\u001b[0m \u001b[0mlist\u001b[0m\u001b[1;33m(\u001b[0m\u001b[0mdata_iter\u001b[0m\u001b[1;33m)\u001b[0m\u001b[1;33m\u001b[0m\u001b[1;33m\u001b[0m\u001b[0m\n\u001b[1;32m-> 1595\u001b[1;33m         \u001b[0mconn\u001b[0m\u001b[1;33m.\u001b[0m\u001b[0mexecutemany\u001b[0m\u001b[1;33m(\u001b[0m\u001b[0mself\u001b[0m\u001b[1;33m.\u001b[0m\u001b[0minsert_statement\u001b[0m\u001b[1;33m(\u001b[0m\u001b[0mnum_rows\u001b[0m\u001b[1;33m=\u001b[0m\u001b[1;36m1\u001b[0m\u001b[1;33m)\u001b[0m\u001b[1;33m,\u001b[0m \u001b[0mdata_list\u001b[0m\u001b[1;33m)\u001b[0m\u001b[1;33m\u001b[0m\u001b[1;33m\u001b[0m\u001b[0m\n\u001b[0m\u001b[0;32m   1596\u001b[0m \u001b[1;33m\u001b[0m\u001b[0m\n\u001b[0;32m   1597\u001b[0m     \u001b[1;32mdef\u001b[0m \u001b[0m_execute_insert_multi\u001b[0m\u001b[1;33m(\u001b[0m\u001b[0mself\u001b[0m\u001b[1;33m,\u001b[0m \u001b[0mconn\u001b[0m\u001b[1;33m,\u001b[0m \u001b[0mkeys\u001b[0m\u001b[1;33m,\u001b[0m \u001b[0mdata_iter\u001b[0m\u001b[1;33m)\u001b[0m\u001b[1;33m:\u001b[0m\u001b[1;33m\u001b[0m\u001b[1;33m\u001b[0m\u001b[0m\n",
      "\u001b[1;31mIntegrityError\u001b[0m: UNIQUE constraint failed: sales.Product_ID"
     ]
    }
   ],
   "source": [
    "df_csv.to_sql(name = 'sales', con = conn, index = False, if_exists = 'append')"
   ]
  },
  {
   "cell_type": "code",
   "execution_count": null,
   "id": "7fc1391c",
   "metadata": {},
   "outputs": [],
   "source": [
    "cursor.execute(\"SELECT * FROM sales WHERE Product_ID BETWEEN 10000 AND 10009\")"
   ]
  },
  {
   "cell_type": "code",
   "execution_count": null,
   "id": "493a2b98",
   "metadata": {},
   "outputs": [],
   "source": [
    "cursor.fetchall()"
   ]
  },
  {
   "cell_type": "code",
   "execution_count": 7,
   "id": "1ecc68fd",
   "metadata": {},
   "outputs": [
    {
     "data": {
      "text/html": [
       "<div>\n",
       "<style scoped>\n",
       "    .dataframe tbody tr th:only-of-type {\n",
       "        vertical-align: middle;\n",
       "    }\n",
       "\n",
       "    .dataframe tbody tr th {\n",
       "        vertical-align: top;\n",
       "    }\n",
       "\n",
       "    .dataframe thead th {\n",
       "        text-align: right;\n",
       "    }\n",
       "</style>\n",
       "<table border=\"1\" class=\"dataframe\">\n",
       "  <thead>\n",
       "    <tr style=\"text-align: right;\">\n",
       "      <th></th>\n",
       "      <th>Product_ID</th>\n",
       "      <th>Transaction_date</th>\n",
       "      <th>Product</th>\n",
       "      <th>Price</th>\n",
       "      <th>Payment_Type</th>\n",
       "      <th>Name</th>\n",
       "      <th>City</th>\n",
       "      <th>State</th>\n",
       "      <th>Country</th>\n",
       "    </tr>\n",
       "  </thead>\n",
       "  <tbody>\n",
       "    <tr>\n",
       "      <th>0</th>\n",
       "      <td>10000</td>\n",
       "      <td>1/1/09 4:24</td>\n",
       "      <td>Product3</td>\n",
       "      <td>7500</td>\n",
       "      <td>Amex</td>\n",
       "      <td>Pamela</td>\n",
       "      <td>Skaneateles</td>\n",
       "      <td>NY</td>\n",
       "      <td>United States</td>\n",
       "    </tr>\n",
       "    <tr>\n",
       "      <th>1</th>\n",
       "      <td>10001</td>\n",
       "      <td>1/8/09 11:55</td>\n",
       "      <td>Product1</td>\n",
       "      <td>1200</td>\n",
       "      <td>Diners</td>\n",
       "      <td>julie</td>\n",
       "      <td>Haverhill</td>\n",
       "      <td>England</td>\n",
       "      <td>United Kingdom</td>\n",
       "    </tr>\n",
       "    <tr>\n",
       "      <th>2</th>\n",
       "      <td>10002</td>\n",
       "      <td>1/12/09 21:30</td>\n",
       "      <td>Product1</td>\n",
       "      <td>1200</td>\n",
       "      <td>Visa</td>\n",
       "      <td>Julia</td>\n",
       "      <td>Madison</td>\n",
       "      <td>WI</td>\n",
       "      <td>United States</td>\n",
       "    </tr>\n",
       "    <tr>\n",
       "      <th>3</th>\n",
       "      <td>10003</td>\n",
       "      <td>1/26/09 13:41</td>\n",
       "      <td>Product1</td>\n",
       "      <td>1200</td>\n",
       "      <td>Mastercard</td>\n",
       "      <td>Lesleigh</td>\n",
       "      <td>Baden</td>\n",
       "      <td>Aargau</td>\n",
       "      <td>Switzerland</td>\n",
       "    </tr>\n",
       "    <tr>\n",
       "      <th>4</th>\n",
       "      <td>10004</td>\n",
       "      <td>1/20/09 10:42</td>\n",
       "      <td>Product2</td>\n",
       "      <td>3600</td>\n",
       "      <td>Diners</td>\n",
       "      <td>esther</td>\n",
       "      <td>Huddersfield</td>\n",
       "      <td>England</td>\n",
       "      <td>United Kingdom</td>\n",
       "    </tr>\n",
       "    <tr>\n",
       "      <th>...</th>\n",
       "      <td>...</td>\n",
       "      <td>...</td>\n",
       "      <td>...</td>\n",
       "      <td>...</td>\n",
       "      <td>...</td>\n",
       "      <td>...</td>\n",
       "      <td>...</td>\n",
       "      <td>...</td>\n",
       "      <td>...</td>\n",
       "    </tr>\n",
       "    <tr>\n",
       "      <th>993</th>\n",
       "      <td>10993</td>\n",
       "      <td>01/07/2009 17:48</td>\n",
       "      <td>Product1</td>\n",
       "      <td>1200</td>\n",
       "      <td>Mastercard</td>\n",
       "      <td>Alex</td>\n",
       "      <td>Augusta</td>\n",
       "      <td>GA</td>\n",
       "      <td>United States</td>\n",
       "    </tr>\n",
       "    <tr>\n",
       "      <th>994</th>\n",
       "      <td>10994</td>\n",
       "      <td>1/23/09 12:42</td>\n",
       "      <td>Product2</td>\n",
       "      <td>3600</td>\n",
       "      <td>Mastercard</td>\n",
       "      <td>Anke</td>\n",
       "      <td>Avalon</td>\n",
       "      <td>New South Wales</td>\n",
       "      <td>Australia</td>\n",
       "    </tr>\n",
       "    <tr>\n",
       "      <th>995</th>\n",
       "      <td>10995</td>\n",
       "      <td>01/07/2009 19:48</td>\n",
       "      <td>Product2</td>\n",
       "      <td>3600</td>\n",
       "      <td>Mastercard</td>\n",
       "      <td>TRICIA</td>\n",
       "      <td>Sydney</td>\n",
       "      <td>New South Wales</td>\n",
       "      <td>Australia</td>\n",
       "    </tr>\n",
       "    <tr>\n",
       "      <th>996</th>\n",
       "      <td>10996</td>\n",
       "      <td>1/26/09 11:19</td>\n",
       "      <td>Product1</td>\n",
       "      <td>1200</td>\n",
       "      <td>Mastercard</td>\n",
       "      <td>smith</td>\n",
       "      <td>Lahti</td>\n",
       "      <td>Etela-Suomen Laani</td>\n",
       "      <td>Finland</td>\n",
       "    </tr>\n",
       "    <tr>\n",
       "      <th>997</th>\n",
       "      <td>10997</td>\n",
       "      <td>01/05/2009 13:23</td>\n",
       "      <td>Product1</td>\n",
       "      <td>1200</td>\n",
       "      <td>Visa</td>\n",
       "      <td>Macy</td>\n",
       "      <td>Inner City</td>\n",
       "      <td>Vienna</td>\n",
       "      <td>Austria</td>\n",
       "    </tr>\n",
       "  </tbody>\n",
       "</table>\n",
       "<p>998 rows × 9 columns</p>\n",
       "</div>"
      ],
      "text/plain": [
       "     Product_ID  Transaction_date   Product Price Payment_Type      Name  \\\n",
       "0         10000       1/1/09 4:24  Product3  7500         Amex    Pamela   \n",
       "1         10001      1/8/09 11:55  Product1  1200       Diners     julie   \n",
       "2         10002     1/12/09 21:30  Product1  1200         Visa     Julia   \n",
       "3         10003     1/26/09 13:41  Product1  1200   Mastercard  Lesleigh   \n",
       "4         10004     1/20/09 10:42  Product2  3600       Diners    esther   \n",
       "..          ...               ...       ...   ...          ...       ...   \n",
       "993       10993  01/07/2009 17:48  Product1  1200   Mastercard      Alex   \n",
       "994       10994     1/23/09 12:42  Product2  3600   Mastercard      Anke   \n",
       "995       10995  01/07/2009 19:48  Product2  3600   Mastercard    TRICIA   \n",
       "996       10996     1/26/09 11:19  Product1  1200   Mastercard     smith   \n",
       "997       10997  01/05/2009 13:23  Product1  1200         Visa      Macy   \n",
       "\n",
       "             City               State         Country  \n",
       "0     Skaneateles                  NY   United States  \n",
       "1       Haverhill             England  United Kingdom  \n",
       "2         Madison                  WI   United States  \n",
       "3           Baden              Aargau     Switzerland  \n",
       "4    Huddersfield             England  United Kingdom  \n",
       "..            ...                 ...             ...  \n",
       "993       Augusta                  GA   United States  \n",
       "994        Avalon     New South Wales       Australia  \n",
       "995        Sydney     New South Wales       Australia  \n",
       "996         Lahti  Etela-Suomen Laani         Finland  \n",
       "997    Inner City              Vienna         Austria  \n",
       "\n",
       "[998 rows x 9 columns]"
      ]
     },
     "execution_count": 7,
     "metadata": {},
     "output_type": "execute_result"
    }
   ],
   "source": [
    "df_db = pd.read_sql_query(\"SELECT * FROM sales\", conn)\n",
    "df_db\n",
    "#Angelo Louis L. Hizon"
   ]
  },
  {
   "cell_type": "code",
   "execution_count": null,
   "id": "ae1f21a4",
   "metadata": {},
   "outputs": [],
   "source": [
    "cursor.execute(\"SELECT * FROM sales\")\n",
    "list = cursor.fetchmany(10)"
   ]
  },
  {
   "cell_type": "code",
   "execution_count": null,
   "id": "0dd494a1",
   "metadata": {},
   "outputs": [],
   "source": [
    "for sales in list:\n",
    "    print(sales[0], '-', sales[1], '-', sales[2], '-', sales[3], '-', sales[4], '-', sales[5], '-', sales[6], '-', \n",
    "          sales[7], '-', sales[8])"
   ]
  },
  {
   "cell_type": "code",
   "execution_count": null,
   "id": "f9f79144",
   "metadata": {},
   "outputs": [],
   "source": [
    "for sales in list:\n",
    "    print(sales[5], '-', sales[8])"
   ]
  },
  {
   "cell_type": "code",
   "execution_count": null,
   "id": "e7fbde7f",
   "metadata": {},
   "outputs": [],
   "source": [
    "cursor.execute(\"SELECT * FROM sales WHERE price > 4000\")\n",
    "list = cursor.fetchmany(10)"
   ]
  },
  {
   "cell_type": "code",
   "execution_count": null,
   "id": "4246ab18",
   "metadata": {},
   "outputs": [],
   "source": [
    "for sales in list:\n",
    "    print(sales[2], '-', sales[4])"
   ]
  },
  {
   "cell_type": "code",
   "execution_count": null,
   "id": "0a514d35",
   "metadata": {},
   "outputs": [],
   "source": [
    "cursor.execute(\"SELECT Name, Country FROM sales WHERE Product_ID BETWEEN 10000 AND 10009\")"
   ]
  },
  {
   "cell_type": "code",
   "execution_count": null,
   "id": "53f0d2c7",
   "metadata": {},
   "outputs": [],
   "source": [
    "cursor.fetchall()"
   ]
  },
  {
   "cell_type": "code",
   "execution_count": null,
   "id": "6c209b07",
   "metadata": {},
   "outputs": [],
   "source": [
    "cursor.execute(\"SELECT Product, Payment_Type FROM sales WHERE Price > 4000\")"
   ]
  },
  {
   "cell_type": "code",
   "execution_count": null,
   "id": "e0c4b709",
   "metadata": {},
   "outputs": [],
   "source": [
    "cursor.fetchall()"
   ]
  },
  {
   "cell_type": "code",
   "execution_count": null,
   "id": "8f03a2df",
   "metadata": {},
   "outputs": [],
   "source": [
    "df_csv.shape \n",
    "#Angelo Louis L. Hizon"
   ]
  },
  {
   "cell_type": "code",
   "execution_count": null,
   "id": "97772e3e",
   "metadata": {},
   "outputs": [],
   "source": [
    "cursor.execute(DELETE FROM sales WHERE Product_ID > 10006)"
   ]
  },
  {
   "cell_type": "code",
   "execution_count": null,
   "id": "fca4b25f",
   "metadata": {},
   "outputs": [],
   "source": []
  }
 ],
 "metadata": {
  "kernelspec": {
   "display_name": "Python 3",
   "language": "python",
   "name": "python3"
  },
  "language_info": {
   "codemirror_mode": {
    "name": "ipython",
    "version": 3
   },
   "file_extension": ".py",
   "mimetype": "text/x-python",
   "name": "python",
   "nbconvert_exporter": "python",
   "pygments_lexer": "ipython3",
   "version": "3.8.8"
  }
 },
 "nbformat": 4,
 "nbformat_minor": 5
}
