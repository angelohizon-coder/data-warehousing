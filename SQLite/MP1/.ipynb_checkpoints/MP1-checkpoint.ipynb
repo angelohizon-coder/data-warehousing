{
 "cells": [
  {
   "cell_type": "code",
   "execution_count": 1,
   "id": "337f32e2",
   "metadata": {},
   "outputs": [],
   "source": [
    "import sqlite3 as sql"
   ]
  },
  {
   "cell_type": "code",
   "execution_count": 2,
   "id": "6601718f",
   "metadata": {},
   "outputs": [],
   "source": [
    "conn = sql.connect(\"dw_mp1.db\")"
   ]
  },
  {
   "cell_type": "code",
   "execution_count": 3,
   "id": "0143a436",
   "metadata": {},
   "outputs": [],
   "source": [
    "cursor = conn.cursor()"
   ]
  },
  {
   "cell_type": "code",
   "execution_count": 4,
   "id": "eebf1bdb",
   "metadata": {},
   "outputs": [],
   "source": [
    "import pandas as pd"
   ]
  },
  {
   "cell_type": "code",
   "execution_count": 9,
   "id": "1eb120ff",
   "metadata": {},
   "outputs": [
    {
     "data": {
      "text/html": [
       "<div>\n",
       "<style scoped>\n",
       "    .dataframe tbody tr th:only-of-type {\n",
       "        vertical-align: middle;\n",
       "    }\n",
       "\n",
       "    .dataframe tbody tr th {\n",
       "        vertical-align: top;\n",
       "    }\n",
       "\n",
       "    .dataframe thead th {\n",
       "        text-align: right;\n",
       "    }\n",
       "</style>\n",
       "<table border=\"1\" class=\"dataframe\">\n",
       "  <thead>\n",
       "    <tr style=\"text-align: right;\">\n",
       "      <th></th>\n",
       "      <th>Product_ID</th>\n",
       "      <th>Transaction_date</th>\n",
       "      <th>Product</th>\n",
       "      <th>Price</th>\n",
       "      <th>Payment_Type</th>\n",
       "      <th>Name</th>\n",
       "      <th>City</th>\n",
       "      <th>State</th>\n",
       "      <th>Country</th>\n",
       "    </tr>\n",
       "  </thead>\n",
       "  <tbody>\n",
       "    <tr>\n",
       "      <th>0</th>\n",
       "      <td>10000</td>\n",
       "      <td>1/1/09 4:24</td>\n",
       "      <td>Product3</td>\n",
       "      <td>7500</td>\n",
       "      <td>Amex</td>\n",
       "      <td>Pamela</td>\n",
       "      <td>Skaneateles</td>\n",
       "      <td>NY</td>\n",
       "      <td>United States</td>\n",
       "    </tr>\n",
       "    <tr>\n",
       "      <th>1</th>\n",
       "      <td>10001</td>\n",
       "      <td>1/8/09 11:55</td>\n",
       "      <td>Product1</td>\n",
       "      <td>1200</td>\n",
       "      <td>Diners</td>\n",
       "      <td>julie</td>\n",
       "      <td>Haverhill</td>\n",
       "      <td>England</td>\n",
       "      <td>United Kingdom</td>\n",
       "    </tr>\n",
       "    <tr>\n",
       "      <th>2</th>\n",
       "      <td>10002</td>\n",
       "      <td>1/12/09 21:30</td>\n",
       "      <td>Product1</td>\n",
       "      <td>1200</td>\n",
       "      <td>Visa</td>\n",
       "      <td>Julia</td>\n",
       "      <td>Madison</td>\n",
       "      <td>WI</td>\n",
       "      <td>United States</td>\n",
       "    </tr>\n",
       "  </tbody>\n",
       "</table>\n",
       "</div>"
      ],
      "text/plain": [
       "   Product_ID Transaction_date   Product  Price Payment_Type    Name  \\\n",
       "0       10000      1/1/09 4:24  Product3   7500         Amex  Pamela   \n",
       "1       10001     1/8/09 11:55  Product1   1200       Diners   julie   \n",
       "2       10002    1/12/09 21:30  Product1   1200         Visa   Julia   \n",
       "\n",
       "          City    State         Country  \n",
       "0  Skaneateles       NY   United States  \n",
       "1    Haverhill  England  United Kingdom  \n",
       "2      Madison       WI   United States  "
      ]
     },
     "execution_count": 9,
     "metadata": {},
     "output_type": "execute_result"
    }
   ],
   "source": [
    "dataFrameQueryAll = pd.read_sql_query('SELECT * FROM sales', conn)\n",
    "dataFrameQueryAll"
   ]
  },
  {
   "cell_type": "code",
   "execution_count": 12,
   "id": "9c7841a7",
   "metadata": {},
   "outputs": [],
   "source": [
    "sales_information = [(10003,'1/26/09 13:41','Product1',1200,'Mastercard','Lesleigh','Baden','Aargau','Switzerland'),\n",
    "                  (10004,'1/20/09 10:42','Product2',3600,'Diners','esther','Huddersfield','England','United Kingdom'),\n",
    "                  (10005,'1/22/09 14:25','Product1',1200,'Visa','Hans-Joerg','Belfast','Northern Ireland','United Kingdom'),\n",
    "                  (10006,'1/28/09 5:36','Product2',3600,'Visa','Christiane','Black River','Black River','Mauritius')]"
   ]
  },
  {
   "cell_type": "code",
   "execution_count": 13,
   "id": "cb13a508",
   "metadata": {},
   "outputs": [
    {
     "data": {
      "text/plain": [
       "<sqlite3.Cursor at 0x16ffb0f1f10>"
      ]
     },
     "execution_count": 13,
     "metadata": {},
     "output_type": "execute_result"
    }
   ],
   "source": [
    "cursor.executemany(\"INSERT INTO sales VALUES(?, ?, ?, ?, ?, ?, ?, ? ,?)\", sales_information)"
   ]
  },
  {
   "cell_type": "code",
   "execution_count": 14,
   "id": "04c182b0",
   "metadata": {},
   "outputs": [],
   "source": [
    "conn.commit()"
   ]
  },
  {
   "cell_type": "code",
   "execution_count": 15,
   "id": "77d87a38",
   "metadata": {},
   "outputs": [
    {
     "data": {
      "text/plain": [
       "<sqlite3.Cursor at 0x16ffb0f1f10>"
      ]
     },
     "execution_count": 15,
     "metadata": {},
     "output_type": "execute_result"
    }
   ],
   "source": [
    "cursor.execute(\"SELECT * FROM sales WHERE Product_ID BETWEEN 10000 AND 10003\")"
   ]
  },
  {
   "cell_type": "code",
   "execution_count": 16,
   "id": "5643d768",
   "metadata": {},
   "outputs": [
    {
     "data": {
      "text/plain": [
       "[(10000,\n",
       "  '1/1/09 4:24',\n",
       "  'Product3',\n",
       "  7500,\n",
       "  'Amex',\n",
       "  'Pamela',\n",
       "  'Skaneateles',\n",
       "  'NY',\n",
       "  'United States'),\n",
       " (10001,\n",
       "  '1/8/09 11:55',\n",
       "  'Product1',\n",
       "  1200,\n",
       "  'Diners',\n",
       "  'julie',\n",
       "  'Haverhill',\n",
       "  'England',\n",
       "  'United Kingdom'),\n",
       " (10002,\n",
       "  '1/12/09 21:30',\n",
       "  'Product1',\n",
       "  1200,\n",
       "  'Visa',\n",
       "  'Julia',\n",
       "  'Madison',\n",
       "  'WI',\n",
       "  'United States'),\n",
       " (10003,\n",
       "  '1/26/09 13:41',\n",
       "  'Product1',\n",
       "  1200,\n",
       "  'Mastercard',\n",
       "  'Lesleigh',\n",
       "  'Baden',\n",
       "  'Aargau',\n",
       "  'Switzerland')]"
      ]
     },
     "execution_count": 16,
     "metadata": {},
     "output_type": "execute_result"
    }
   ],
   "source": [
    "cursor.fetchall()"
   ]
  },
  {
   "cell_type": "code",
   "execution_count": 17,
   "id": "ab4eb00d",
   "metadata": {},
   "outputs": [
    {
     "data": {
      "text/plain": [
       "<sqlite3.Cursor at 0x16ffb0f1f10>"
      ]
     },
     "execution_count": 17,
     "metadata": {},
     "output_type": "execute_result"
    }
   ],
   "source": [
    "cursor.execute(\"SELECT * FROM sales\")"
   ]
  },
  {
   "cell_type": "code",
   "execution_count": 18,
   "id": "9a2ad817",
   "metadata": {},
   "outputs": [
    {
     "data": {
      "text/plain": [
       "[(10000,\n",
       "  '1/1/09 4:24',\n",
       "  'Product3',\n",
       "  7500,\n",
       "  'Amex',\n",
       "  'Pamela',\n",
       "  'Skaneateles',\n",
       "  'NY',\n",
       "  'United States'),\n",
       " (10001,\n",
       "  '1/8/09 11:55',\n",
       "  'Product1',\n",
       "  1200,\n",
       "  'Diners',\n",
       "  'julie',\n",
       "  'Haverhill',\n",
       "  'England',\n",
       "  'United Kingdom'),\n",
       " (10002,\n",
       "  '1/12/09 21:30',\n",
       "  'Product1',\n",
       "  1200,\n",
       "  'Visa',\n",
       "  'Julia',\n",
       "  'Madison',\n",
       "  'WI',\n",
       "  'United States'),\n",
       " (10003,\n",
       "  '1/26/09 13:41',\n",
       "  'Product1',\n",
       "  1200,\n",
       "  'Mastercard',\n",
       "  'Lesleigh',\n",
       "  'Baden',\n",
       "  'Aargau',\n",
       "  'Switzerland'),\n",
       " (10004,\n",
       "  '1/20/09 10:42',\n",
       "  'Product2',\n",
       "  3600,\n",
       "  'Diners',\n",
       "  'esther',\n",
       "  'Huddersfield',\n",
       "  'England',\n",
       "  'United Kingdom'),\n",
       " (10005,\n",
       "  '1/22/09 14:25',\n",
       "  'Product1',\n",
       "  1200,\n",
       "  'Visa',\n",
       "  'Hans-Joerg',\n",
       "  'Belfast',\n",
       "  'Northern Ireland',\n",
       "  'United Kingdom'),\n",
       " (10006,\n",
       "  '1/28/09 5:36',\n",
       "  'Product2',\n",
       "  3600,\n",
       "  'Visa',\n",
       "  'Christiane',\n",
       "  'Black River',\n",
       "  'Black River',\n",
       "  'Mauritius')]"
      ]
     },
     "execution_count": 18,
     "metadata": {},
     "output_type": "execute_result"
    }
   ],
   "source": [
    "cursor.fetchall()"
   ]
  },
  {
   "cell_type": "code",
   "execution_count": 19,
   "id": "4a952167",
   "metadata": {},
   "outputs": [
    {
     "data": {
      "text/plain": [
       "<sqlite3.Cursor at 0x16ffb0f1f10>"
      ]
     },
     "execution_count": 19,
     "metadata": {},
     "output_type": "execute_result"
    }
   ],
   "source": [
    "cursor.execute(\"SELECT Name, City FROM sales\")"
   ]
  },
  {
   "cell_type": "code",
   "execution_count": 20,
   "id": "bca6f58c",
   "metadata": {},
   "outputs": [
    {
     "data": {
      "text/plain": [
       "[('Pamela', 'Skaneateles'),\n",
       " ('julie', 'Haverhill'),\n",
       " ('Julia', 'Madison'),\n",
       " ('Lesleigh', 'Baden'),\n",
       " ('esther', 'Huddersfield'),\n",
       " ('Hans-Joerg', 'Belfast'),\n",
       " ('Christiane', 'Black River')]"
      ]
     },
     "execution_count": 20,
     "metadata": {},
     "output_type": "execute_result"
    }
   ],
   "source": [
    "cursor.fetchall()"
   ]
  },
  {
   "cell_type": "code",
   "execution_count": 24,
   "id": "1c57536a",
   "metadata": {},
   "outputs": [
    {
     "data": {
      "text/plain": [
       "<sqlite3.Cursor at 0x16ffb0f1f10>"
      ]
     },
     "execution_count": 24,
     "metadata": {},
     "output_type": "execute_result"
    }
   ],
   "source": [
    "cursor.execute(\"SELECT Product, Payment_Type FROM sales WHERE price < 3000\")"
   ]
  },
  {
   "cell_type": "code",
   "execution_count": 25,
   "id": "31007221",
   "metadata": {},
   "outputs": [
    {
     "data": {
      "text/plain": [
       "[('Product1', 'Diners'),\n",
       " ('Product1', 'Visa'),\n",
       " ('Product1', 'Mastercard'),\n",
       " ('Product1', 'Visa')]"
      ]
     },
     "execution_count": 25,
     "metadata": {},
     "output_type": "execute_result"
    }
   ],
   "source": [
    "cursor.fetchall()"
   ]
  },
  {
   "cell_type": "code",
   "execution_count": 59,
   "id": "e10cea1d",
   "metadata": {
    "scrolled": true
   },
   "outputs": [
    {
     "data": {
      "text/html": [
       "<div>\n",
       "<style scoped>\n",
       "    .dataframe tbody tr th:only-of-type {\n",
       "        vertical-align: middle;\n",
       "    }\n",
       "\n",
       "    .dataframe tbody tr th {\n",
       "        vertical-align: top;\n",
       "    }\n",
       "\n",
       "    .dataframe thead th {\n",
       "        text-align: right;\n",
       "    }\n",
       "</style>\n",
       "<table border=\"1\" class=\"dataframe\">\n",
       "  <thead>\n",
       "    <tr style=\"text-align: right;\">\n",
       "      <th></th>\n",
       "      <th>0</th>\n",
       "      <th>1</th>\n",
       "      <th>2</th>\n",
       "      <th>3</th>\n",
       "      <th>4</th>\n",
       "      <th>5</th>\n",
       "      <th>6</th>\n",
       "      <th>7</th>\n",
       "      <th>8</th>\n",
       "    </tr>\n",
       "  </thead>\n",
       "  <tbody>\n",
       "    <tr>\n",
       "      <th>0</th>\n",
       "      <td>Product_ID</td>\n",
       "      <td>Transaction_date</td>\n",
       "      <td>Product</td>\n",
       "      <td>Price</td>\n",
       "      <td>Payment_Type</td>\n",
       "      <td>Name</td>\n",
       "      <td>City</td>\n",
       "      <td>State</td>\n",
       "      <td>Country</td>\n",
       "    </tr>\n",
       "    <tr>\n",
       "      <th>1</th>\n",
       "      <td>10007</td>\n",
       "      <td>01/02/2009 6:17</td>\n",
       "      <td>Product1</td>\n",
       "      <td>1200</td>\n",
       "      <td>Mastercard</td>\n",
       "      <td>carolina</td>\n",
       "      <td>Basildon</td>\n",
       "      <td>England</td>\n",
       "      <td>United Kingdom</td>\n",
       "    </tr>\n",
       "    <tr>\n",
       "      <th>2</th>\n",
       "      <td>10008</td>\n",
       "      <td>01/02/2009 4:53</td>\n",
       "      <td>Product1</td>\n",
       "      <td>1200</td>\n",
       "      <td>Visa</td>\n",
       "      <td>Betina</td>\n",
       "      <td>Parkville</td>\n",
       "      <td>MO</td>\n",
       "      <td>United States</td>\n",
       "    </tr>\n",
       "    <tr>\n",
       "      <th>3</th>\n",
       "      <td>10009</td>\n",
       "      <td>01/02/2009 13:08</td>\n",
       "      <td>Product1</td>\n",
       "      <td>1200</td>\n",
       "      <td>Mastercard</td>\n",
       "      <td>Federica e Andrea</td>\n",
       "      <td>Astoria</td>\n",
       "      <td>OR</td>\n",
       "      <td>United States</td>\n",
       "    </tr>\n",
       "    <tr>\n",
       "      <th>4</th>\n",
       "      <td>10010</td>\n",
       "      <td>01/03/2009 14:44</td>\n",
       "      <td>Product1</td>\n",
       "      <td>1200</td>\n",
       "      <td>Visa</td>\n",
       "      <td>Gouya</td>\n",
       "      <td>Echuca</td>\n",
       "      <td>Victoria</td>\n",
       "      <td>Australia</td>\n",
       "    </tr>\n",
       "    <tr>\n",
       "      <th>...</th>\n",
       "      <td>...</td>\n",
       "      <td>...</td>\n",
       "      <td>...</td>\n",
       "      <td>...</td>\n",
       "      <td>...</td>\n",
       "      <td>...</td>\n",
       "      <td>...</td>\n",
       "      <td>...</td>\n",
       "      <td>...</td>\n",
       "    </tr>\n",
       "    <tr>\n",
       "      <th>987</th>\n",
       "      <td>10993</td>\n",
       "      <td>01/07/2009 17:48</td>\n",
       "      <td>Product1</td>\n",
       "      <td>1200</td>\n",
       "      <td>Mastercard</td>\n",
       "      <td>Alex</td>\n",
       "      <td>Augusta</td>\n",
       "      <td>GA</td>\n",
       "      <td>United States</td>\n",
       "    </tr>\n",
       "    <tr>\n",
       "      <th>988</th>\n",
       "      <td>10994</td>\n",
       "      <td>1/23/09 12:42</td>\n",
       "      <td>Product2</td>\n",
       "      <td>3600</td>\n",
       "      <td>Mastercard</td>\n",
       "      <td>Anke</td>\n",
       "      <td>Avalon</td>\n",
       "      <td>New South Wales</td>\n",
       "      <td>Australia</td>\n",
       "    </tr>\n",
       "    <tr>\n",
       "      <th>989</th>\n",
       "      <td>10995</td>\n",
       "      <td>01/07/2009 19:48</td>\n",
       "      <td>Product2</td>\n",
       "      <td>3600</td>\n",
       "      <td>Mastercard</td>\n",
       "      <td>TRICIA</td>\n",
       "      <td>Sydney</td>\n",
       "      <td>New South Wales</td>\n",
       "      <td>Australia</td>\n",
       "    </tr>\n",
       "    <tr>\n",
       "      <th>990</th>\n",
       "      <td>10996</td>\n",
       "      <td>1/26/09 11:19</td>\n",
       "      <td>Product1</td>\n",
       "      <td>1200</td>\n",
       "      <td>Mastercard</td>\n",
       "      <td>smith</td>\n",
       "      <td>Lahti</td>\n",
       "      <td>Etela-Suomen Laani</td>\n",
       "      <td>Finland</td>\n",
       "    </tr>\n",
       "    <tr>\n",
       "      <th>991</th>\n",
       "      <td>10997</td>\n",
       "      <td>01/05/2009 13:23</td>\n",
       "      <td>Product1</td>\n",
       "      <td>1200</td>\n",
       "      <td>Visa</td>\n",
       "      <td>Macy</td>\n",
       "      <td>Inner City</td>\n",
       "      <td>Vienna</td>\n",
       "      <td>Austria</td>\n",
       "    </tr>\n",
       "  </tbody>\n",
       "</table>\n",
       "<p>992 rows × 9 columns</p>\n",
       "</div>"
      ],
      "text/plain": [
       "              0                 1         2      3             4  \\\n",
       "0    Product_ID  Transaction_date   Product  Price  Payment_Type   \n",
       "1         10007   01/02/2009 6:17  Product1   1200    Mastercard   \n",
       "2         10008   01/02/2009 4:53  Product1   1200          Visa   \n",
       "3         10009  01/02/2009 13:08  Product1   1200    Mastercard   \n",
       "4         10010  01/03/2009 14:44  Product1   1200          Visa   \n",
       "..          ...               ...       ...    ...           ...   \n",
       "987       10993  01/07/2009 17:48  Product1   1200    Mastercard   \n",
       "988       10994     1/23/09 12:42  Product2   3600    Mastercard   \n",
       "989       10995  01/07/2009 19:48  Product2   3600    Mastercard   \n",
       "990       10996     1/26/09 11:19  Product1   1200    Mastercard   \n",
       "991       10997  01/05/2009 13:23  Product1   1200          Visa   \n",
       "\n",
       "                     5           6                   7               8  \n",
       "0                 Name        City               State         Country  \n",
       "1             carolina    Basildon             England  United Kingdom  \n",
       "2               Betina   Parkville                  MO   United States  \n",
       "3    Federica e Andrea     Astoria                  OR   United States  \n",
       "4                Gouya      Echuca            Victoria       Australia  \n",
       "..                 ...         ...                 ...             ...  \n",
       "987               Alex     Augusta                  GA   United States  \n",
       "988               Anke      Avalon     New South Wales       Australia  \n",
       "989             TRICIA      Sydney     New South Wales       Australia  \n",
       "990              smith       Lahti  Etela-Suomen Laani         Finland  \n",
       "991               Macy  Inner City              Vienna         Austria  \n",
       "\n",
       "[992 rows x 9 columns]"
      ]
     },
     "execution_count": 59,
     "metadata": {},
     "output_type": "execute_result"
    }
   ],
   "source": [
    "df_csv = pd.read_csv('Sales - Sales.csv', header=None)\n",
    "df_csv"
   ]
  },
  {
   "cell_type": "code",
   "execution_count": 27,
   "id": "bc82cf54",
   "metadata": {},
   "outputs": [],
   "source": [
    "df_csv.to_sql(name = 'sales', con = conn, index = False, if_exists = 'append')"
   ]
  },
  {
   "cell_type": "code",
   "execution_count": 55,
   "id": "7fc1391c",
   "metadata": {},
   "outputs": [
    {
     "data": {
      "text/plain": [
       "<sqlite3.Cursor at 0x16ffb0f1f10>"
      ]
     },
     "execution_count": 55,
     "metadata": {},
     "output_type": "execute_result"
    }
   ],
   "source": [
    "cursor.execute(\"SELECT * FROM sales WHERE Product_ID BETWEEN 10000 AND 10009\")"
   ]
  },
  {
   "cell_type": "code",
   "execution_count": 56,
   "id": "493a2b98",
   "metadata": {},
   "outputs": [
    {
     "data": {
      "text/plain": [
       "[(10000,\n",
       "  '1/1/09 4:24',\n",
       "  'Product3',\n",
       "  7500,\n",
       "  'Amex',\n",
       "  'Pamela',\n",
       "  'Skaneateles',\n",
       "  'NY',\n",
       "  'United States'),\n",
       " (10001,\n",
       "  '1/8/09 11:55',\n",
       "  'Product1',\n",
       "  1200,\n",
       "  'Diners',\n",
       "  'julie',\n",
       "  'Haverhill',\n",
       "  'England',\n",
       "  'United Kingdom'),\n",
       " (10002,\n",
       "  '1/12/09 21:30',\n",
       "  'Product1',\n",
       "  1200,\n",
       "  'Visa',\n",
       "  'Julia',\n",
       "  'Madison',\n",
       "  'WI',\n",
       "  'United States'),\n",
       " (10003,\n",
       "  '1/26/09 13:41',\n",
       "  'Product1',\n",
       "  1200,\n",
       "  'Mastercard',\n",
       "  'Lesleigh',\n",
       "  'Baden',\n",
       "  'Aargau',\n",
       "  'Switzerland'),\n",
       " (10004,\n",
       "  '1/20/09 10:42',\n",
       "  'Product2',\n",
       "  3600,\n",
       "  'Diners',\n",
       "  'esther',\n",
       "  'Huddersfield',\n",
       "  'England',\n",
       "  'United Kingdom'),\n",
       " (10005,\n",
       "  '1/22/09 14:25',\n",
       "  'Product1',\n",
       "  1200,\n",
       "  'Visa',\n",
       "  'Hans-Joerg',\n",
       "  'Belfast',\n",
       "  'Northern Ireland',\n",
       "  'United Kingdom'),\n",
       " (10006,\n",
       "  '1/28/09 5:36',\n",
       "  'Product2',\n",
       "  3600,\n",
       "  'Visa',\n",
       "  'Christiane',\n",
       "  'Black River',\n",
       "  'Black River',\n",
       "  'Mauritius'),\n",
       " (10007,\n",
       "  '1/2/09 6:17',\n",
       "  'Product1',\n",
       "  1200,\n",
       "  'Mastercard',\n",
       "  'carolina',\n",
       "  'Basildon',\n",
       "  'England',\n",
       "  'United Kingdom'),\n",
       " (10008,\n",
       "  '1/2/09 4:53',\n",
       "  'Product1',\n",
       "  1200,\n",
       "  'Visa',\n",
       "  'Betina',\n",
       "  'Parkville',\n",
       "  'MO',\n",
       "  'United States'),\n",
       " (10009,\n",
       "  '1/2/09 13:08',\n",
       "  'Product1',\n",
       "  1200,\n",
       "  'Mastercard',\n",
       "  'Federica e Andrea',\n",
       "  'Astoria',\n",
       "  'OR',\n",
       "  'United States')]"
      ]
     },
     "execution_count": 56,
     "metadata": {},
     "output_type": "execute_result"
    }
   ],
   "source": [
    "cursor.fetchall()"
   ]
  },
  {
   "cell_type": "code",
   "execution_count": 33,
   "id": "1ecc68fd",
   "metadata": {},
   "outputs": [
    {
     "data": {
      "text/html": [
       "<div>\n",
       "<style scoped>\n",
       "    .dataframe tbody tr th:only-of-type {\n",
       "        vertical-align: middle;\n",
       "    }\n",
       "\n",
       "    .dataframe tbody tr th {\n",
       "        vertical-align: top;\n",
       "    }\n",
       "\n",
       "    .dataframe thead th {\n",
       "        text-align: right;\n",
       "    }\n",
       "</style>\n",
       "<table border=\"1\" class=\"dataframe\">\n",
       "  <thead>\n",
       "    <tr style=\"text-align: right;\">\n",
       "      <th></th>\n",
       "      <th>Product_ID</th>\n",
       "      <th>Transaction_date</th>\n",
       "      <th>Product</th>\n",
       "      <th>Price</th>\n",
       "      <th>Payment_Type</th>\n",
       "      <th>Name</th>\n",
       "      <th>City</th>\n",
       "      <th>State</th>\n",
       "      <th>Country</th>\n",
       "    </tr>\n",
       "  </thead>\n",
       "  <tbody>\n",
       "    <tr>\n",
       "      <th>0</th>\n",
       "      <td>10000</td>\n",
       "      <td>1/1/09 4:24</td>\n",
       "      <td>Product3</td>\n",
       "      <td>7500</td>\n",
       "      <td>Amex</td>\n",
       "      <td>Pamela</td>\n",
       "      <td>Skaneateles</td>\n",
       "      <td>NY</td>\n",
       "      <td>United States</td>\n",
       "    </tr>\n",
       "    <tr>\n",
       "      <th>1</th>\n",
       "      <td>10001</td>\n",
       "      <td>1/8/09 11:55</td>\n",
       "      <td>Product1</td>\n",
       "      <td>1200</td>\n",
       "      <td>Diners</td>\n",
       "      <td>julie</td>\n",
       "      <td>Haverhill</td>\n",
       "      <td>England</td>\n",
       "      <td>United Kingdom</td>\n",
       "    </tr>\n",
       "    <tr>\n",
       "      <th>2</th>\n",
       "      <td>10002</td>\n",
       "      <td>1/12/09 21:30</td>\n",
       "      <td>Product1</td>\n",
       "      <td>1200</td>\n",
       "      <td>Visa</td>\n",
       "      <td>Julia</td>\n",
       "      <td>Madison</td>\n",
       "      <td>WI</td>\n",
       "      <td>United States</td>\n",
       "    </tr>\n",
       "    <tr>\n",
       "      <th>3</th>\n",
       "      <td>10003</td>\n",
       "      <td>1/26/09 13:41</td>\n",
       "      <td>Product1</td>\n",
       "      <td>1200</td>\n",
       "      <td>Mastercard</td>\n",
       "      <td>Lesleigh</td>\n",
       "      <td>Baden</td>\n",
       "      <td>Aargau</td>\n",
       "      <td>Switzerland</td>\n",
       "    </tr>\n",
       "    <tr>\n",
       "      <th>4</th>\n",
       "      <td>10004</td>\n",
       "      <td>1/20/09 10:42</td>\n",
       "      <td>Product2</td>\n",
       "      <td>3600</td>\n",
       "      <td>Diners</td>\n",
       "      <td>esther</td>\n",
       "      <td>Huddersfield</td>\n",
       "      <td>England</td>\n",
       "      <td>United Kingdom</td>\n",
       "    </tr>\n",
       "    <tr>\n",
       "      <th>...</th>\n",
       "      <td>...</td>\n",
       "      <td>...</td>\n",
       "      <td>...</td>\n",
       "      <td>...</td>\n",
       "      <td>...</td>\n",
       "      <td>...</td>\n",
       "      <td>...</td>\n",
       "      <td>...</td>\n",
       "      <td>...</td>\n",
       "    </tr>\n",
       "    <tr>\n",
       "      <th>993</th>\n",
       "      <td>10993</td>\n",
       "      <td>1/7/09 17:48</td>\n",
       "      <td>Product1</td>\n",
       "      <td>1200</td>\n",
       "      <td>Mastercard</td>\n",
       "      <td>Alex</td>\n",
       "      <td>Augusta</td>\n",
       "      <td>GA</td>\n",
       "      <td>United States</td>\n",
       "    </tr>\n",
       "    <tr>\n",
       "      <th>994</th>\n",
       "      <td>10994</td>\n",
       "      <td>1/23/09 12:42</td>\n",
       "      <td>Product2</td>\n",
       "      <td>3600</td>\n",
       "      <td>Mastercard</td>\n",
       "      <td>Anke</td>\n",
       "      <td>Avalon</td>\n",
       "      <td>New South Wales</td>\n",
       "      <td>Australia</td>\n",
       "    </tr>\n",
       "    <tr>\n",
       "      <th>995</th>\n",
       "      <td>10995</td>\n",
       "      <td>1/7/09 19:48</td>\n",
       "      <td>Product2</td>\n",
       "      <td>3600</td>\n",
       "      <td>Mastercard</td>\n",
       "      <td>TRICIA</td>\n",
       "      <td>Sydney</td>\n",
       "      <td>New South Wales</td>\n",
       "      <td>Australia</td>\n",
       "    </tr>\n",
       "    <tr>\n",
       "      <th>996</th>\n",
       "      <td>10996</td>\n",
       "      <td>1/26/09 11:19</td>\n",
       "      <td>Product1</td>\n",
       "      <td>1200</td>\n",
       "      <td>Mastercard</td>\n",
       "      <td>smith</td>\n",
       "      <td>Lahti</td>\n",
       "      <td>Etela-Suomen Laani</td>\n",
       "      <td>Finland</td>\n",
       "    </tr>\n",
       "    <tr>\n",
       "      <th>997</th>\n",
       "      <td>10997</td>\n",
       "      <td>1/5/09 13:23</td>\n",
       "      <td>Product1</td>\n",
       "      <td>1200</td>\n",
       "      <td>Visa</td>\n",
       "      <td>Macy</td>\n",
       "      <td>Inner City</td>\n",
       "      <td>Vienna</td>\n",
       "      <td>Austria</td>\n",
       "    </tr>\n",
       "  </tbody>\n",
       "</table>\n",
       "<p>998 rows × 9 columns</p>\n",
       "</div>"
      ],
      "text/plain": [
       "     Product_ID Transaction_date   Product Price Payment_Type      Name  \\\n",
       "0         10000      1/1/09 4:24  Product3  7500         Amex    Pamela   \n",
       "1         10001     1/8/09 11:55  Product1  1200       Diners     julie   \n",
       "2         10002    1/12/09 21:30  Product1  1200         Visa     Julia   \n",
       "3         10003    1/26/09 13:41  Product1  1200   Mastercard  Lesleigh   \n",
       "4         10004    1/20/09 10:42  Product2  3600       Diners    esther   \n",
       "..          ...              ...       ...   ...          ...       ...   \n",
       "993       10993     1/7/09 17:48  Product1  1200   Mastercard      Alex   \n",
       "994       10994    1/23/09 12:42  Product2  3600   Mastercard      Anke   \n",
       "995       10995     1/7/09 19:48  Product2  3600   Mastercard    TRICIA   \n",
       "996       10996    1/26/09 11:19  Product1  1200   Mastercard     smith   \n",
       "997       10997     1/5/09 13:23  Product1  1200         Visa      Macy   \n",
       "\n",
       "             City               State         Country  \n",
       "0     Skaneateles                  NY   United States  \n",
       "1       Haverhill             England  United Kingdom  \n",
       "2         Madison                  WI   United States  \n",
       "3           Baden              Aargau     Switzerland  \n",
       "4    Huddersfield             England  United Kingdom  \n",
       "..            ...                 ...             ...  \n",
       "993       Augusta                  GA   United States  \n",
       "994        Avalon     New South Wales       Australia  \n",
       "995        Sydney     New South Wales       Australia  \n",
       "996         Lahti  Etela-Suomen Laani         Finland  \n",
       "997    Inner City              Vienna         Austria  \n",
       "\n",
       "[998 rows x 9 columns]"
      ]
     },
     "execution_count": 33,
     "metadata": {},
     "output_type": "execute_result"
    }
   ],
   "source": [
    "complete = pd.read_sql_query(\"SELECT * FROM sales\", conn)\n",
    "complete"
   ]
  },
  {
   "cell_type": "code",
   "execution_count": 47,
   "id": "ae1f21a4",
   "metadata": {},
   "outputs": [],
   "source": [
    "cursor.execute(\"SELECT * FROM sales\")\n",
    "list = cursor.fetchmany(10)"
   ]
  },
  {
   "cell_type": "code",
   "execution_count": 38,
   "id": "0dd494a1",
   "metadata": {},
   "outputs": [
    {
     "name": "stdout",
     "output_type": "stream",
     "text": [
      "10000 - 1/1/09 4:24 - Product3 - 7500 - Amex - Pamela - Skaneateles - NY - United States\n",
      "10001 - 1/8/09 11:55 - Product1 - 1200 - Diners - julie - Haverhill - England - United Kingdom\n",
      "10002 - 1/12/09 21:30 - Product1 - 1200 - Visa - Julia - Madison - WI - United States\n",
      "10003 - 1/26/09 13:41 - Product1 - 1200 - Mastercard - Lesleigh - Baden - Aargau - Switzerland\n",
      "10004 - 1/20/09 10:42 - Product2 - 3600 - Diners - esther - Huddersfield - England - United Kingdom\n",
      "10005 - 1/22/09 14:25 - Product1 - 1200 - Visa - Hans-Joerg - Belfast - Northern Ireland - United Kingdom\n",
      "10006 - 1/28/09 5:36 - Product2 - 3600 - Visa - Christiane - Black River - Black River - Mauritius\n",
      "10007 - 1/2/09 6:17 - Product1 - 1200 - Mastercard - carolina - Basildon - England - United Kingdom\n",
      "10008 - 1/2/09 4:53 - Product1 - 1200 - Visa - Betina - Parkville - MO - United States\n",
      "10009 - 1/2/09 13:08 - Product1 - 1200 - Mastercard - Federica e Andrea - Astoria - OR - United States\n"
     ]
    }
   ],
   "source": [
    "for sales in list:\n",
    "    print(sales[0], '-', sales[1], '-', sales[2], '-', sales[3], '-', sales[4], '-', sales[5], '-', sales[6], '-', \n",
    "          sales[7], '-', sales[8])"
   ]
  },
  {
   "cell_type": "code",
   "execution_count": 48,
   "id": "f9f79144",
   "metadata": {},
   "outputs": [
    {
     "name": "stdout",
     "output_type": "stream",
     "text": [
      "Pamela - United States\n",
      "julie - United Kingdom\n",
      "Julia - United States\n",
      "Lesleigh - Switzerland\n",
      "esther - United Kingdom\n",
      "Hans-Joerg - United Kingdom\n",
      "Christiane - Mauritius\n",
      "carolina - United Kingdom\n",
      "Betina - United States\n",
      "Federica e Andrea - United States\n"
     ]
    }
   ],
   "source": [
    "for sales in list:\n",
    "    print(sales[5], '-', sales[8])"
   ]
  },
  {
   "cell_type": "code",
   "execution_count": 43,
   "id": "e7fbde7f",
   "metadata": {},
   "outputs": [],
   "source": [
    "cursor.execute(\"SELECT * FROM sales WHERE price > 4000\")\n",
    "list = cursor.fetchmany(10)"
   ]
  },
  {
   "cell_type": "code",
   "execution_count": 44,
   "id": "4246ab18",
   "metadata": {},
   "outputs": [
    {
     "name": "stdout",
     "output_type": "stream",
     "text": [
      "Product3 - Amex\n",
      "Product3 - Mastercard\n",
      "Product3 - Mastercard\n",
      "Product3 - Visa\n",
      "Product3 - Visa\n",
      "Product3 - Mastercard\n",
      "Product3 - Visa\n",
      "Product3 - Visa\n",
      "Product3 - Visa\n",
      "Product3 - Visa\n"
     ]
    }
   ],
   "source": [
    "for sales in list:\n",
    "    print(sales[2], '-', sales[4])"
   ]
  },
  {
   "cell_type": "code",
   "execution_count": 49,
   "id": "0a514d35",
   "metadata": {},
   "outputs": [
    {
     "data": {
      "text/plain": [
       "<sqlite3.Cursor at 0x16ffb0f1f10>"
      ]
     },
     "execution_count": 49,
     "metadata": {},
     "output_type": "execute_result"
    }
   ],
   "source": [
    "cursor.execute(\"SELECT Name, Country FROM sales WHERE Product_ID BETWEEN 10000 AND 10009\")"
   ]
  },
  {
   "cell_type": "code",
   "execution_count": 50,
   "id": "53f0d2c7",
   "metadata": {},
   "outputs": [
    {
     "data": {
      "text/plain": [
       "[('Pamela', 'United States'),\n",
       " ('julie', 'United Kingdom'),\n",
       " ('Julia', 'United States'),\n",
       " ('Lesleigh', 'Switzerland'),\n",
       " ('esther', 'United Kingdom'),\n",
       " ('Hans-Joerg', 'United Kingdom'),\n",
       " ('Christiane', 'Mauritius'),\n",
       " ('carolina', 'United Kingdom'),\n",
       " ('Betina', 'United States'),\n",
       " ('Federica e Andrea', 'United States')]"
      ]
     },
     "execution_count": 50,
     "metadata": {},
     "output_type": "execute_result"
    }
   ],
   "source": [
    "cursor.fetchall()"
   ]
  },
  {
   "cell_type": "code",
   "execution_count": 53,
   "id": "6c209b07",
   "metadata": {},
   "outputs": [
    {
     "data": {
      "text/plain": [
       "<sqlite3.Cursor at 0x16ffb0f1f10>"
      ]
     },
     "execution_count": 53,
     "metadata": {},
     "output_type": "execute_result"
    }
   ],
   "source": [
    "cursor.execute(\"SELECT Product, Payment_Type FROM sales WHERE Price > 4000\")"
   ]
  },
  {
   "cell_type": "code",
   "execution_count": 54,
   "id": "e0c4b709",
   "metadata": {},
   "outputs": [
    {
     "data": {
      "text/plain": [
       "[('Product3', 'Amex'),\n",
       " ('Product3', 'Mastercard'),\n",
       " ('Product3', 'Mastercard'),\n",
       " ('Product3', 'Visa'),\n",
       " ('Product3', 'Visa'),\n",
       " ('Product3', 'Mastercard'),\n",
       " ('Product3', 'Visa'),\n",
       " ('Product3', 'Visa'),\n",
       " ('Product3', 'Visa'),\n",
       " ('Product3', 'Visa'),\n",
       " ('Product1', 'Visa'),\n",
       " ('Product3', 'Mastercard'),\n",
       " ('Product3', 'Mastercard'),\n",
       " ('Product3', 'Diners'),\n",
       " ('Product3', 'Diners'),\n",
       " ('Product3', 'Visa')]"
      ]
     },
     "execution_count": 54,
     "metadata": {},
     "output_type": "execute_result"
    }
   ],
   "source": [
    "cursor.fetchall()"
   ]
  },
  {
   "cell_type": "code",
   "execution_count": 60,
   "id": "8f03a2df",
   "metadata": {},
   "outputs": [
    {
     "data": {
      "text/plain": [
       "(992, 9)"
      ]
     },
     "execution_count": 60,
     "metadata": {},
     "output_type": "execute_result"
    }
   ],
   "source": [
    "df_csv.shape \n",
    "#Angelo Louis L. Hizon"
   ]
  },
  {
   "cell_type": "code",
   "execution_count": null,
   "id": "97772e3e",
   "metadata": {},
   "outputs": [],
   "source": []
  }
 ],
 "metadata": {
  "kernelspec": {
   "display_name": "Python 3",
   "language": "python",
   "name": "python3"
  },
  "language_info": {
   "codemirror_mode": {
    "name": "ipython",
    "version": 3
   },
   "file_extension": ".py",
   "mimetype": "text/x-python",
   "name": "python",
   "nbconvert_exporter": "python",
   "pygments_lexer": "ipython3",
   "version": "3.8.8"
  }
 },
 "nbformat": 4,
 "nbformat_minor": 5
}
