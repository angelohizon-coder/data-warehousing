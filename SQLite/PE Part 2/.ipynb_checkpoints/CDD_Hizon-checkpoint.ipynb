{
 "cells": [
  {
   "cell_type": "code",
   "execution_count": 1,
   "id": "ed17e639",
   "metadata": {},
   "outputs": [],
   "source": [
    "#Angelo Louis L. Hizon\n",
    "import sqlite3 as sql\n",
    "import pandas as pd"
   ]
  },
  {
   "cell_type": "code",
   "execution_count": 2,
   "id": "97855a64",
   "metadata": {},
   "outputs": [],
   "source": [
    "conn = sql.connect('DATAWAREHOUSE_Hizon.db')"
   ]
  },
  {
   "cell_type": "code",
   "execution_count": 3,
   "id": "5b023d1a",
   "metadata": {},
   "outputs": [],
   "source": [
    "cursor = conn.cursor()"
   ]
  },
  {
   "cell_type": "code",
   "execution_count": 4,
   "id": "490faf84",
   "metadata": {},
   "outputs": [
    {
     "data": {
      "text/plain": [
       "<sqlite3.Cursor at 0x23142963e30>"
      ]
     },
     "execution_count": 4,
     "metadata": {},
     "output_type": "execute_result"
    }
   ],
   "source": [
    "cursor.execute('CREATE TABLE \"table\" (\"Customer_ID\"\tINTEGER NOT NULL,\"Order_ID\"\tINTEGER NOT NULL,\"Order_Date\"\tTEXT NOT NULL,\"Store Number\t\"\tINTEGER NOT NULL,\"Product_ID\"\tINTEGER NOT NULL,\"Unit_Price\t\"\tREAL NOT NULL,\"Discount\"\tREAL NOT NULL,\"Quantity\"\tINTEGER NOT NULL,\"Response\"\tINTEGER NOT NULL,PRIMARY KEY(\"Customer_ID\"));')"
   ]
  },
  {
   "cell_type": "code",
   "execution_count": 5,
   "id": "db05eade",
   "metadata": {},
   "outputs": [],
   "source": [
    "conn.commit()"
   ]
  },
  {
   "cell_type": "code",
   "execution_count": 43,
   "id": "51f71c97",
   "metadata": {},
   "outputs": [
    {
     "data": {
      "text/plain": [
       "<sqlite3.Cursor at 0x23142963e30>"
      ]
     },
     "execution_count": 43,
     "metadata": {},
     "output_type": "execute_result"
    }
   ],
   "source": [
    "cursor.execute('INSERT INTO \"table\" VALUES(1863, 86855, \"11/7/2014\", 101, 15874, 100.80, 0.08, 30, 1)')"
   ]
  },
  {
   "cell_type": "code",
   "execution_count": 44,
   "id": "2ec890e6",
   "metadata": {},
   "outputs": [],
   "source": [
    "conn.commit()"
   ]
  },
  {
   "cell_type": "code",
   "execution_count": 18,
   "id": "baf7e197",
   "metadata": {},
   "outputs": [
    {
     "data": {
      "text/plain": [
       "<sqlite3.Cursor at 0x23142963e30>"
      ]
     },
     "execution_count": 18,
     "metadata": {},
     "output_type": "execute_result"
    }
   ],
   "source": [
    "cursor.execute('SELECT * FROM \"table\"')"
   ]
  },
  {
   "cell_type": "code",
   "execution_count": 20,
   "id": "42bd58c8",
   "metadata": {},
   "outputs": [
    {
     "data": {
      "text/plain": [
       "[(1863, 86855, '11/7/2014', 101, 15874, 100.8, 0.08, 30, 1)]"
      ]
     },
     "execution_count": 20,
     "metadata": {},
     "output_type": "execute_result"
    }
   ],
   "source": [
    "#Angelo Louis L. Hizon\n",
    "cursor.fetchall()"
   ]
  },
  {
   "cell_type": "code",
   "execution_count": 40,
   "id": "d343d915",
   "metadata": {},
   "outputs": [],
   "source": [
    "data = [\n",
    "        (1849, 89699, \"5/15/2013\", 106, 16246, 243.98, 0.10, 12, 1),\n",
    "        (1850, 89700, \"8/5/2013\", 106, 16534, 170.98, 0.06, 22, 1),\n",
    "        (1858, 86857, \"6/2/2015\", 107, 16558, 279.81, 0.10, 18, 1)\n",
    "       ]"
   ]
  },
  {
   "cell_type": "code",
   "execution_count": 41,
   "id": "64036578",
   "metadata": {},
   "outputs": [
    {
     "data": {
      "text/plain": [
       "<sqlite3.Cursor at 0x23142963e30>"
      ]
     },
     "execution_count": 41,
     "metadata": {},
     "output_type": "execute_result"
    }
   ],
   "source": [
    "cursor.executemany('INSERT INTO \"table\" VALUES(?, ?, ?, ?, ?, ?, ?, ?, ?)', data)"
   ]
  },
  {
   "cell_type": "code",
   "execution_count": 42,
   "id": "2928e04c",
   "metadata": {},
   "outputs": [],
   "source": [
    "conn.commit()"
   ]
  },
  {
   "cell_type": "code",
   "execution_count": 31,
   "id": "932b2450",
   "metadata": {},
   "outputs": [
    {
     "data": {
      "text/plain": [
       "<sqlite3.Cursor at 0x23142963e30>"
      ]
     },
     "execution_count": 31,
     "metadata": {},
     "output_type": "execute_result"
    }
   ],
   "source": [
    "cursor.execute('SELECT * FROM \"table\"')"
   ]
  },
  {
   "cell_type": "code",
   "execution_count": 32,
   "id": "bfa01478",
   "metadata": {},
   "outputs": [
    {
     "data": {
      "text/plain": [
       "[(1849, 89699, '5/15/2013', 106, 16246, 243.98, 0.1, 12, 1),\n",
       " (1850, 89700, '8/5/2013', 106, 16534, 170.98, 0.06, 22, 1),\n",
       " (1858, 86857, '6/2/2015', 107, 16558, 279.81, 0.1, 18, 1),\n",
       " (1863, 86855, '11/7/2014', 101, 15874, 100.8, 0.08, 30, 1)]"
      ]
     },
     "execution_count": 32,
     "metadata": {},
     "output_type": "execute_result"
    }
   ],
   "source": [
    "#Angelo Louis L. Hizon\n",
    "cursor.fetchall()"
   ]
  },
  {
   "cell_type": "code",
   "execution_count": 33,
   "id": "ef4a73b3",
   "metadata": {},
   "outputs": [],
   "source": [
    "table1 = pd.read_csv('customer_and_order_details.xlsx - orderdetails1.csv')"
   ]
  },
  {
   "cell_type": "code",
   "execution_count": 34,
   "id": "283431c9",
   "metadata": {},
   "outputs": [],
   "source": [
    "table2 = pd.read_csv('customer_and_order_details.xlsx - orderdetails2.csv')"
   ]
  },
  {
   "cell_type": "code",
   "execution_count": 39,
   "id": "ad2e012f",
   "metadata": {},
   "outputs": [],
   "source": [
    "table1.to_sql('table', con = conn, index=False, if_exists = 'replace')"
   ]
  },
  {
   "cell_type": "code",
   "execution_count": 45,
   "id": "bcab5698",
   "metadata": {},
   "outputs": [],
   "source": [
    "table2.to_sql('table', con = conn, index=False, if_exists = 'replace')"
   ]
  },
  {
   "cell_type": "code",
   "execution_count": 46,
   "id": "b78f1d6b",
   "metadata": {},
   "outputs": [
    {
     "data": {
      "text/plain": [
       "<sqlite3.Cursor at 0x23142963e30>"
      ]
     },
     "execution_count": 46,
     "metadata": {},
     "output_type": "execute_result"
    }
   ],
   "source": [
    "cursor.execute('SELECT * FROM \"table\"')"
   ]
  },
  {
   "cell_type": "code",
   "execution_count": 47,
   "id": "14616450",
   "metadata": {},
   "outputs": [
    {
     "data": {
      "text/plain": [
       "[(101, 88209, '4/26/2014', 100, 16474, 145.45, 0.09, 13, 1),\n",
       " (102, 16710, '4/26/2014', 103, 16474, 145.45, 0.09, 53, 1),\n",
       " (1025, 89013, '11/9/2014', 108, 16182, 284.98, 0.08, 20, 1),\n",
       " (1027, 89016, '12/29/2015', 103, 15956, 449.99, 0.08, 20, 1),\n",
       " (1030, 89622, '4/22/2014', 100, 15653, 175.99, 0.09, 11, 1),\n",
       " (1043, 87851, '9/8/2015', 100, 16083, 270.97, 0.06, 12, 1),\n",
       " (1056, 90215, '1/15/2013', 106, 16244, 113.98, 0.06, 12, 1),\n",
       " (1060, 58628, '3/25/2012', 105, 15872, 138.75, 0.09, 23, 1),\n",
       " (1074, 86424, '1/27/2014', 107, 16474, 145.45, 0.06, 11, 1),\n",
       " (1106, 45824, '12/8/2012', 103, 16253, 140.81, 0.08, 81, 1)]"
      ]
     },
     "execution_count": 47,
     "metadata": {},
     "output_type": "execute_result"
    }
   ],
   "source": [
    "#Angelo Louis L. Hizon\n",
    "cursor.fetchmany(10)"
   ]
  },
  {
   "cell_type": "code",
   "execution_count": 48,
   "id": "ebcbad1b",
   "metadata": {},
   "outputs": [],
   "source": [
    "table3 = pd.read_csv('customer_and_order_details.xlsx - customerdetails.csv')"
   ]
  },
  {
   "cell_type": "code",
   "execution_count": 49,
   "id": "d5fd3e15",
   "metadata": {},
   "outputs": [],
   "source": [
    "#Angelo Louis L. Hizon\n",
    "table1.to_sql('customerdetails', con = conn, index=False, if_exists = 'replace')"
   ]
  },
  {
   "cell_type": "code",
   "execution_count": 50,
   "id": "dcfeaac7",
   "metadata": {},
   "outputs": [
    {
     "ename": "DatabaseError",
     "evalue": "Execution failed on sql 'SELECT * FROM \"table\" INNER JOIN customerdetails ON \"table\".Customer_ID = customerdetails.\"ID no\"': no such table: customerdetails",
     "output_type": "error",
     "traceback": [
      "\u001b[1;31m---------------------------------------------------------------------------\u001b[0m",
      "\u001b[1;31mOperationalError\u001b[0m                          Traceback (most recent call last)",
      "\u001b[1;32mC:\\ProgramData\\Anaconda3\\lib\\site-packages\\pandas\\io\\sql.py\u001b[0m in \u001b[0;36mexecute\u001b[1;34m(self, *args, **kwargs)\u001b[0m\n\u001b[0;32m   1724\u001b[0m         \u001b[1;32mtry\u001b[0m\u001b[1;33m:\u001b[0m\u001b[1;33m\u001b[0m\u001b[1;33m\u001b[0m\u001b[0m\n\u001b[1;32m-> 1725\u001b[1;33m             \u001b[0mcur\u001b[0m\u001b[1;33m.\u001b[0m\u001b[0mexecute\u001b[0m\u001b[1;33m(\u001b[0m\u001b[1;33m*\u001b[0m\u001b[0margs\u001b[0m\u001b[1;33m,\u001b[0m \u001b[1;33m**\u001b[0m\u001b[0mkwargs\u001b[0m\u001b[1;33m)\u001b[0m\u001b[1;33m\u001b[0m\u001b[1;33m\u001b[0m\u001b[0m\n\u001b[0m\u001b[0;32m   1726\u001b[0m             \u001b[1;32mreturn\u001b[0m \u001b[0mcur\u001b[0m\u001b[1;33m\u001b[0m\u001b[1;33m\u001b[0m\u001b[0m\n",
      "\u001b[1;31mOperationalError\u001b[0m: no such table: customerdetails",
      "\nThe above exception was the direct cause of the following exception:\n",
      "\u001b[1;31mDatabaseError\u001b[0m                             Traceback (most recent call last)",
      "\u001b[1;32m<ipython-input-50-529208820263>\u001b[0m in \u001b[0;36m<module>\u001b[1;34m\u001b[0m\n\u001b[1;32m----> 1\u001b[1;33m \u001b[0mpd\u001b[0m\u001b[1;33m.\u001b[0m\u001b[0mread_sql_query\u001b[0m\u001b[1;33m(\u001b[0m\u001b[1;34m'SELECT * FROM \"table\" INNER JOIN customerdetails ON \"table\".Customer_ID = customerdetails.\"ID no\"'\u001b[0m\u001b[1;33m,\u001b[0m \u001b[0mconn\u001b[0m\u001b[1;33m)\u001b[0m\u001b[1;33m\u001b[0m\u001b[1;33m\u001b[0m\u001b[0m\n\u001b[0m",
      "\u001b[1;32mC:\\ProgramData\\Anaconda3\\lib\\site-packages\\pandas\\io\\sql.py\u001b[0m in \u001b[0;36mread_sql_query\u001b[1;34m(sql, con, index_col, coerce_float, params, parse_dates, chunksize)\u001b[0m\n\u001b[0;32m    386\u001b[0m     \"\"\"\n\u001b[0;32m    387\u001b[0m     \u001b[0mpandas_sql\u001b[0m \u001b[1;33m=\u001b[0m \u001b[0mpandasSQL_builder\u001b[0m\u001b[1;33m(\u001b[0m\u001b[0mcon\u001b[0m\u001b[1;33m)\u001b[0m\u001b[1;33m\u001b[0m\u001b[1;33m\u001b[0m\u001b[0m\n\u001b[1;32m--> 388\u001b[1;33m     return pandas_sql.read_query(\n\u001b[0m\u001b[0;32m    389\u001b[0m         \u001b[0msql\u001b[0m\u001b[1;33m,\u001b[0m\u001b[1;33m\u001b[0m\u001b[1;33m\u001b[0m\u001b[0m\n\u001b[0;32m    390\u001b[0m         \u001b[0mindex_col\u001b[0m\u001b[1;33m=\u001b[0m\u001b[0mindex_col\u001b[0m\u001b[1;33m,\u001b[0m\u001b[1;33m\u001b[0m\u001b[1;33m\u001b[0m\u001b[0m\n",
      "\u001b[1;32mC:\\ProgramData\\Anaconda3\\lib\\site-packages\\pandas\\io\\sql.py\u001b[0m in \u001b[0;36mread_query\u001b[1;34m(self, sql, index_col, coerce_float, params, parse_dates, chunksize)\u001b[0m\n\u001b[0;32m   1769\u001b[0m \u001b[1;33m\u001b[0m\u001b[0m\n\u001b[0;32m   1770\u001b[0m         \u001b[0margs\u001b[0m \u001b[1;33m=\u001b[0m \u001b[0m_convert_params\u001b[0m\u001b[1;33m(\u001b[0m\u001b[0msql\u001b[0m\u001b[1;33m,\u001b[0m \u001b[0mparams\u001b[0m\u001b[1;33m)\u001b[0m\u001b[1;33m\u001b[0m\u001b[1;33m\u001b[0m\u001b[0m\n\u001b[1;32m-> 1771\u001b[1;33m         \u001b[0mcursor\u001b[0m \u001b[1;33m=\u001b[0m \u001b[0mself\u001b[0m\u001b[1;33m.\u001b[0m\u001b[0mexecute\u001b[0m\u001b[1;33m(\u001b[0m\u001b[1;33m*\u001b[0m\u001b[0margs\u001b[0m\u001b[1;33m)\u001b[0m\u001b[1;33m\u001b[0m\u001b[1;33m\u001b[0m\u001b[0m\n\u001b[0m\u001b[0;32m   1772\u001b[0m         \u001b[0mcolumns\u001b[0m \u001b[1;33m=\u001b[0m \u001b[1;33m[\u001b[0m\u001b[0mcol_desc\u001b[0m\u001b[1;33m[\u001b[0m\u001b[1;36m0\u001b[0m\u001b[1;33m]\u001b[0m \u001b[1;32mfor\u001b[0m \u001b[0mcol_desc\u001b[0m \u001b[1;32min\u001b[0m \u001b[0mcursor\u001b[0m\u001b[1;33m.\u001b[0m\u001b[0mdescription\u001b[0m\u001b[1;33m]\u001b[0m\u001b[1;33m\u001b[0m\u001b[1;33m\u001b[0m\u001b[0m\n\u001b[0;32m   1773\u001b[0m \u001b[1;33m\u001b[0m\u001b[0m\n",
      "\u001b[1;32mC:\\ProgramData\\Anaconda3\\lib\\site-packages\\pandas\\io\\sql.py\u001b[0m in \u001b[0;36mexecute\u001b[1;34m(self, *args, **kwargs)\u001b[0m\n\u001b[0;32m   1735\u001b[0m \u001b[1;33m\u001b[0m\u001b[0m\n\u001b[0;32m   1736\u001b[0m             \u001b[0mex\u001b[0m \u001b[1;33m=\u001b[0m \u001b[0mDatabaseError\u001b[0m\u001b[1;33m(\u001b[0m\u001b[1;34mf\"Execution failed on sql '{args[0]}': {exc}\"\u001b[0m\u001b[1;33m)\u001b[0m\u001b[1;33m\u001b[0m\u001b[1;33m\u001b[0m\u001b[0m\n\u001b[1;32m-> 1737\u001b[1;33m             \u001b[1;32mraise\u001b[0m \u001b[0mex\u001b[0m \u001b[1;32mfrom\u001b[0m \u001b[0mexc\u001b[0m\u001b[1;33m\u001b[0m\u001b[1;33m\u001b[0m\u001b[0m\n\u001b[0m\u001b[0;32m   1738\u001b[0m \u001b[1;33m\u001b[0m\u001b[0m\n\u001b[0;32m   1739\u001b[0m     \u001b[1;33m@\u001b[0m\u001b[0mstaticmethod\u001b[0m\u001b[1;33m\u001b[0m\u001b[1;33m\u001b[0m\u001b[0m\n",
      "\u001b[1;31mDatabaseError\u001b[0m: Execution failed on sql 'SELECT * FROM \"table\" INNER JOIN customerdetails ON \"table\".Customer_ID = customerdetails.\"ID no\"': no such table: customerdetails"
     ]
    }
   ],
   "source": [
    "pd.read_sql_query('SELECT * FROM \"table\" INNER JOIN customerdetails ON \"table\".Customer_ID = customerdetails.\"ID no\"', conn)"
   ]
  },
  {
   "cell_type": "code",
   "execution_count": null,
   "id": "c0ba356a",
   "metadata": {},
   "outputs": [],
   "source": []
  }
 ],
 "metadata": {
  "kernelspec": {
   "display_name": "Python 3",
   "language": "python",
   "name": "python3"
  },
  "language_info": {
   "codemirror_mode": {
    "name": "ipython",
    "version": 3
   },
   "file_extension": ".py",
   "mimetype": "text/x-python",
   "name": "python",
   "nbconvert_exporter": "python",
   "pygments_lexer": "ipython3",
   "version": "3.8.8"
  }
 },
 "nbformat": 4,
 "nbformat_minor": 5
}
