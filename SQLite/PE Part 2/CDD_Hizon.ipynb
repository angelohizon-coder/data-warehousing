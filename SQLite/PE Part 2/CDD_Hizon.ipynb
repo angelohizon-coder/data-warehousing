{
 "cells": [
  {
   "cell_type": "code",
   "execution_count": 1,
   "id": "84d163e6",
   "metadata": {},
   "outputs": [],
   "source": [
    "#Angelo Louis L. Hizon\n",
    "import sqlite3 as sql\n",
    "import pandas as pd"
   ]
  },
  {
   "cell_type": "code",
   "execution_count": 2,
   "id": "4af06ee9",
   "metadata": {},
   "outputs": [],
   "source": [
    "conn = sql.connect('DATAWAREHOUSE_Hizon.db')"
   ]
  },
  {
   "cell_type": "code",
   "execution_count": 3,
   "id": "dd0fac98",
   "metadata": {},
   "outputs": [],
   "source": [
    "cursor = conn.cursor()"
   ]
  },
  {
   "cell_type": "code",
   "execution_count": 4,
   "id": "c6bca9fe",
   "metadata": {},
   "outputs": [
    {
     "data": {
      "text/plain": [
       "<sqlite3.Cursor at 0x23142963e30>"
      ]
     },
     "execution_count": 4,
     "metadata": {},
     "output_type": "execute_result"
    }
   ],
   "source": [
    "cursor.execute('CREATE TABLE \"table\" (\"Customer_ID\"\tINTEGER NOT NULL,\"Order_ID\"\tINTEGER NOT NULL,\"Order_Date\"\tTEXT NOT NULL,\"Store Number\t\"\tINTEGER NOT NULL,\"Product_ID\"\tINTEGER NOT NULL,\"Unit_Price\t\"\tREAL NOT NULL,\"Discount\"\tREAL NOT NULL,\"Quantity\"\tINTEGER NOT NULL,\"Response\"\tINTEGER NOT NULL,PRIMARY KEY(\"Customer_ID\"));')"
   ]
  },
  {
   "cell_type": "code",
   "execution_count": 5,
   "id": "842d5390",
   "metadata": {},
   "outputs": [],
   "source": [
    "conn.commit()"
   ]
  },
  {
   "cell_type": "code",
   "execution_count": 43,
   "id": "4316e149",
   "metadata": {},
   "outputs": [
    {
     "data": {
      "text/plain": [
       "<sqlite3.Cursor at 0x23142963e30>"
      ]
     },
     "execution_count": 43,
     "metadata": {},
     "output_type": "execute_result"
    }
   ],
   "source": [
    "cursor.execute('INSERT INTO \"table\" VALUES(1863, 86855, \"11/7/2014\", 101, 15874, 100.80, 0.08, 30, 1)')"
   ]
  },
  {
   "cell_type": "code",
   "execution_count": 44,
   "id": "1189d493",
   "metadata": {},
   "outputs": [],
   "source": [
    "conn.commit()"
   ]
  },
  {
   "cell_type": "code",
   "execution_count": 18,
   "id": "d7683aa8",
   "metadata": {},
   "outputs": [
    {
     "data": {
      "text/plain": [
       "<sqlite3.Cursor at 0x23142963e30>"
      ]
     },
     "execution_count": 18,
     "metadata": {},
     "output_type": "execute_result"
    }
   ],
   "source": [
    "cursor.execute('SELECT * FROM \"table\"')"
   ]
  },
  {
   "cell_type": "code",
   "execution_count": 20,
   "id": "d3be2b60",
   "metadata": {},
   "outputs": [
    {
     "data": {
      "text/plain": [
       "[(1863, 86855, '11/7/2014', 101, 15874, 100.8, 0.08, 30, 1)]"
      ]
     },
     "execution_count": 20,
     "metadata": {},
     "output_type": "execute_result"
    }
   ],
   "source": [
    "#Angelo Louis L. Hizon\n",
    "cursor.fetchall()"
   ]
  },
  {
   "cell_type": "code",
   "execution_count": 40,
   "id": "30912a98",
   "metadata": {},
   "outputs": [],
   "source": [
    "data = [\n",
    "        (1849, 89699, \"5/15/2013\", 106, 16246, 243.98, 0.10, 12, 1),\n",
    "        (1850, 89700, \"8/5/2013\", 106, 16534, 170.98, 0.06, 22, 1),\n",
    "        (1858, 86857, \"6/2/2015\", 107, 16558, 279.81, 0.10, 18, 1)\n",
    "       ]"
   ]
  },
  {
   "cell_type": "code",
   "execution_count": 41,
   "id": "74226434",
   "metadata": {},
   "outputs": [
    {
     "data": {
      "text/plain": [
       "<sqlite3.Cursor at 0x23142963e30>"
      ]
     },
     "execution_count": 41,
     "metadata": {},
     "output_type": "execute_result"
    }
   ],
   "source": [
    "cursor.executemany('INSERT INTO \"table\" VALUES(?, ?, ?, ?, ?, ?, ?, ?, ?)', data)"
   ]
  },
  {
   "cell_type": "code",
   "execution_count": 42,
   "id": "8daf52c4",
   "metadata": {},
   "outputs": [],
   "source": [
    "conn.commit()"
   ]
  },
  {
   "cell_type": "code",
   "execution_count": 31,
   "id": "ddddad4a",
   "metadata": {},
   "outputs": [
    {
     "data": {
      "text/plain": [
       "<sqlite3.Cursor at 0x23142963e30>"
      ]
     },
     "execution_count": 31,
     "metadata": {},
     "output_type": "execute_result"
    }
   ],
   "source": [
    "cursor.execute('SELECT * FROM \"table\"')"
   ]
  },
  {
   "cell_type": "code",
   "execution_count": 32,
   "id": "ac997aa5",
   "metadata": {},
   "outputs": [
    {
     "data": {
      "text/plain": [
       "[(1849, 89699, '5/15/2013', 106, 16246, 243.98, 0.1, 12, 1),\n",
       " (1850, 89700, '8/5/2013', 106, 16534, 170.98, 0.06, 22, 1),\n",
       " (1858, 86857, '6/2/2015', 107, 16558, 279.81, 0.1, 18, 1),\n",
       " (1863, 86855, '11/7/2014', 101, 15874, 100.8, 0.08, 30, 1)]"
      ]
     },
     "execution_count": 32,
     "metadata": {},
     "output_type": "execute_result"
    }
   ],
   "source": [
    "#Angelo Louis L. Hizon\n",
    "cursor.fetchall()"
   ]
  },
  {
   "cell_type": "code",
   "execution_count": 33,
   "id": "d9c0db83",
   "metadata": {},
   "outputs": [],
   "source": [
    "table1 = pd.read_csv('customer_and_order_details.xlsx - orderdetails1.csv')"
   ]
  },
  {
   "cell_type": "code",
   "execution_count": 34,
   "id": "218a188d",
   "metadata": {},
   "outputs": [],
   "source": [
    "table2 = pd.read_csv('customer_and_order_details.xlsx - orderdetails2.csv')"
   ]
  },
  {
   "cell_type": "code",
   "execution_count": 39,
   "id": "5aafd034",
   "metadata": {},
   "outputs": [],
   "source": [
    "table1.to_sql('table', con = conn, index=False, if_exists = 'replace')"
   ]
  },
  {
   "cell_type": "code",
   "execution_count": 45,
   "id": "4b2d840d",
   "metadata": {},
   "outputs": [],
   "source": [
    "table2.to_sql('table', con = conn, index=False, if_exists = 'replace')"
   ]
  },
  {
   "cell_type": "code",
   "execution_count": 46,
   "id": "4782a09b",
   "metadata": {},
   "outputs": [
    {
     "data": {
      "text/plain": [
       "<sqlite3.Cursor at 0x23142963e30>"
      ]
     },
     "execution_count": 46,
     "metadata": {},
     "output_type": "execute_result"
    }
   ],
   "source": [
    "cursor.execute('SELECT * FROM \"table\"')"
   ]
  },
  {
   "cell_type": "code",
   "execution_count": 47,
   "id": "9c477d9d",
   "metadata": {},
   "outputs": [
    {
     "data": {
      "text/plain": [
       "[(101, 88209, '4/26/2014', 100, 16474, 145.45, 0.09, 13, 1),\n",
       " (102, 16710, '4/26/2014', 103, 16474, 145.45, 0.09, 53, 1),\n",
       " (1025, 89013, '11/9/2014', 108, 16182, 284.98, 0.08, 20, 1),\n",
       " (1027, 89016, '12/29/2015', 103, 15956, 449.99, 0.08, 20, 1),\n",
       " (1030, 89622, '4/22/2014', 100, 15653, 175.99, 0.09, 11, 1),\n",
       " (1043, 87851, '9/8/2015', 100, 16083, 270.97, 0.06, 12, 1),\n",
       " (1056, 90215, '1/15/2013', 106, 16244, 113.98, 0.06, 12, 1),\n",
       " (1060, 58628, '3/25/2012', 105, 15872, 138.75, 0.09, 23, 1),\n",
       " (1074, 86424, '1/27/2014', 107, 16474, 145.45, 0.06, 11, 1),\n",
       " (1106, 45824, '12/8/2012', 103, 16253, 140.81, 0.08, 81, 1)]"
      ]
     },
     "execution_count": 47,
     "metadata": {},
     "output_type": "execute_result"
    }
   ],
   "source": [
    "#Angelo Louis L. Hizon\n",
    "cursor.fetchmany(10)"
   ]
  },
  {
   "cell_type": "code",
   "execution_count": 4,
   "id": "dff4d23e",
   "metadata": {},
   "outputs": [],
   "source": [
    "table3 = pd.read_csv('customer_and_order_details.xlsx - customerdetails.csv')"
   ]
  },
  {
   "cell_type": "code",
   "execution_count": 6,
   "id": "64e5a4ee",
   "metadata": {},
   "outputs": [],
   "source": [
    "#Angelo Louis L. Hizon\n",
    "table3.to_sql('customerdetails', con = conn, index=False, if_exists = 'replace')"
   ]
  },
  {
   "cell_type": "code",
   "execution_count": 12,
   "id": "81df81fa",
   "metadata": {},
   "outputs": [
    {
     "data": {
      "text/html": [
       "<div>\n",
       "<style scoped>\n",
       "    .dataframe tbody tr th:only-of-type {\n",
       "        vertical-align: middle;\n",
       "    }\n",
       "\n",
       "    .dataframe tbody tr th {\n",
       "        vertical-align: top;\n",
       "    }\n",
       "\n",
       "    .dataframe thead th {\n",
       "        text-align: right;\n",
       "    }\n",
       "</style>\n",
       "<table border=\"1\" class=\"dataframe\">\n",
       "  <thead>\n",
       "    <tr style=\"text-align: right;\">\n",
       "      <th></th>\n",
       "      <th>Customer_ID</th>\n",
       "      <th>Order_ID</th>\n",
       "      <th>Order_Date</th>\n",
       "      <th>Store Number</th>\n",
       "      <th>Product_ID</th>\n",
       "      <th>Unit_Price</th>\n",
       "      <th>Discount</th>\n",
       "      <th>Quantity</th>\n",
       "      <th>Response</th>\n",
       "      <th>ID no</th>\n",
       "      <th>Store Number</th>\n",
       "      <th>Payment_Type</th>\n",
       "      <th>Name</th>\n",
       "      <th>City</th>\n",
       "      <th>State</th>\n",
       "      <th>Country</th>\n",
       "    </tr>\n",
       "  </thead>\n",
       "  <tbody>\n",
       "    <tr>\n",
       "      <th>0</th>\n",
       "      <td>101</td>\n",
       "      <td>88209</td>\n",
       "      <td>4/26/2014</td>\n",
       "      <td>100</td>\n",
       "      <td>16474</td>\n",
       "      <td>145.45</td>\n",
       "      <td>0.09</td>\n",
       "      <td>13</td>\n",
       "      <td>1</td>\n",
       "      <td>101</td>\n",
       "      <td>100</td>\n",
       "      <td>Mastercard</td>\n",
       "      <td>carolina</td>\n",
       "      <td>Basildon</td>\n",
       "      <td>England</td>\n",
       "      <td>United Kingdom</td>\n",
       "    </tr>\n",
       "    <tr>\n",
       "      <th>1</th>\n",
       "      <td>102</td>\n",
       "      <td>16710</td>\n",
       "      <td>4/26/2014</td>\n",
       "      <td>103</td>\n",
       "      <td>16474</td>\n",
       "      <td>145.45</td>\n",
       "      <td>0.09</td>\n",
       "      <td>53</td>\n",
       "      <td>1</td>\n",
       "      <td>102</td>\n",
       "      <td>103</td>\n",
       "      <td>Visa</td>\n",
       "      <td>Betina</td>\n",
       "      <td>Parkville</td>\n",
       "      <td>MO</td>\n",
       "      <td>United States</td>\n",
       "    </tr>\n",
       "    <tr>\n",
       "      <th>2</th>\n",
       "      <td>1025</td>\n",
       "      <td>89013</td>\n",
       "      <td>11/9/2014</td>\n",
       "      <td>108</td>\n",
       "      <td>16182</td>\n",
       "      <td>284.98</td>\n",
       "      <td>0.08</td>\n",
       "      <td>20</td>\n",
       "      <td>1</td>\n",
       "      <td>1025</td>\n",
       "      <td>108</td>\n",
       "      <td>Mastercard</td>\n",
       "      <td>Federica e Andrea</td>\n",
       "      <td>Astoria</td>\n",
       "      <td>OR</td>\n",
       "      <td>United States</td>\n",
       "    </tr>\n",
       "    <tr>\n",
       "      <th>3</th>\n",
       "      <td>1027</td>\n",
       "      <td>89016</td>\n",
       "      <td>12/29/2015</td>\n",
       "      <td>103</td>\n",
       "      <td>15956</td>\n",
       "      <td>449.99</td>\n",
       "      <td>0.08</td>\n",
       "      <td>20</td>\n",
       "      <td>1</td>\n",
       "      <td>1027</td>\n",
       "      <td>103</td>\n",
       "      <td>Visa</td>\n",
       "      <td>Gouya</td>\n",
       "      <td>Echuca</td>\n",
       "      <td>Victoria</td>\n",
       "      <td>Australia</td>\n",
       "    </tr>\n",
       "    <tr>\n",
       "      <th>4</th>\n",
       "      <td>1030</td>\n",
       "      <td>89622</td>\n",
       "      <td>4/22/2014</td>\n",
       "      <td>100</td>\n",
       "      <td>15653</td>\n",
       "      <td>175.99</td>\n",
       "      <td>0.09</td>\n",
       "      <td>11</td>\n",
       "      <td>1</td>\n",
       "      <td>1030</td>\n",
       "      <td>100</td>\n",
       "      <td>Visa</td>\n",
       "      <td>Gerd W</td>\n",
       "      <td>Cahaba Heights</td>\n",
       "      <td>AL</td>\n",
       "      <td>United States</td>\n",
       "    </tr>\n",
       "    <tr>\n",
       "      <th>...</th>\n",
       "      <td>...</td>\n",
       "      <td>...</td>\n",
       "      <td>...</td>\n",
       "      <td>...</td>\n",
       "      <td>...</td>\n",
       "      <td>...</td>\n",
       "      <td>...</td>\n",
       "      <td>...</td>\n",
       "      <td>...</td>\n",
       "      <td>...</td>\n",
       "      <td>...</td>\n",
       "      <td>...</td>\n",
       "      <td>...</td>\n",
       "      <td>...</td>\n",
       "      <td>...</td>\n",
       "      <td>...</td>\n",
       "    </tr>\n",
       "    <tr>\n",
       "      <th>67</th>\n",
       "      <td>1531</td>\n",
       "      <td>88855</td>\n",
       "      <td>11/2/2014</td>\n",
       "      <td>105</td>\n",
       "      <td>16361</td>\n",
       "      <td>209.84</td>\n",
       "      <td>0.10</td>\n",
       "      <td>12</td>\n",
       "      <td>1</td>\n",
       "      <td>1531</td>\n",
       "      <td>105</td>\n",
       "      <td>Visa</td>\n",
       "      <td>chris</td>\n",
       "      <td>Gold Coast</td>\n",
       "      <td>Queensland</td>\n",
       "      <td>Australia</td>\n",
       "    </tr>\n",
       "    <tr>\n",
       "      <th>68</th>\n",
       "      <td>1537</td>\n",
       "      <td>90426</td>\n",
       "      <td>1/21/2015</td>\n",
       "      <td>101</td>\n",
       "      <td>16542</td>\n",
       "      <td>349.45</td>\n",
       "      <td>0.10</td>\n",
       "      <td>12</td>\n",
       "      <td>1</td>\n",
       "      <td>1537</td>\n",
       "      <td>101</td>\n",
       "      <td>Visa</td>\n",
       "      <td>Stephanie</td>\n",
       "      <td>Brussels</td>\n",
       "      <td>Brussels (Bruxelles)</td>\n",
       "      <td>Belgium</td>\n",
       "    </tr>\n",
       "    <tr>\n",
       "      <th>69</th>\n",
       "      <td>1538</td>\n",
       "      <td>90423</td>\n",
       "      <td>5/1/2014</td>\n",
       "      <td>107</td>\n",
       "      <td>16243</td>\n",
       "      <td>296.18</td>\n",
       "      <td>0.08</td>\n",
       "      <td>14</td>\n",
       "      <td>1</td>\n",
       "      <td>1538</td>\n",
       "      <td>107</td>\n",
       "      <td>Visa</td>\n",
       "      <td>Anushka</td>\n",
       "      <td>Maple Ridge District Municipality</td>\n",
       "      <td>British Columbia</td>\n",
       "      <td>Canada</td>\n",
       "    </tr>\n",
       "    <tr>\n",
       "      <th>70</th>\n",
       "      <td>1550</td>\n",
       "      <td>87496</td>\n",
       "      <td>5/1/2014</td>\n",
       "      <td>103</td>\n",
       "      <td>16214</td>\n",
       "      <td>599.99</td>\n",
       "      <td>0.09</td>\n",
       "      <td>11</td>\n",
       "      <td>1</td>\n",
       "      <td>1550</td>\n",
       "      <td>103</td>\n",
       "      <td>Diners</td>\n",
       "      <td>Baybars</td>\n",
       "      <td>Prince Albert</td>\n",
       "      <td>Saskatchewan</td>\n",
       "      <td>Canada</td>\n",
       "    </tr>\n",
       "    <tr>\n",
       "      <th>71</th>\n",
       "      <td>1550</td>\n",
       "      <td>87496</td>\n",
       "      <td>5/1/2014</td>\n",
       "      <td>103</td>\n",
       "      <td>16214</td>\n",
       "      <td>599.99</td>\n",
       "      <td>0.09</td>\n",
       "      <td>11</td>\n",
       "      <td>1</td>\n",
       "      <td>1550</td>\n",
       "      <td>103</td>\n",
       "      <td>Mastercard</td>\n",
       "      <td>June</td>\n",
       "      <td>Beachwood</td>\n",
       "      <td>OH</td>\n",
       "      <td>United States</td>\n",
       "    </tr>\n",
       "  </tbody>\n",
       "</table>\n",
       "<p>72 rows × 16 columns</p>\n",
       "</div>"
      ],
      "text/plain": [
       "    Customer_ID  Order_ID  Order_Date  Store Number  Product_ID  Unit_Price  \\\n",
       "0           101     88209   4/26/2014           100       16474      145.45   \n",
       "1           102     16710   4/26/2014           103       16474      145.45   \n",
       "2          1025     89013   11/9/2014           108       16182      284.98   \n",
       "3          1027     89016  12/29/2015           103       15956      449.99   \n",
       "4          1030     89622   4/22/2014           100       15653      175.99   \n",
       "..          ...       ...         ...           ...         ...         ...   \n",
       "67         1531     88855   11/2/2014           105       16361      209.84   \n",
       "68         1537     90426   1/21/2015           101       16542      349.45   \n",
       "69         1538     90423    5/1/2014           107       16243      296.18   \n",
       "70         1550     87496    5/1/2014           103       16214      599.99   \n",
       "71         1550     87496    5/1/2014           103       16214      599.99   \n",
       "\n",
       "    Discount  Quantity  Response  ID no  Store Number Payment_Type  \\\n",
       "0       0.09        13         1    101           100   Mastercard   \n",
       "1       0.09        53         1    102           103         Visa   \n",
       "2       0.08        20         1   1025           108   Mastercard   \n",
       "3       0.08        20         1   1027           103         Visa   \n",
       "4       0.09        11         1   1030           100         Visa   \n",
       "..       ...       ...       ...    ...           ...          ...   \n",
       "67      0.10        12         1   1531           105         Visa   \n",
       "68      0.10        12         1   1537           101         Visa   \n",
       "69      0.08        14         1   1538           107         Visa   \n",
       "70      0.09        11         1   1550           103       Diners   \n",
       "71      0.09        11         1   1550           103   Mastercard   \n",
       "\n",
       "                 Name                               City  \\\n",
       "0            carolina                           Basildon   \n",
       "1              Betina                          Parkville   \n",
       "2   Federica e Andrea                            Astoria   \n",
       "3               Gouya                             Echuca   \n",
       "4              Gerd W                     Cahaba Heights   \n",
       "..                ...                                ...   \n",
       "67              chris                         Gold Coast   \n",
       "68          Stephanie                           Brussels   \n",
       "69            Anushka  Maple Ridge District Municipality   \n",
       "70            Baybars                      Prince Albert   \n",
       "71               June                          Beachwood   \n",
       "\n",
       "                   State         Country  \n",
       "0                England  United Kingdom  \n",
       "1                     MO   United States  \n",
       "2                     OR   United States  \n",
       "3               Victoria       Australia  \n",
       "4                     AL   United States  \n",
       "..                   ...             ...  \n",
       "67            Queensland       Australia  \n",
       "68  Brussels (Bruxelles)         Belgium  \n",
       "69      British Columbia          Canada  \n",
       "70          Saskatchewan          Canada  \n",
       "71                    OH   United States  \n",
       "\n",
       "[72 rows x 16 columns]"
      ]
     },
     "execution_count": 12,
     "metadata": {},
     "output_type": "execute_result"
    }
   ],
   "source": [
    "df1 = pd.read_sql_query('SELECT * FROM \"table\" INNER JOIN customerdetails ON \"table\".Customer_ID = customerdetails.\"ID no\"', conn)\n",
    "df1"
   ]
  },
  {
   "cell_type": "code",
   "execution_count": 13,
   "id": "995d4225",
   "metadata": {},
   "outputs": [
    {
     "data": {
      "text/plain": [
       "<sqlite3.Cursor at 0x249d8d40f80>"
      ]
     },
     "execution_count": 13,
     "metadata": {},
     "output_type": "execute_result"
    }
   ],
   "source": [
    "cursor.execute('SELECT * FROM customerdetails')"
   ]
  },
  {
   "cell_type": "code",
   "execution_count": 14,
   "id": "a3ca6df8",
   "metadata": {},
   "outputs": [
    {
     "data": {
      "text/plain": [
       "[(101, 100, 'Mastercard', 'carolina', 'Basildon', 'England', 'United Kingdom'),\n",
       " (102, 103, 'Visa', 'Betina', 'Parkville', 'MO', 'United States'),\n",
       " (1025,\n",
       "  108,\n",
       "  'Mastercard',\n",
       "  'Federica e Andrea',\n",
       "  'Astoria',\n",
       "  'OR',\n",
       "  'United States'),\n",
       " (1027, 103, 'Visa', 'Gouya', 'Echuca', 'Victoria', 'Australia'),\n",
       " (1030, 100, 'Visa', 'Gerd W', 'Cahaba Heights', 'AL', 'United States')]"
      ]
     },
     "execution_count": 14,
     "metadata": {},
     "output_type": "execute_result"
    }
   ],
   "source": [
    "#Angelo Louis L. Hizon\n",
    "cursor.fetchmany(5)"
   ]
  },
  {
   "cell_type": "code",
   "execution_count": 30,
   "id": "e2220add",
   "metadata": {},
   "outputs": [
    {
     "data": {
      "text/html": [
       "<div>\n",
       "<style scoped>\n",
       "    .dataframe tbody tr th:only-of-type {\n",
       "        vertical-align: middle;\n",
       "    }\n",
       "\n",
       "    .dataframe tbody tr th {\n",
       "        vertical-align: top;\n",
       "    }\n",
       "\n",
       "    .dataframe thead th {\n",
       "        text-align: right;\n",
       "    }\n",
       "</style>\n",
       "<table border=\"1\" class=\"dataframe\">\n",
       "  <thead>\n",
       "    <tr style=\"text-align: right;\">\n",
       "      <th></th>\n",
       "      <th>Customer_ID</th>\n",
       "      <th>Store Number</th>\n",
       "    </tr>\n",
       "  </thead>\n",
       "  <tbody>\n",
       "  </tbody>\n",
       "</table>\n",
       "</div>"
      ],
      "text/plain": [
       "Empty DataFrame\n",
       "Columns: [Customer_ID, Store Number]\n",
       "Index: []"
      ]
     },
     "execution_count": 30,
     "metadata": {},
     "output_type": "execute_result"
    }
   ],
   "source": [
    "pd.read_sql_query('SELECT Customer_ID, \"table\".\"Store Number\" FROM \"table\" INNER JOIN customerdetails ON \"table\".CUSTOMER_ID = customerdetails.\"ID No\" WHERE discount < 0.05', conn)"
   ]
  },
  {
   "cell_type": "code",
   "execution_count": 27,
   "id": "f018fa3c",
   "metadata": {},
   "outputs": [
    {
     "ename": "DatabaseError",
     "evalue": "Execution failed on sql 'SELECT Customer_ID, Name FROM \"table\" WHERE \"Store Number\" = 100': no such column: Name",
     "output_type": "error",
     "traceback": [
      "\u001b[1;31m---------------------------------------------------------------------------\u001b[0m",
      "\u001b[1;31mOperationalError\u001b[0m                          Traceback (most recent call last)",
      "\u001b[1;32mC:\\ProgramData\\Anaconda3\\lib\\site-packages\\pandas\\io\\sql.py\u001b[0m in \u001b[0;36mexecute\u001b[1;34m(self, *args, **kwargs)\u001b[0m\n\u001b[0;32m   1724\u001b[0m         \u001b[1;32mtry\u001b[0m\u001b[1;33m:\u001b[0m\u001b[1;33m\u001b[0m\u001b[1;33m\u001b[0m\u001b[0m\n\u001b[1;32m-> 1725\u001b[1;33m             \u001b[0mcur\u001b[0m\u001b[1;33m.\u001b[0m\u001b[0mexecute\u001b[0m\u001b[1;33m(\u001b[0m\u001b[1;33m*\u001b[0m\u001b[0margs\u001b[0m\u001b[1;33m,\u001b[0m \u001b[1;33m**\u001b[0m\u001b[0mkwargs\u001b[0m\u001b[1;33m)\u001b[0m\u001b[1;33m\u001b[0m\u001b[1;33m\u001b[0m\u001b[0m\n\u001b[0m\u001b[0;32m   1726\u001b[0m             \u001b[1;32mreturn\u001b[0m \u001b[0mcur\u001b[0m\u001b[1;33m\u001b[0m\u001b[1;33m\u001b[0m\u001b[0m\n",
      "\u001b[1;31mOperationalError\u001b[0m: no such column: Name",
      "\nThe above exception was the direct cause of the following exception:\n",
      "\u001b[1;31mDatabaseError\u001b[0m                             Traceback (most recent call last)",
      "\u001b[1;32m<ipython-input-27-dc19ad958544>\u001b[0m in \u001b[0;36m<module>\u001b[1;34m\u001b[0m\n\u001b[1;32m----> 1\u001b[1;33m \u001b[0mpd\u001b[0m\u001b[1;33m.\u001b[0m\u001b[0mread_sql_query\u001b[0m\u001b[1;33m(\u001b[0m\u001b[1;34m'SELECT Customer_ID, Name FROM \"table\" WHERE \"Store Number\" = 100'\u001b[0m\u001b[1;33m,\u001b[0m \u001b[0mconn\u001b[0m\u001b[1;33m)\u001b[0m\u001b[1;33m\u001b[0m\u001b[1;33m\u001b[0m\u001b[0m\n\u001b[0m",
      "\u001b[1;32mC:\\ProgramData\\Anaconda3\\lib\\site-packages\\pandas\\io\\sql.py\u001b[0m in \u001b[0;36mread_sql_query\u001b[1;34m(sql, con, index_col, coerce_float, params, parse_dates, chunksize)\u001b[0m\n\u001b[0;32m    386\u001b[0m     \"\"\"\n\u001b[0;32m    387\u001b[0m     \u001b[0mpandas_sql\u001b[0m \u001b[1;33m=\u001b[0m \u001b[0mpandasSQL_builder\u001b[0m\u001b[1;33m(\u001b[0m\u001b[0mcon\u001b[0m\u001b[1;33m)\u001b[0m\u001b[1;33m\u001b[0m\u001b[1;33m\u001b[0m\u001b[0m\n\u001b[1;32m--> 388\u001b[1;33m     return pandas_sql.read_query(\n\u001b[0m\u001b[0;32m    389\u001b[0m         \u001b[0msql\u001b[0m\u001b[1;33m,\u001b[0m\u001b[1;33m\u001b[0m\u001b[1;33m\u001b[0m\u001b[0m\n\u001b[0;32m    390\u001b[0m         \u001b[0mindex_col\u001b[0m\u001b[1;33m=\u001b[0m\u001b[0mindex_col\u001b[0m\u001b[1;33m,\u001b[0m\u001b[1;33m\u001b[0m\u001b[1;33m\u001b[0m\u001b[0m\n",
      "\u001b[1;32mC:\\ProgramData\\Anaconda3\\lib\\site-packages\\pandas\\io\\sql.py\u001b[0m in \u001b[0;36mread_query\u001b[1;34m(self, sql, index_col, coerce_float, params, parse_dates, chunksize)\u001b[0m\n\u001b[0;32m   1769\u001b[0m \u001b[1;33m\u001b[0m\u001b[0m\n\u001b[0;32m   1770\u001b[0m         \u001b[0margs\u001b[0m \u001b[1;33m=\u001b[0m \u001b[0m_convert_params\u001b[0m\u001b[1;33m(\u001b[0m\u001b[0msql\u001b[0m\u001b[1;33m,\u001b[0m \u001b[0mparams\u001b[0m\u001b[1;33m)\u001b[0m\u001b[1;33m\u001b[0m\u001b[1;33m\u001b[0m\u001b[0m\n\u001b[1;32m-> 1771\u001b[1;33m         \u001b[0mcursor\u001b[0m \u001b[1;33m=\u001b[0m \u001b[0mself\u001b[0m\u001b[1;33m.\u001b[0m\u001b[0mexecute\u001b[0m\u001b[1;33m(\u001b[0m\u001b[1;33m*\u001b[0m\u001b[0margs\u001b[0m\u001b[1;33m)\u001b[0m\u001b[1;33m\u001b[0m\u001b[1;33m\u001b[0m\u001b[0m\n\u001b[0m\u001b[0;32m   1772\u001b[0m         \u001b[0mcolumns\u001b[0m \u001b[1;33m=\u001b[0m \u001b[1;33m[\u001b[0m\u001b[0mcol_desc\u001b[0m\u001b[1;33m[\u001b[0m\u001b[1;36m0\u001b[0m\u001b[1;33m]\u001b[0m \u001b[1;32mfor\u001b[0m \u001b[0mcol_desc\u001b[0m \u001b[1;32min\u001b[0m \u001b[0mcursor\u001b[0m\u001b[1;33m.\u001b[0m\u001b[0mdescription\u001b[0m\u001b[1;33m]\u001b[0m\u001b[1;33m\u001b[0m\u001b[1;33m\u001b[0m\u001b[0m\n\u001b[0;32m   1773\u001b[0m \u001b[1;33m\u001b[0m\u001b[0m\n",
      "\u001b[1;32mC:\\ProgramData\\Anaconda3\\lib\\site-packages\\pandas\\io\\sql.py\u001b[0m in \u001b[0;36mexecute\u001b[1;34m(self, *args, **kwargs)\u001b[0m\n\u001b[0;32m   1735\u001b[0m \u001b[1;33m\u001b[0m\u001b[0m\n\u001b[0;32m   1736\u001b[0m             \u001b[0mex\u001b[0m \u001b[1;33m=\u001b[0m \u001b[0mDatabaseError\u001b[0m\u001b[1;33m(\u001b[0m\u001b[1;34mf\"Execution failed on sql '{args[0]}': {exc}\"\u001b[0m\u001b[1;33m)\u001b[0m\u001b[1;33m\u001b[0m\u001b[1;33m\u001b[0m\u001b[0m\n\u001b[1;32m-> 1737\u001b[1;33m             \u001b[1;32mraise\u001b[0m \u001b[0mex\u001b[0m \u001b[1;32mfrom\u001b[0m \u001b[0mexc\u001b[0m\u001b[1;33m\u001b[0m\u001b[1;33m\u001b[0m\u001b[0m\n\u001b[0m\u001b[0;32m   1738\u001b[0m \u001b[1;33m\u001b[0m\u001b[0m\n\u001b[0;32m   1739\u001b[0m     \u001b[1;33m@\u001b[0m\u001b[0mstaticmethod\u001b[0m\u001b[1;33m\u001b[0m\u001b[1;33m\u001b[0m\u001b[0m\n",
      "\u001b[1;31mDatabaseError\u001b[0m: Execution failed on sql 'SELECT Customer_ID, Name FROM \"table\" WHERE \"Store Number\" = 100': no such column: Name"
     ]
    }
   ],
   "source": [
    "pd.read_sql_query('SELECT Customer_ID, Name FROM \"table\" INNER JOIN customerdetails ON ', conn)"
   ]
  },
  {
   "cell_type": "code",
   "execution_count": 37,
   "id": "e982ff95",
   "metadata": {},
   "outputs": [
    {
     "data": {
      "text/html": [
       "<div>\n",
       "<style scoped>\n",
       "    .dataframe tbody tr th:only-of-type {\n",
       "        vertical-align: middle;\n",
       "    }\n",
       "\n",
       "    .dataframe tbody tr th {\n",
       "        vertical-align: top;\n",
       "    }\n",
       "\n",
       "    .dataframe thead th {\n",
       "        text-align: right;\n",
       "    }\n",
       "</style>\n",
       "<table border=\"1\" class=\"dataframe\">\n",
       "  <thead>\n",
       "    <tr style=\"text-align: right;\">\n",
       "      <th></th>\n",
       "      <th>Name</th>\n",
       "      <th>Customer_ID</th>\n",
       "      <th>Store Number</th>\n",
       "    </tr>\n",
       "  </thead>\n",
       "  <tbody>\n",
       "    <tr>\n",
       "      <th>0</th>\n",
       "      <td>adam</td>\n",
       "      <td>1060</td>\n",
       "      <td>105</td>\n",
       "    </tr>\n",
       "    <tr>\n",
       "      <th>1</th>\n",
       "      <td>Stacy</td>\n",
       "      <td>1118</td>\n",
       "      <td>102</td>\n",
       "    </tr>\n",
       "    <tr>\n",
       "      <th>2</th>\n",
       "      <td>Heidi</td>\n",
       "      <td>1123</td>\n",
       "      <td>100</td>\n",
       "    </tr>\n",
       "    <tr>\n",
       "      <th>3</th>\n",
       "      <td>barbara</td>\n",
       "      <td>1143</td>\n",
       "      <td>103</td>\n",
       "    </tr>\n",
       "    <tr>\n",
       "      <th>4</th>\n",
       "      <td>Hani</td>\n",
       "      <td>1211</td>\n",
       "      <td>109</td>\n",
       "    </tr>\n",
       "    <tr>\n",
       "      <th>5</th>\n",
       "      <td>Jeremy</td>\n",
       "      <td>1211</td>\n",
       "      <td>109</td>\n",
       "    </tr>\n",
       "    <tr>\n",
       "      <th>6</th>\n",
       "      <td>Lena</td>\n",
       "      <td>1228</td>\n",
       "      <td>104</td>\n",
       "    </tr>\n",
       "    <tr>\n",
       "      <th>7</th>\n",
       "      <td>Nicola</td>\n",
       "      <td>1228</td>\n",
       "      <td>104</td>\n",
       "    </tr>\n",
       "    <tr>\n",
       "      <th>8</th>\n",
       "      <td>asuman</td>\n",
       "      <td>1228</td>\n",
       "      <td>104</td>\n",
       "    </tr>\n",
       "    <tr>\n",
       "      <th>9</th>\n",
       "      <td>Maxine</td>\n",
       "      <td>1250</td>\n",
       "      <td>107</td>\n",
       "    </tr>\n",
       "    <tr>\n",
       "      <th>10</th>\n",
       "      <td>chris</td>\n",
       "      <td>1250</td>\n",
       "      <td>107</td>\n",
       "    </tr>\n",
       "    <tr>\n",
       "      <th>11</th>\n",
       "      <td>Katherine</td>\n",
       "      <td>1259</td>\n",
       "      <td>102</td>\n",
       "    </tr>\n",
       "    <tr>\n",
       "      <th>12</th>\n",
       "      <td>Stephanie</td>\n",
       "      <td>1377</td>\n",
       "      <td>105</td>\n",
       "    </tr>\n",
       "  </tbody>\n",
       "</table>\n",
       "</div>"
      ],
      "text/plain": [
       "         Name  Customer_ID  Store Number\n",
       "0        adam         1060           105\n",
       "1       Stacy         1118           102\n",
       "2       Heidi         1123           100\n",
       "3     barbara         1143           103\n",
       "4        Hani         1211           109\n",
       "5      Jeremy         1211           109\n",
       "6        Lena         1228           104\n",
       "7      Nicola         1228           104\n",
       "8      asuman         1228           104\n",
       "9      Maxine         1250           107\n",
       "10      chris         1250           107\n",
       "11  Katherine         1259           102\n",
       "12  Stephanie         1377           105"
      ]
     },
     "execution_count": 37,
     "metadata": {},
     "output_type": "execute_result"
    }
   ],
   "source": [
    "pd.read_sql_query('SELECT Name, Customer_ID, \"table\".\"Store Number\" FROM \"table\" INNER JOIN customerdetails ON Customer_ID = \"ID No\" WHERE Quantity < 30 AND Quantity > 20', conn)"
   ]
  },
  {
   "cell_type": "code",
   "execution_count": null,
   "id": "d2f58b70",
   "metadata": {},
   "outputs": [],
   "source": [
    "pd.read_sql_query('SELECT , Customer_ID, \"table\".\"Store Number\" FROM \"table\" INNER JOIN customerdetails ON Customer_ID = \"ID No\"', conn)"
   ]
  }
 ],
 "metadata": {
  "kernelspec": {
   "display_name": "Python 3",
   "language": "python",
   "name": "python3"
  },
  "language_info": {
   "codemirror_mode": {
    "name": "ipython",
    "version": 3
   },
   "file_extension": ".py",
   "mimetype": "text/x-python",
   "name": "python",
   "nbconvert_exporter": "python",
   "pygments_lexer": "ipython3",
   "version": "3.8.8"
  }
 },
 "nbformat": 4,
 "nbformat_minor": 5
}
