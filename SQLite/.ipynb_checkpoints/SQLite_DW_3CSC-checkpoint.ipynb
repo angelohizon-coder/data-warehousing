{
 "cells": [
  {
   "cell_type": "code",
   "execution_count": 44,
   "id": "2df87917",
   "metadata": {},
   "outputs": [],
   "source": [
    "import sqlite3 as sql"
   ]
  },
  {
   "cell_type": "code",
   "execution_count": 45,
   "id": "d0eb84fb",
   "metadata": {},
   "outputs": [],
   "source": [
    "#make sure that the connection is within the same directory as the database\n",
    "conn = sql.connect(\"Datawarehouse_3CSC.db\")"
   ]
  },
  {
   "cell_type": "code",
   "execution_count": 46,
   "id": "25160b07",
   "metadata": {},
   "outputs": [],
   "source": [
    "cursor = conn.cursor()"
   ]
  },
  {
   "cell_type": "code",
   "execution_count": null,
   "id": "a8fcc756",
   "metadata": {
    "scrolled": true
   },
   "outputs": [],
   "source": [
    "cursor.execute('CREATE TABLE students_csc(id INTEGER, firstNAME TEXT, familyNAME TEXT, age INTEGER, gwa REAL, gender TEXT)')"
   ]
  },
  {
   "cell_type": "code",
   "execution_count": 47,
   "id": "2a803fc2",
   "metadata": {},
   "outputs": [],
   "source": [
    "conn.commit()"
   ]
  },
  {
   "cell_type": "code",
   "execution_count": null,
   "id": "6fdc9f4f",
   "metadata": {},
   "outputs": [],
   "source": [
    "# cursor.execute(\"INSERT INTO students_csc VALUES(2019130134, 'John Angelo', 'Algarne', 20, 4.20, 'M')\")\n",
    "cursor.execute(\"SELECT * FROM students_csc\")"
   ]
  },
  {
   "cell_type": "code",
   "execution_count": 48,
   "id": "2ad27876",
   "metadata": {},
   "outputs": [
    {
     "data": {
      "text/plain": [
       "[]"
      ]
     },
     "execution_count": 48,
     "metadata": {},
     "output_type": "execute_result"
    }
   ],
   "source": [
    "cursor.fetchall()"
   ]
  },
  {
   "cell_type": "code",
   "execution_count": null,
   "id": "19227538",
   "metadata": {},
   "outputs": [],
   "source": [
    "id = input('ID: ')\n",
    "firstname = input('First Name: ')\n",
    "familyname = input('Family Name: ')\n",
    "age = input('Age: ')\n",
    "gwa = input('GWA: ')\n",
    "gender = input('Gender: ')"
   ]
  },
  {
   "cell_type": "raw",
   "id": "32deda5a",
   "metadata": {},
   "source": []
  },
  {
   "cell_type": "code",
   "execution_count": null,
   "id": "035f2d13",
   "metadata": {},
   "outputs": [],
   "source": [
    "set_of_students = [(2019129789,'Chlarizza', 'Torres', 21, 5.00, 'F'),\n",
    "                   (2019132627, 'Abraham', 'Militar', 20, 2.00, 'M'),\n",
    "                   (2019128089, 'Andrei', 'Benitez',20 ,4.20, 'M')]"
   ]
  },
  {
   "cell_type": "code",
   "execution_count": null,
   "id": "0195def4",
   "metadata": {},
   "outputs": [],
   "source": [
    "cursor.executemany(\"INSERT INTO students_csc VALUES(?, ?, ?, ?, ?, ?)\", set_of_students)\n"
   ]
  },
  {
   "cell_type": "code",
   "execution_count": null,
   "id": "49be14ec",
   "metadata": {},
   "outputs": [],
   "source": [
    "conn.commit()"
   ]
  },
  {
   "cell_type": "code",
   "execution_count": 4,
   "id": "d1a8f6d2",
   "metadata": {},
   "outputs": [],
   "source": [
    "import pandas as pd"
   ]
  },
  {
   "cell_type": "code",
   "execution_count": null,
   "id": "8d4f4322",
   "metadata": {
    "scrolled": true
   },
   "outputs": [],
   "source": [
    "#CSV file is in the same directory as the database\n",
    "csc_g1 = pd.read_csv('3csc - Sheet1.csv')\n",
    "csc_g1"
   ]
  },
  {
   "cell_type": "code",
   "execution_count": null,
   "id": "6711b512",
   "metadata": {},
   "outputs": [],
   "source": [
    "dataFrameQueryAll = pd.read_sql_query('SELECT * FROM CSC_Students', conn)\n",
    "dataFrameQueryAll.tail()"
   ]
  },
  {
   "cell_type": "code",
   "execution_count": null,
   "id": "31161094",
   "metadata": {},
   "outputs": [],
   "source": [
    "csc_g2 = pd.read_csv('3csc - Sheet1 - with gender.csv')\n",
    "csc_g2.tail()"
   ]
  },
  {
   "cell_type": "code",
   "execution_count": null,
   "id": "a6845720",
   "metadata": {},
   "outputs": [],
   "source": [
    "csc_g2 = pd.read_csv('3csc - Sheet1 - with gender.csv')\n",
    "csc_g2.head()"
   ]
  },
  {
   "cell_type": "code",
   "execution_count": null,
   "id": "4005e9ed",
   "metadata": {},
   "outputs": [],
   "source": [
    "csc_g2.to_sql(name = 'students_csc', con = conn, index = False, if_exists = 'replace')"
   ]
  },
  {
   "cell_type": "code",
   "execution_count": null,
   "id": "57371e80",
   "metadata": {},
   "outputs": [],
   "source": [
    "complete = pd.read_sql_query(\"SELECT * FROM students_csc\", conn)\n",
    "complete"
   ]
  },
  {
   "cell_type": "code",
   "execution_count": null,
   "id": "0f9eb681",
   "metadata": {},
   "outputs": [],
   "source": [
    "# csc_g2.to_sql(name = 'students_csc', con = conn, index = False, if_exists = 'append')"
   ]
  },
  {
   "cell_type": "code",
   "execution_count": 5,
   "id": "3b4db99f",
   "metadata": {},
   "outputs": [
    {
     "data": {
      "text/plain": [
       "<sqlite3.Cursor at 0x14d5cade490>"
      ]
     },
     "execution_count": 5,
     "metadata": {},
     "output_type": "execute_result"
    }
   ],
   "source": [
    "cursor.execute(\"SELECT * FROM students_csc\")"
   ]
  },
  {
   "cell_type": "code",
   "execution_count": null,
   "id": "3b6a2326",
   "metadata": {},
   "outputs": [],
   "source": [
    "cursor.fetchone()"
   ]
  },
  {
   "cell_type": "code",
   "execution_count": 6,
   "id": "98d0dc0a",
   "metadata": {},
   "outputs": [
    {
     "data": {
      "text/plain": [
       "[(2018107987, 'John Louise', 'Lagazo', 21, 1.69, 'M'),\n",
       " (2019130134, 'John Angelo', 'Algarne', 20, 4.2, 'M'),\n",
       " (2019132083, 'Angelo', 'Hizon', 20, 5.0, 'M'),\n",
       " (2019129789, 'Chlarizza', 'Torres', 21, 5.0, 'F'),\n",
       " (2019132627, 'Abraham ', 'Militar', 20, 2.0, 'M'),\n",
       " (2019128089, 'Andrei', 'Benitez', 20, 4.2, 'M'),\n",
       " (2019131905, 'Keane', 'Tejada', 20, 1.0, 'M'),\n",
       " (2019128151, 'Anton', 'Bondoc', 20, 5.0, 'M'),\n",
       " (2018117965, 'Carl Joseph', 'Paez', 21, 2.0, 'M'),\n",
       " (2019128312, 'Karl', 'Tabajonda', 21, 1.0, 'M'),\n",
       " (2019128272, 'Carlo', 'Sindayen', 20, 2.0, 'M'),\n",
       " (2019128232, 'Aaron', 'Santos', 21, 3.14, 'M'),\n",
       " (2015081794, 'Allen', 'Marders', 22, 5.0, 'M'),\n",
       " (2019128253, 'Bridget', 'Plaza', 20, 2.0, 'F'),\n",
       " (2019127901, 'Enrico', 'Oliva', 20, 3.0, 'M'),\n",
       " (2019128145, 'Jasmine Joy', 'Lam', 20, 1.0, 'F'),\n",
       " (2019128203, 'Ronan', 'Doncillo', 21, 3.0, 'M'),\n",
       " (2019128149, 'Rowel', 'Buluran', 19, 5.0, 'M'),\n",
       " (2019128005, 'Dominick', 'Segundo', 20, 5.0, 'M'),\n",
       " (2019128314, 'Franz', 'Amog', 21, 3.0, 'M'),\n",
       " (2019127972, 'Kerwin Dominique', 'Aquino', 20, 1.0, 'M'),\n",
       " (2019128026, 'Lorenz Christian', 'Tadeo', 21, 3.0, 'F'),\n",
       " (2019131291, 'Leira Marie', 'Teodoro', 20, 2.0, 'F')]"
      ]
     },
     "execution_count": 6,
     "metadata": {},
     "output_type": "execute_result"
    }
   ],
   "source": [
    "cursor.fetchall()"
   ]
  },
  {
   "cell_type": "code",
   "execution_count": null,
   "id": "b466c3e8",
   "metadata": {},
   "outputs": [],
   "source": [
    "cursor.execute(\"SELECT * FROM students_csc\")"
   ]
  },
  {
   "cell_type": "code",
   "execution_count": null,
   "id": "d8d146c0",
   "metadata": {},
   "outputs": [],
   "source": [
    "list = cursor.fetchall()\n",
    "print(list)"
   ]
  },
  {
   "cell_type": "code",
   "execution_count": null,
   "id": "c0546f8d",
   "metadata": {},
   "outputs": [],
   "source": [
    "for item in list:\n",
    "    print(item[2])"
   ]
  },
  {
   "cell_type": "code",
   "execution_count": null,
   "id": "c594882a",
   "metadata": {},
   "outputs": [],
   "source": [
    "for item in list:\n",
    "    print(item[0], item[2], item[5])"
   ]
  },
  {
   "cell_type": "code",
   "execution_count": null,
   "id": "d535bf61",
   "metadata": {},
   "outputs": [],
   "source": [
    "for item in list:\n",
    "    print(item[0], item[1], ',', item[2], '-', item[5])"
   ]
  },
  {
   "cell_type": "code",
   "execution_count": null,
   "id": "a8e2de39",
   "metadata": {},
   "outputs": [],
   "source": [
    "#exclusive\n",
    "cursor.execute(\"SELECT id, familyNAME FROM students_csc WHERE age < 21 AND age > 19\")"
   ]
  },
  {
   "cell_type": "code",
   "execution_count": null,
   "id": "04f213b8",
   "metadata": {},
   "outputs": [],
   "source": [
    "cursor.fetchall()"
   ]
  },
  {
   "cell_type": "code",
   "execution_count": null,
   "id": "370c70f8",
   "metadata": {},
   "outputs": [],
   "source": [
    "#inclusive\n",
    "cursor.execute(\"SELECT id, familyNAME FROM students_csc WHERE age BETWEEN 19 and 21\")"
   ]
  },
  {
   "cell_type": "code",
   "execution_count": null,
   "id": "5bb11457",
   "metadata": {},
   "outputs": [],
   "source": [
    "cursor.fetchall()"
   ]
  },
  {
   "cell_type": "code",
   "execution_count": 7,
   "id": "ec2f92ac",
   "metadata": {},
   "outputs": [
    {
     "data": {
      "text/plain": [
       "<sqlite3.Cursor at 0x14d5cade490>"
      ]
     },
     "execution_count": 7,
     "metadata": {},
     "output_type": "execute_result"
    }
   ],
   "source": [
    "cursor.execute(\"SELECT id, familyNAME FROM students_csc WHERE age > 20 and gender LIKE 'M'\")"
   ]
  },
  {
   "cell_type": "code",
   "execution_count": 10,
   "id": "a09b1701",
   "metadata": {},
   "outputs": [
    {
     "data": {
      "text/plain": [
       "[(2018107987, 'John Louise', 'Lagazo', 21, 1.69, 'M'),\n",
       " (2019130134, 'John Angelo', 'Algarne', 20, 4.2, 'M'),\n",
       " (2019132083, 'Angelo', 'Hizon', 20, 5.0, 'M'),\n",
       " (2019129789, 'Chlarizza', 'Torres', 21, 5.0, 'F'),\n",
       " (2019132627, 'Abraham ', 'Militar', 20, 2.0, 'M'),\n",
       " (2019128089, 'Andrei', 'Benitez', 20, 4.2, 'M'),\n",
       " (2019131905, 'Keane', 'Tejada', 20, 1.0, 'M'),\n",
       " (2019128151, 'Anton', 'Bondoc', 20, 5.0, 'M'),\n",
       " (2018117965, 'Carl Joseph', 'Paez', 21, 2.0, 'M'),\n",
       " (2019128312, 'Karl', 'Tabajonda', 21, 1.0, 'M'),\n",
       " (2019128272, 'Carlo', 'Sindayen', 20, 2.0, 'M'),\n",
       " (2019128232, 'Aaron', 'Santos', 21, 3.14, 'M'),\n",
       " (2019128253, 'Bridget', 'Plaza', 20, 2.0, 'F'),\n",
       " (2019127901, 'Enrico', 'Oliva', 20, 3.0, 'M'),\n",
       " (2019128145, 'Jasmine Joy', 'Lam', 20, 1.0, 'F'),\n",
       " (2019128203, 'Ronan', 'Doncillo', 21, 3.0, 'M'),\n",
       " (2019128149, 'Rowel', 'Buluran', 19, 5.0, 'M'),\n",
       " (2019128005, 'Dominick', 'Segundo', 20, 5.0, 'M'),\n",
       " (2019128314, 'Franz', 'Amog', 21, 3.0, 'M'),\n",
       " (2019127972, 'Kerwin Dominique', 'Aquino', 20, 1.0, 'M'),\n",
       " (2019128026, 'Lorenz Christian', 'Tadeo', 21, 3.0, 'F'),\n",
       " (2019131291, 'Leira Marie', 'Teodoro', 20, 2.0, 'F')]"
      ]
     },
     "execution_count": 10,
     "metadata": {},
     "output_type": "execute_result"
    }
   ],
   "source": [
    "cursor.fetchall()"
   ]
  },
  {
   "cell_type": "code",
   "execution_count": 9,
   "id": "047750e3",
   "metadata": {},
   "outputs": [
    {
     "data": {
      "text/plain": [
       "<sqlite3.Cursor at 0x14d5cade490>"
      ]
     },
     "execution_count": 9,
     "metadata": {},
     "output_type": "execute_result"
    }
   ],
   "source": [
    "cursor.execute(\"SELECT * FROM students_csc WHERE age BETWEEN 19 and 21\")"
   ]
  },
  {
   "cell_type": "code",
   "execution_count": 24,
   "id": "05a961e0",
   "metadata": {},
   "outputs": [
    {
     "data": {
      "text/plain": [
       "<sqlite3.Cursor at 0x14d5cade490>"
      ]
     },
     "execution_count": 24,
     "metadata": {},
     "output_type": "execute_result"
    }
   ],
   "source": [
    "# By default in order is ascending\n",
    "# add DESC to state it being in descending order\n",
    "# add ASC to state it being ascending order\n",
    "cursor.execute(\"SELECT id, familyNAME, age FROM students_csc WHERE age > 20 and gender LIKE 'M' ORDER BY age DESC\")"
   ]
  },
  {
   "cell_type": "code",
   "execution_count": 25,
   "id": "b6861b1f",
   "metadata": {},
   "outputs": [
    {
     "data": {
      "text/plain": [
       "[(2015081794, 'Marders', 22),\n",
       " (2018107987, 'Lagazo', 21),\n",
       " (2018117965, 'Paez', 21),\n",
       " (2019128312, 'Tabajonda', 21),\n",
       " (2019128232, 'Santos', 21)]"
      ]
     },
     "execution_count": 25,
     "metadata": {},
     "output_type": "execute_result"
    }
   ],
   "source": [
    "# limits to five records\n",
    "cursor.fetchmany(5)"
   ]
  },
  {
   "cell_type": "code",
   "execution_count": 52,
   "id": "37bc275a",
   "metadata": {},
   "outputs": [
    {
     "data": {
      "text/plain": [
       "<sqlite3.Cursor at 0x14d5ec9dd50>"
      ]
     },
     "execution_count": 52,
     "metadata": {},
     "output_type": "execute_result"
    }
   ],
   "source": [
    "# order only with the selected column\n",
    "cursor.execute(\"SELECT id, familyNAME, age FROM students_csc WHERE age > 20 and gender LIKE 'M' ORDER BY familyNAME DESC\")"
   ]
  },
  {
   "cell_type": "code",
   "execution_count": 53,
   "id": "2b826895",
   "metadata": {},
   "outputs": [
    {
     "data": {
      "text/plain": [
       "[(2019128312, 'Tabajonda', 21),\n",
       " (2019128232, 'Santos', 21),\n",
       " (2018117965, 'Paez', 21),\n",
       " (2015081794, 'Marders', 22),\n",
       " (2018107987, 'Lagazo', 21),\n",
       " (2019128203, 'Doncillo', 21),\n",
       " (2019128314, 'Amog', 21)]"
      ]
     },
     "execution_count": 53,
     "metadata": {},
     "output_type": "execute_result"
    }
   ],
   "source": [
    "cursor.fetchall()"
   ]
  },
  {
   "cell_type": "code",
   "execution_count": 56,
   "id": "05678bd6",
   "metadata": {},
   "outputs": [
    {
     "data": {
      "text/plain": [
       "<sqlite3.Cursor at 0x14d5ec9dd50>"
      ]
     },
     "execution_count": 56,
     "metadata": {},
     "output_type": "execute_result"
    }
   ],
   "source": [
    "# group by usually used for numerical data\n",
    "# aggregate means group by\n",
    "# min, max, avg, or count\n",
    "# alternative to like is =\n",
    "cursor.execute(\"SELECT id, familyNAME, AVG(age) FROM students_csc WHERE age < 21 and gender = 'M' GROUP BY age ORDER BY age\")"
   ]
  },
  {
   "cell_type": "code",
   "execution_count": 57,
   "id": "4c33d006",
   "metadata": {},
   "outputs": [
    {
     "data": {
      "text/plain": [
       "[(2019128149, 'Buluran', 19.0), (2019130134, 'Algarne', 20.0)]"
      ]
     },
     "execution_count": 57,
     "metadata": {},
     "output_type": "execute_result"
    }
   ],
   "source": [
    "# do not end a query with a semicolon or else it wont work\n",
    "cursor.fetchall()"
   ]
  },
  {
   "cell_type": "code",
   "execution_count": 82,
   "id": "ea387924",
   "metadata": {},
   "outputs": [
    {
     "data": {
      "text/plain": [
       "<sqlite3.Cursor at 0x14d5ec9dd50>"
      ]
     },
     "execution_count": 82,
     "metadata": {},
     "output_type": "execute_result"
    }
   ],
   "source": [
    "# HAVING is used for filtering down GROUP BY\n",
    "# HAVING it optional an query that is paired with GROUP BY\n",
    "cursor.execute(\"SELECT id, familyNAME, age, COUNT(age) FROM students_csc WHERE gender = 'M' GROUP BY age HAVING age > 17 ORDER BY age\")"
   ]
  },
  {
   "cell_type": "code",
   "execution_count": 83,
   "id": "2a7f761e",
   "metadata": {},
   "outputs": [
    {
     "data": {
      "text/plain": [
       "[(2019128149, 'Buluran', 19, 1),\n",
       " (2019130134, 'Algarne', 20, 10),\n",
       " (2018107987, 'Lagazo', 21, 6),\n",
       " (2015081794, 'Marders', 22, 1)]"
      ]
     },
     "execution_count": 83,
     "metadata": {},
     "output_type": "execute_result"
    }
   ],
   "source": [
    "cursor.fetchall()"
   ]
  },
  {
   "cell_type": "code",
   "execution_count": 89,
   "id": "17658f36",
   "metadata": {},
   "outputs": [
    {
     "data": {
      "text/plain": [
       "<sqlite3.Cursor at 0x14d5ec9dd50>"
      ]
     },
     "execution_count": 89,
     "metadata": {},
     "output_type": "execute_result"
    }
   ],
   "source": [
    "# CREATING NEW TABLE USING FORMULA BASED ON THE AVAILABLE DATA/CELLS\n",
    "# predicted_gwa = a*age + b where y represents the y intercept\n",
    "# pred_gwa = 3.56936 + (-0.02743)*age\n",
    "cursor.execute(\"SELECT familyNAME, gwa, age, 3.56936 + (-0.02743)*age FROM students_csc\")"
   ]
  },
  {
   "cell_type": "code",
   "execution_count": 91,
   "id": "77270f7e",
   "metadata": {},
   "outputs": [
    {
     "data": {
      "text/plain": [
       "[('Benitez', 4.2, 20, 3.02076),\n",
       " ('Tejada', 1.0, 20, 3.02076),\n",
       " ('Bondoc', 5.0, 20, 3.02076),\n",
       " ('Paez', 2.0, 21, 2.9933300000000003),\n",
       " ('Tabajonda', 1.0, 21, 2.9933300000000003),\n",
       " ('Sindayen', 2.0, 20, 3.02076),\n",
       " ('Santos', 3.14, 21, 2.9933300000000003),\n",
       " ('Marders', 5.0, 22, 2.9659),\n",
       " ('Plaza', 2.0, 20, 3.02076),\n",
       " ('Oliva', 3.0, 20, 3.02076),\n",
       " ('Lam', 1.0, 20, 3.02076),\n",
       " ('Doncillo', 3.0, 21, 2.9933300000000003),\n",
       " ('Buluran', 5.0, 19, 3.04819),\n",
       " ('Segundo', 5.0, 20, 3.02076),\n",
       " ('Amog', 3.0, 21, 2.9933300000000003),\n",
       " ('Aquino', 1.0, 20, 3.02076),\n",
       " ('Tadeo', 3.0, 21, 2.9933300000000003),\n",
       " ('Teodoro', 2.0, 20, 3.02076)]"
      ]
     },
     "execution_count": 91,
     "metadata": {},
     "output_type": "execute_result"
    }
   ],
   "source": [
    "cursor.fetchall()"
   ]
  },
  {
   "cell_type": "code",
   "execution_count": 99,
   "id": "43609f34",
   "metadata": {},
   "outputs": [
    {
     "data": {
      "text/plain": [
       "<sqlite3.Cursor at 0x14d5ec9dd50>"
      ]
     },
     "execution_count": 99,
     "metadata": {},
     "output_type": "execute_result"
    }
   ],
   "source": [
    "# DELETING ROW/S IN THE TABLE\n",
    "cursor.execute(\"DELETE FROM students_csc WHERE age = 19\")"
   ]
  },
  {
   "cell_type": "code",
   "execution_count": 111,
   "id": "8f489221",
   "metadata": {},
   "outputs": [
    {
     "data": {
      "text/plain": [
       "<sqlite3.Cursor at 0x14d5ec9dd50>"
      ]
     },
     "execution_count": 111,
     "metadata": {},
     "output_type": "execute_result"
    }
   ],
   "source": [
    "cursor.execute(\"SELECT * FROM students_csc\")"
   ]
  },
  {
   "cell_type": "code",
   "execution_count": 112,
   "id": "0d6562e1",
   "metadata": {},
   "outputs": [
    {
     "data": {
      "text/plain": [
       "[]"
      ]
     },
     "execution_count": 112,
     "metadata": {},
     "output_type": "execute_result"
    }
   ],
   "source": [
    "cursor.fetchall()"
   ]
  },
  {
   "cell_type": "code",
   "execution_count": 100,
   "id": "b4499b53",
   "metadata": {},
   "outputs": [
    {
     "data": {
      "text/plain": [
       "0"
      ]
     },
     "execution_count": 100,
     "metadata": {},
     "output_type": "execute_result"
    }
   ],
   "source": [
    "# allows us to check the number of rows deleted\n",
    "cursor.rowcount"
   ]
  },
  {
   "cell_type": "code",
   "execution_count": 102,
   "id": "a189d2d9",
   "metadata": {},
   "outputs": [],
   "source": [
    "conn.commit()"
   ]
  },
  {
   "cell_type": "code",
   "execution_count": 103,
   "id": "a854a17f",
   "metadata": {},
   "outputs": [
    {
     "data": {
      "text/plain": [
       "<sqlite3.Cursor at 0x14d5ec9dd50>"
      ]
     },
     "execution_count": 103,
     "metadata": {},
     "output_type": "execute_result"
    }
   ],
   "source": [
    "cursor.execute(\"DELETE FROM students_csc WHERE gender = 'F'\")"
   ]
  },
  {
   "cell_type": "code",
   "execution_count": 109,
   "id": "e1d58179",
   "metadata": {},
   "outputs": [
    {
     "data": {
      "text/plain": [
       "17"
      ]
     },
     "execution_count": 109,
     "metadata": {},
     "output_type": "execute_result"
    }
   ],
   "source": [
    "cursor.rowcount"
   ]
  },
  {
   "cell_type": "code",
   "execution_count": 110,
   "id": "85aa0e23",
   "metadata": {},
   "outputs": [],
   "source": [
    "conn.commit()"
   ]
  },
  {
   "cell_type": "code",
   "execution_count": 108,
   "id": "66e9be9d",
   "metadata": {},
   "outputs": [
    {
     "data": {
      "text/plain": [
       "<sqlite3.Cursor at 0x14d5ec9dd50>"
      ]
     },
     "execution_count": 108,
     "metadata": {},
     "output_type": "execute_result"
    }
   ],
   "source": [
    "cursor.execute(\"DELETE FROM students_csc\")"
   ]
  },
  {
   "cell_type": "code",
   "execution_count": null,
   "id": "f29abe43",
   "metadata": {},
   "outputs": [],
   "source": []
  }
 ],
 "metadata": {
  "kernelspec": {
   "display_name": "Python 3",
   "language": "python",
   "name": "python3"
  },
  "language_info": {
   "codemirror_mode": {
    "name": "ipython",
    "version": 3
   },
   "file_extension": ".py",
   "mimetype": "text/x-python",
   "name": "python",
   "nbconvert_exporter": "python",
   "pygments_lexer": "ipython3",
   "version": "3.8.8"
  }
 },
 "nbformat": 4,
 "nbformat_minor": 5
}
