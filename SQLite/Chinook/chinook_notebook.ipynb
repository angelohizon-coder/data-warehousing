{
 "cells": [
  {
   "cell_type": "code",
   "execution_count": 1,
   "id": "b477e82e",
   "metadata": {},
   "outputs": [],
   "source": [
    "import sqlite3 as sql"
   ]
  },
  {
   "cell_type": "code",
   "execution_count": 5,
   "id": "4a17e652",
   "metadata": {},
   "outputs": [],
   "source": [
    "conn = sql.connect('Chinook.db')"
   ]
  },
  {
   "cell_type": "code",
   "execution_count": 6,
   "id": "85ecb1f9",
   "metadata": {},
   "outputs": [],
   "source": [
    "cursor = conn.cursor()"
   ]
  },
  {
   "cell_type": "code",
   "execution_count": 92,
   "id": "ee20c9d6",
   "metadata": {},
   "outputs": [
    {
     "data": {
      "text/plain": [
       "<sqlite3.Cursor at 0x16a69220730>"
      ]
     },
     "execution_count": 92,
     "metadata": {},
     "output_type": "execute_result"
    }
   ],
   "source": [
    "# this allows to select all columns with a limit of 5 records\n",
    "cursor.execute('SELECT * FROM albums LIMIT 5')"
   ]
  },
  {
   "cell_type": "code",
   "execution_count": 25,
   "id": "e93af6df",
   "metadata": {},
   "outputs": [
    {
     "data": {
      "text/plain": [
       "[]"
      ]
     },
     "execution_count": 25,
     "metadata": {},
     "output_type": "execute_result"
    }
   ],
   "source": [
    "# fetches all records\n",
    "cursor.fetchall()\n",
    "\n",
    "# fethcmany() has the default parameter value of 1\n",
    "# cursor.fetchmany(5)"
   ]
  },
  {
   "cell_type": "code",
   "execution_count": 24,
   "id": "0adabb82",
   "metadata": {},
   "outputs": [
    {
     "data": {
      "text/plain": [
       "<sqlite3.Cursor at 0x16a69220730>"
      ]
     },
     "execution_count": 24,
     "metadata": {},
     "output_type": "execute_result"
    }
   ],
   "source": [
    "cursor.execute('INSERT INTO artists(ArtistID, Name) values(276, \"Kiyo\")')"
   ]
  },
  {
   "cell_type": "code",
   "execution_count": 26,
   "id": "48c3b473",
   "metadata": {},
   "outputs": [],
   "source": [
    "# commits the changes to the database\n",
    "conn.commit()"
   ]
  },
  {
   "cell_type": "code",
   "execution_count": 41,
   "id": "23d2ac98",
   "metadata": {},
   "outputs": [],
   "source": [
    "albums = [(348,'Okay Lang Yan',276), \n",
    "          (349, 'Eba', 276), \n",
    "          (350, 'Nandito Na', 276),\n",
    "          (351, 'Dantay', 276),\n",
    "          (352, 'Ikaw Lang', 276)\n",
    "         ]"
   ]
  },
  {
   "cell_type": "code",
   "execution_count": 42,
   "id": "4bc01e8b",
   "metadata": {},
   "outputs": [
    {
     "data": {
      "text/plain": [
       "<sqlite3.Cursor at 0x16a69220730>"
      ]
     },
     "execution_count": 42,
     "metadata": {},
     "output_type": "execute_result"
    }
   ],
   "source": [
    "cursor.executemany('INSERT INTO albums(AlbumID, Title, ArtistID) values(?, ?, ?)', albums)"
   ]
  },
  {
   "cell_type": "code",
   "execution_count": 43,
   "id": "1feef25e",
   "metadata": {},
   "outputs": [],
   "source": [
    "conn.commit()"
   ]
  },
  {
   "cell_type": "code",
   "execution_count": 39,
   "id": "0c43c925",
   "metadata": {},
   "outputs": [
    {
     "data": {
      "text/plain": [
       "<sqlite3.Cursor at 0x16a69220730>"
      ]
     },
     "execution_count": 39,
     "metadata": {},
     "output_type": "execute_result"
    }
   ],
   "source": [
    "cursor.execute('DELETE FROM albums WHERE ArtistID=276')"
   ]
  },
  {
   "cell_type": "code",
   "execution_count": 40,
   "id": "cc49a6b1",
   "metadata": {},
   "outputs": [],
   "source": [
    "conn.commit()"
   ]
  },
  {
   "cell_type": "code",
   "execution_count": 65,
   "id": "6f93ff02",
   "metadata": {},
   "outputs": [
    {
     "data": {
      "text/plain": [
       "<sqlite3.Cursor at 0x16a69220730>"
      ]
     },
     "execution_count": 65,
     "metadata": {},
     "output_type": "execute_result"
    }
   ],
   "source": [
    "cursor.execute('SELECT * FROM artists')"
   ]
  },
  {
   "cell_type": "code",
   "execution_count": 66,
   "id": "27714791",
   "metadata": {},
   "outputs": [],
   "source": [
    "list = cursor.fetchmany(5)"
   ]
  },
  {
   "cell_type": "code",
   "execution_count": 67,
   "id": "ecdda788",
   "metadata": {},
   "outputs": [
    {
     "name": "stdout",
     "output_type": "stream",
     "text": [
      "1  -  AC/DC\n",
      "2  -  Accept\n",
      "3  -  Aerosmith\n",
      "4  -  Alanis Morissette\n",
      "5  -  Alice In Chains\n"
     ]
    }
   ],
   "source": [
    "for items in list:\n",
    "    print(items[0], ' - ', items[1])"
   ]
  },
  {
   "cell_type": "code",
   "execution_count": 45,
   "id": "9571e322",
   "metadata": {},
   "outputs": [],
   "source": [
    "# pandas is a library that allows us to analyze data by creating models and \n",
    "# fetching information from the database, query, or file\n",
    "import pandas as pd"
   ]
  },
  {
   "cell_type": "code",
   "execution_count": 47,
   "id": "d4e4932b",
   "metadata": {},
   "outputs": [],
   "source": [
    "df_albums = pd.read_sql_query('SELECT * FROM albums', conn)"
   ]
  },
  {
   "cell_type": "code",
   "execution_count": 48,
   "id": "dabc03ac",
   "metadata": {},
   "outputs": [
    {
     "data": {
      "text/html": [
       "<div>\n",
       "<style scoped>\n",
       "    .dataframe tbody tr th:only-of-type {\n",
       "        vertical-align: middle;\n",
       "    }\n",
       "\n",
       "    .dataframe tbody tr th {\n",
       "        vertical-align: top;\n",
       "    }\n",
       "\n",
       "    .dataframe thead th {\n",
       "        text-align: right;\n",
       "    }\n",
       "</style>\n",
       "<table border=\"1\" class=\"dataframe\">\n",
       "  <thead>\n",
       "    <tr style=\"text-align: right;\">\n",
       "      <th></th>\n",
       "      <th>AlbumId</th>\n",
       "      <th>Title</th>\n",
       "      <th>ArtistId</th>\n",
       "    </tr>\n",
       "  </thead>\n",
       "  <tbody>\n",
       "    <tr>\n",
       "      <th>0</th>\n",
       "      <td>1</td>\n",
       "      <td>For Those About To Rock We Salute You</td>\n",
       "      <td>1</td>\n",
       "    </tr>\n",
       "    <tr>\n",
       "      <th>1</th>\n",
       "      <td>2</td>\n",
       "      <td>Balls to the Wall</td>\n",
       "      <td>2</td>\n",
       "    </tr>\n",
       "    <tr>\n",
       "      <th>2</th>\n",
       "      <td>3</td>\n",
       "      <td>Restless and Wild</td>\n",
       "      <td>2</td>\n",
       "    </tr>\n",
       "    <tr>\n",
       "      <th>3</th>\n",
       "      <td>4</td>\n",
       "      <td>Let There Be Rock</td>\n",
       "      <td>1</td>\n",
       "    </tr>\n",
       "    <tr>\n",
       "      <th>4</th>\n",
       "      <td>5</td>\n",
       "      <td>Big Ones</td>\n",
       "      <td>3</td>\n",
       "    </tr>\n",
       "    <tr>\n",
       "      <th>...</th>\n",
       "      <td>...</td>\n",
       "      <td>...</td>\n",
       "      <td>...</td>\n",
       "    </tr>\n",
       "    <tr>\n",
       "      <th>347</th>\n",
       "      <td>348</td>\n",
       "      <td>Okay Lang Yan</td>\n",
       "      <td>276</td>\n",
       "    </tr>\n",
       "    <tr>\n",
       "      <th>348</th>\n",
       "      <td>349</td>\n",
       "      <td>Eba</td>\n",
       "      <td>276</td>\n",
       "    </tr>\n",
       "    <tr>\n",
       "      <th>349</th>\n",
       "      <td>350</td>\n",
       "      <td>Nandito Na</td>\n",
       "      <td>276</td>\n",
       "    </tr>\n",
       "    <tr>\n",
       "      <th>350</th>\n",
       "      <td>351</td>\n",
       "      <td>Dantay</td>\n",
       "      <td>276</td>\n",
       "    </tr>\n",
       "    <tr>\n",
       "      <th>351</th>\n",
       "      <td>352</td>\n",
       "      <td>Ikaw Lang</td>\n",
       "      <td>276</td>\n",
       "    </tr>\n",
       "  </tbody>\n",
       "</table>\n",
       "<p>352 rows × 3 columns</p>\n",
       "</div>"
      ],
      "text/plain": [
       "     AlbumId                                  Title  ArtistId\n",
       "0          1  For Those About To Rock We Salute You         1\n",
       "1          2                      Balls to the Wall         2\n",
       "2          3                      Restless and Wild         2\n",
       "3          4                      Let There Be Rock         1\n",
       "4          5                               Big Ones         3\n",
       "..       ...                                    ...       ...\n",
       "347      348                          Okay Lang Yan       276\n",
       "348      349                                    Eba       276\n",
       "349      350                             Nandito Na       276\n",
       "350      351                                 Dantay       276\n",
       "351      352                              Ikaw Lang       276\n",
       "\n",
       "[352 rows x 3 columns]"
      ]
     },
     "execution_count": 48,
     "metadata": {},
     "output_type": "execute_result"
    }
   ],
   "source": [
    "df_albums"
   ]
  },
  {
   "cell_type": "code",
   "execution_count": 49,
   "id": "444c33c4",
   "metadata": {},
   "outputs": [
    {
     "data": {
      "text/plain": [
       "(352, 3)"
      ]
     },
     "execution_count": 49,
     "metadata": {},
     "output_type": "execute_result"
    }
   ],
   "source": [
    "df_albums.shape"
   ]
  },
  {
   "cell_type": "code",
   "execution_count": 50,
   "id": "6fbeaf9d",
   "metadata": {},
   "outputs": [],
   "source": [
    "df_albums.to_csv('Albums.csv', index=False)"
   ]
  },
  {
   "cell_type": "code",
   "execution_count": 84,
   "id": "e529823b",
   "metadata": {},
   "outputs": [
    {
     "data": {
      "text/html": [
       "<div>\n",
       "<style scoped>\n",
       "    .dataframe tbody tr th:only-of-type {\n",
       "        vertical-align: middle;\n",
       "    }\n",
       "\n",
       "    .dataframe tbody tr th {\n",
       "        vertical-align: top;\n",
       "    }\n",
       "\n",
       "    .dataframe thead th {\n",
       "        text-align: right;\n",
       "    }\n",
       "</style>\n",
       "<table border=\"1\" class=\"dataframe\">\n",
       "  <thead>\n",
       "    <tr style=\"text-align: right;\">\n",
       "      <th></th>\n",
       "      <th>AlbumId</th>\n",
       "      <th>Title</th>\n",
       "      <th>ArtistId</th>\n",
       "      <th>ArtistId</th>\n",
       "      <th>Name</th>\n",
       "    </tr>\n",
       "  </thead>\n",
       "  <tbody>\n",
       "    <tr>\n",
       "      <th>0</th>\n",
       "      <td>1</td>\n",
       "      <td>For Those About To Rock We Salute You</td>\n",
       "      <td>1</td>\n",
       "      <td>1</td>\n",
       "      <td>AC/DC</td>\n",
       "    </tr>\n",
       "    <tr>\n",
       "      <th>1</th>\n",
       "      <td>2</td>\n",
       "      <td>Balls to the Wall</td>\n",
       "      <td>2</td>\n",
       "      <td>2</td>\n",
       "      <td>Accept</td>\n",
       "    </tr>\n",
       "    <tr>\n",
       "      <th>2</th>\n",
       "      <td>3</td>\n",
       "      <td>Restless and Wild</td>\n",
       "      <td>2</td>\n",
       "      <td>2</td>\n",
       "      <td>Accept</td>\n",
       "    </tr>\n",
       "    <tr>\n",
       "      <th>3</th>\n",
       "      <td>4</td>\n",
       "      <td>Let There Be Rock</td>\n",
       "      <td>1</td>\n",
       "      <td>1</td>\n",
       "      <td>AC/DC</td>\n",
       "    </tr>\n",
       "    <tr>\n",
       "      <th>4</th>\n",
       "      <td>5</td>\n",
       "      <td>Big Ones</td>\n",
       "      <td>3</td>\n",
       "      <td>3</td>\n",
       "      <td>Aerosmith</td>\n",
       "    </tr>\n",
       "    <tr>\n",
       "      <th>...</th>\n",
       "      <td>...</td>\n",
       "      <td>...</td>\n",
       "      <td>...</td>\n",
       "      <td>...</td>\n",
       "      <td>...</td>\n",
       "    </tr>\n",
       "    <tr>\n",
       "      <th>347</th>\n",
       "      <td>348</td>\n",
       "      <td>Okay Lang Yan</td>\n",
       "      <td>276</td>\n",
       "      <td>276</td>\n",
       "      <td>Kiyo</td>\n",
       "    </tr>\n",
       "    <tr>\n",
       "      <th>348</th>\n",
       "      <td>349</td>\n",
       "      <td>Eba</td>\n",
       "      <td>276</td>\n",
       "      <td>276</td>\n",
       "      <td>Kiyo</td>\n",
       "    </tr>\n",
       "    <tr>\n",
       "      <th>349</th>\n",
       "      <td>350</td>\n",
       "      <td>Nandito Na</td>\n",
       "      <td>276</td>\n",
       "      <td>276</td>\n",
       "      <td>Kiyo</td>\n",
       "    </tr>\n",
       "    <tr>\n",
       "      <th>350</th>\n",
       "      <td>351</td>\n",
       "      <td>Dantay</td>\n",
       "      <td>276</td>\n",
       "      <td>276</td>\n",
       "      <td>Kiyo</td>\n",
       "    </tr>\n",
       "    <tr>\n",
       "      <th>351</th>\n",
       "      <td>352</td>\n",
       "      <td>Ikaw Lang</td>\n",
       "      <td>276</td>\n",
       "      <td>276</td>\n",
       "      <td>Kiyo</td>\n",
       "    </tr>\n",
       "  </tbody>\n",
       "</table>\n",
       "<p>352 rows × 5 columns</p>\n",
       "</div>"
      ],
      "text/plain": [
       "     AlbumId                                  Title  ArtistId  ArtistId  \\\n",
       "0          1  For Those About To Rock We Salute You         1         1   \n",
       "1          2                      Balls to the Wall         2         2   \n",
       "2          3                      Restless and Wild         2         2   \n",
       "3          4                      Let There Be Rock         1         1   \n",
       "4          5                               Big Ones         3         3   \n",
       "..       ...                                    ...       ...       ...   \n",
       "347      348                          Okay Lang Yan       276       276   \n",
       "348      349                                    Eba       276       276   \n",
       "349      350                             Nandito Na       276       276   \n",
       "350      351                                 Dantay       276       276   \n",
       "351      352                              Ikaw Lang       276       276   \n",
       "\n",
       "          Name  \n",
       "0        AC/DC  \n",
       "1       Accept  \n",
       "2       Accept  \n",
       "3        AC/DC  \n",
       "4    Aerosmith  \n",
       "..         ...  \n",
       "347       Kiyo  \n",
       "348       Kiyo  \n",
       "349       Kiyo  \n",
       "350       Kiyo  \n",
       "351       Kiyo  \n",
       "\n",
       "[352 rows x 5 columns]"
      ]
     },
     "execution_count": 84,
     "metadata": {},
     "output_type": "execute_result"
    }
   ],
   "source": [
    "# ON query is best used if the column name are different then opt to use USING if they are of the same\n",
    "# ON simply repeats the column name and its records thus not the best thing to use if they are of the same name\n",
    "df_test1 = pd.read_sql_query('SELECT * FROM albums INNER JOIN artists ON albums.ArtistId = artists.ArtistId', conn)\n",
    "df_test1"
   ]
  },
  {
   "cell_type": "code",
   "execution_count": 80,
   "id": "15ee3979",
   "metadata": {},
   "outputs": [
    {
     "data": {
      "text/plain": [
       "97152"
      ]
     },
     "execution_count": 80,
     "metadata": {},
     "output_type": "execute_result"
    }
   ],
   "source": [
    "df_test2 = pd.read_sql_query('SELECT * FROM albums CROSS JOIN artists', conn)\n",
    "df_test2.shape[0]"
   ]
  },
  {
   "cell_type": "code",
   "execution_count": 81,
   "id": "e9bc2cd7",
   "metadata": {},
   "outputs": [
    {
     "data": {
      "text/html": [
       "<div>\n",
       "<style scoped>\n",
       "    .dataframe tbody tr th:only-of-type {\n",
       "        vertical-align: middle;\n",
       "    }\n",
       "\n",
       "    .dataframe tbody tr th {\n",
       "        vertical-align: top;\n",
       "    }\n",
       "\n",
       "    .dataframe thead th {\n",
       "        text-align: right;\n",
       "    }\n",
       "</style>\n",
       "<table border=\"1\" class=\"dataframe\">\n",
       "  <thead>\n",
       "    <tr style=\"text-align: right;\">\n",
       "      <th></th>\n",
       "      <th>AlbumId</th>\n",
       "      <th>Title</th>\n",
       "      <th>ArtistId</th>\n",
       "      <th>Name</th>\n",
       "    </tr>\n",
       "  </thead>\n",
       "  <tbody>\n",
       "    <tr>\n",
       "      <th>0</th>\n",
       "      <td>1</td>\n",
       "      <td>For Those About To Rock We Salute You</td>\n",
       "      <td>1</td>\n",
       "      <td>AC/DC</td>\n",
       "    </tr>\n",
       "    <tr>\n",
       "      <th>1</th>\n",
       "      <td>2</td>\n",
       "      <td>Balls to the Wall</td>\n",
       "      <td>2</td>\n",
       "      <td>Accept</td>\n",
       "    </tr>\n",
       "    <tr>\n",
       "      <th>2</th>\n",
       "      <td>3</td>\n",
       "      <td>Restless and Wild</td>\n",
       "      <td>2</td>\n",
       "      <td>Accept</td>\n",
       "    </tr>\n",
       "    <tr>\n",
       "      <th>3</th>\n",
       "      <td>4</td>\n",
       "      <td>Let There Be Rock</td>\n",
       "      <td>1</td>\n",
       "      <td>AC/DC</td>\n",
       "    </tr>\n",
       "    <tr>\n",
       "      <th>4</th>\n",
       "      <td>5</td>\n",
       "      <td>Big Ones</td>\n",
       "      <td>3</td>\n",
       "      <td>Aerosmith</td>\n",
       "    </tr>\n",
       "    <tr>\n",
       "      <th>...</th>\n",
       "      <td>...</td>\n",
       "      <td>...</td>\n",
       "      <td>...</td>\n",
       "      <td>...</td>\n",
       "    </tr>\n",
       "    <tr>\n",
       "      <th>347</th>\n",
       "      <td>348</td>\n",
       "      <td>Okay Lang Yan</td>\n",
       "      <td>276</td>\n",
       "      <td>Kiyo</td>\n",
       "    </tr>\n",
       "    <tr>\n",
       "      <th>348</th>\n",
       "      <td>349</td>\n",
       "      <td>Eba</td>\n",
       "      <td>276</td>\n",
       "      <td>Kiyo</td>\n",
       "    </tr>\n",
       "    <tr>\n",
       "      <th>349</th>\n",
       "      <td>350</td>\n",
       "      <td>Nandito Na</td>\n",
       "      <td>276</td>\n",
       "      <td>Kiyo</td>\n",
       "    </tr>\n",
       "    <tr>\n",
       "      <th>350</th>\n",
       "      <td>351</td>\n",
       "      <td>Dantay</td>\n",
       "      <td>276</td>\n",
       "      <td>Kiyo</td>\n",
       "    </tr>\n",
       "    <tr>\n",
       "      <th>351</th>\n",
       "      <td>352</td>\n",
       "      <td>Ikaw Lang</td>\n",
       "      <td>276</td>\n",
       "      <td>Kiyo</td>\n",
       "    </tr>\n",
       "  </tbody>\n",
       "</table>\n",
       "<p>352 rows × 4 columns</p>\n",
       "</div>"
      ],
      "text/plain": [
       "     AlbumId                                  Title  ArtistId       Name\n",
       "0          1  For Those About To Rock We Salute You         1      AC/DC\n",
       "1          2                      Balls to the Wall         2     Accept\n",
       "2          3                      Restless and Wild         2     Accept\n",
       "3          4                      Let There Be Rock         1      AC/DC\n",
       "4          5                               Big Ones         3  Aerosmith\n",
       "..       ...                                    ...       ...        ...\n",
       "347      348                          Okay Lang Yan       276       Kiyo\n",
       "348      349                                    Eba       276       Kiyo\n",
       "349      350                             Nandito Na       276       Kiyo\n",
       "350      351                                 Dantay       276       Kiyo\n",
       "351      352                              Ikaw Lang       276       Kiyo\n",
       "\n",
       "[352 rows x 4 columns]"
      ]
     },
     "execution_count": 81,
     "metadata": {},
     "output_type": "execute_result"
    }
   ],
   "source": [
    "# USING query allows us to use the name of column from two tables as means to inner join them\n",
    "# lessens the redundancy by allowing column name of the same name to join bind two tables together\n",
    "df_test3 = pd.read_sql_query('SELECT * FROM albums INNER JOIN artists USING (ArtistId)', conn)\n",
    "df_test3"
   ]
  },
  {
   "cell_type": "code",
   "execution_count": 85,
   "id": "70a2f112",
   "metadata": {},
   "outputs": [
    {
     "data": {
      "text/html": [
       "<div>\n",
       "<style scoped>\n",
       "    .dataframe tbody tr th:only-of-type {\n",
       "        vertical-align: middle;\n",
       "    }\n",
       "\n",
       "    .dataframe tbody tr th {\n",
       "        vertical-align: top;\n",
       "    }\n",
       "\n",
       "    .dataframe thead th {\n",
       "        text-align: right;\n",
       "    }\n",
       "</style>\n",
       "<table border=\"1\" class=\"dataframe\">\n",
       "  <thead>\n",
       "    <tr style=\"text-align: right;\">\n",
       "      <th></th>\n",
       "      <th>AlbumId</th>\n",
       "      <th>Title</th>\n",
       "      <th>ArtistId</th>\n",
       "      <th>Name</th>\n",
       "    </tr>\n",
       "  </thead>\n",
       "  <tbody>\n",
       "    <tr>\n",
       "      <th>0</th>\n",
       "      <td>1</td>\n",
       "      <td>For Those About To Rock We Salute You</td>\n",
       "      <td>1</td>\n",
       "      <td>AC/DC</td>\n",
       "    </tr>\n",
       "    <tr>\n",
       "      <th>1</th>\n",
       "      <td>2</td>\n",
       "      <td>Balls to the Wall</td>\n",
       "      <td>2</td>\n",
       "      <td>Accept</td>\n",
       "    </tr>\n",
       "    <tr>\n",
       "      <th>2</th>\n",
       "      <td>3</td>\n",
       "      <td>Restless and Wild</td>\n",
       "      <td>2</td>\n",
       "      <td>Accept</td>\n",
       "    </tr>\n",
       "    <tr>\n",
       "      <th>3</th>\n",
       "      <td>4</td>\n",
       "      <td>Let There Be Rock</td>\n",
       "      <td>1</td>\n",
       "      <td>AC/DC</td>\n",
       "    </tr>\n",
       "    <tr>\n",
       "      <th>4</th>\n",
       "      <td>5</td>\n",
       "      <td>Big Ones</td>\n",
       "      <td>3</td>\n",
       "      <td>Aerosmith</td>\n",
       "    </tr>\n",
       "    <tr>\n",
       "      <th>...</th>\n",
       "      <td>...</td>\n",
       "      <td>...</td>\n",
       "      <td>...</td>\n",
       "      <td>...</td>\n",
       "    </tr>\n",
       "    <tr>\n",
       "      <th>347</th>\n",
       "      <td>348</td>\n",
       "      <td>Okay Lang Yan</td>\n",
       "      <td>276</td>\n",
       "      <td>Kiyo</td>\n",
       "    </tr>\n",
       "    <tr>\n",
       "      <th>348</th>\n",
       "      <td>349</td>\n",
       "      <td>Eba</td>\n",
       "      <td>276</td>\n",
       "      <td>Kiyo</td>\n",
       "    </tr>\n",
       "    <tr>\n",
       "      <th>349</th>\n",
       "      <td>350</td>\n",
       "      <td>Nandito Na</td>\n",
       "      <td>276</td>\n",
       "      <td>Kiyo</td>\n",
       "    </tr>\n",
       "    <tr>\n",
       "      <th>350</th>\n",
       "      <td>351</td>\n",
       "      <td>Dantay</td>\n",
       "      <td>276</td>\n",
       "      <td>Kiyo</td>\n",
       "    </tr>\n",
       "    <tr>\n",
       "      <th>351</th>\n",
       "      <td>352</td>\n",
       "      <td>Ikaw Lang</td>\n",
       "      <td>276</td>\n",
       "      <td>Kiyo</td>\n",
       "    </tr>\n",
       "  </tbody>\n",
       "</table>\n",
       "<p>352 rows × 4 columns</p>\n",
       "</div>"
      ],
      "text/plain": [
       "     AlbumId                                  Title  ArtistId       Name\n",
       "0          1  For Those About To Rock We Salute You         1      AC/DC\n",
       "1          2                      Balls to the Wall         2     Accept\n",
       "2          3                      Restless and Wild         2     Accept\n",
       "3          4                      Let There Be Rock         1      AC/DC\n",
       "4          5                               Big Ones         3  Aerosmith\n",
       "..       ...                                    ...       ...        ...\n",
       "347      348                          Okay Lang Yan       276       Kiyo\n",
       "348      349                                    Eba       276       Kiyo\n",
       "349      350                             Nandito Na       276       Kiyo\n",
       "350      351                                 Dantay       276       Kiyo\n",
       "351      352                              Ikaw Lang       276       Kiyo\n",
       "\n",
       "[352 rows x 4 columns]"
      ]
     },
     "execution_count": 85,
     "metadata": {},
     "output_type": "execute_result"
    }
   ],
   "source": [
    "# Natural Join is simply INNER JOIN that uses USING query\n",
    "df_test4 = pd.read_sql_query('SELECT * FROM albums NATURAL JOIN artists', conn)\n",
    "df_test4"
   ]
  },
  {
   "cell_type": "code",
   "execution_count": 90,
   "id": "74c09cf8",
   "metadata": {},
   "outputs": [
    {
     "data": {
      "text/html": [
       "<div>\n",
       "<style scoped>\n",
       "    .dataframe tbody tr th:only-of-type {\n",
       "        vertical-align: middle;\n",
       "    }\n",
       "\n",
       "    .dataframe tbody tr th {\n",
       "        vertical-align: top;\n",
       "    }\n",
       "\n",
       "    .dataframe thead th {\n",
       "        text-align: right;\n",
       "    }\n",
       "</style>\n",
       "<table border=\"1\" class=\"dataframe\">\n",
       "  <thead>\n",
       "    <tr style=\"text-align: right;\">\n",
       "      <th></th>\n",
       "      <th>AlbumId</th>\n",
       "      <th>Title</th>\n",
       "      <th>ArtistId</th>\n",
       "      <th>Name</th>\n",
       "    </tr>\n",
       "  </thead>\n",
       "  <tbody>\n",
       "    <tr>\n",
       "      <th>0</th>\n",
       "      <td>1</td>\n",
       "      <td>AC/DC</td>\n",
       "      <td>1.0</td>\n",
       "      <td>For Those About To Rock We Salute You</td>\n",
       "    </tr>\n",
       "    <tr>\n",
       "      <th>1</th>\n",
       "      <td>1</td>\n",
       "      <td>AC/DC</td>\n",
       "      <td>4.0</td>\n",
       "      <td>Let There Be Rock</td>\n",
       "    </tr>\n",
       "    <tr>\n",
       "      <th>2</th>\n",
       "      <td>1</td>\n",
       "      <td>For Those About To Rock We Salute You</td>\n",
       "      <td>1.0</td>\n",
       "      <td>AC/DC</td>\n",
       "    </tr>\n",
       "    <tr>\n",
       "      <th>3</th>\n",
       "      <td>2</td>\n",
       "      <td>Accept</td>\n",
       "      <td>2.0</td>\n",
       "      <td>Balls to the Wall</td>\n",
       "    </tr>\n",
       "    <tr>\n",
       "      <th>4</th>\n",
       "      <td>2</td>\n",
       "      <td>Accept</td>\n",
       "      <td>3.0</td>\n",
       "      <td>Restless and Wild</td>\n",
       "    </tr>\n",
       "    <tr>\n",
       "      <th>...</th>\n",
       "      <td>...</td>\n",
       "      <td>...</td>\n",
       "      <td>...</td>\n",
       "      <td>...</td>\n",
       "    </tr>\n",
       "    <tr>\n",
       "      <th>770</th>\n",
       "      <td>348</td>\n",
       "      <td>Okay Lang Yan</td>\n",
       "      <td>276.0</td>\n",
       "      <td>Kiyo</td>\n",
       "    </tr>\n",
       "    <tr>\n",
       "      <th>771</th>\n",
       "      <td>349</td>\n",
       "      <td>Eba</td>\n",
       "      <td>276.0</td>\n",
       "      <td>Kiyo</td>\n",
       "    </tr>\n",
       "    <tr>\n",
       "      <th>772</th>\n",
       "      <td>350</td>\n",
       "      <td>Nandito Na</td>\n",
       "      <td>276.0</td>\n",
       "      <td>Kiyo</td>\n",
       "    </tr>\n",
       "    <tr>\n",
       "      <th>773</th>\n",
       "      <td>351</td>\n",
       "      <td>Dantay</td>\n",
       "      <td>276.0</td>\n",
       "      <td>Kiyo</td>\n",
       "    </tr>\n",
       "    <tr>\n",
       "      <th>774</th>\n",
       "      <td>352</td>\n",
       "      <td>Ikaw Lang</td>\n",
       "      <td>276.0</td>\n",
       "      <td>Kiyo</td>\n",
       "    </tr>\n",
       "  </tbody>\n",
       "</table>\n",
       "<p>775 rows × 4 columns</p>\n",
       "</div>"
      ],
      "text/plain": [
       "     AlbumId                                  Title  ArtistId  \\\n",
       "0          1                                  AC/DC       1.0   \n",
       "1          1                                  AC/DC       4.0   \n",
       "2          1  For Those About To Rock We Salute You       1.0   \n",
       "3          2                                 Accept       2.0   \n",
       "4          2                                 Accept       3.0   \n",
       "..       ...                                    ...       ...   \n",
       "770      348                          Okay Lang Yan     276.0   \n",
       "771      349                                    Eba     276.0   \n",
       "772      350                             Nandito Na     276.0   \n",
       "773      351                                 Dantay     276.0   \n",
       "774      352                              Ikaw Lang     276.0   \n",
       "\n",
       "                                      Name  \n",
       "0    For Those About To Rock We Salute You  \n",
       "1                        Let There Be Rock  \n",
       "2                                    AC/DC  \n",
       "3                        Balls to the Wall  \n",
       "4                        Restless and Wild  \n",
       "..                                     ...  \n",
       "770                                   Kiyo  \n",
       "771                                   Kiyo  \n",
       "772                                   Kiyo  \n",
       "773                                   Kiyo  \n",
       "774                                   Kiyo  \n",
       "\n",
       "[775 rows x 4 columns]"
      ]
     },
     "execution_count": 90,
     "metadata": {},
     "output_type": "execute_result"
    }
   ],
   "source": [
    "df_test5 = pd.read_sql_query('SELECT * FROM albums LEFT OUTER JOIN artists USING(ArtistId) UNION SELECT * FROM artists LEFT OUTER JOIN albums USING(ArtistId)', conn)\n",
    "df_test5"
   ]
  },
  {
   "cell_type": "code",
   "execution_count": 91,
   "id": "6346004c",
   "metadata": {},
   "outputs": [],
   "source": [
    "df_test5.to_csv('TEST1.csv', index=False)"
   ]
  },
  {
   "cell_type": "code",
   "execution_count": null,
   "id": "90483005",
   "metadata": {},
   "outputs": [],
   "source": []
  }
 ],
 "metadata": {
  "kernelspec": {
   "display_name": "Python 3",
   "language": "python",
   "name": "python3"
  },
  "language_info": {
   "codemirror_mode": {
    "name": "ipython",
    "version": 3
   },
   "file_extension": ".py",
   "mimetype": "text/x-python",
   "name": "python",
   "nbconvert_exporter": "python",
   "pygments_lexer": "ipython3",
   "version": "3.8.8"
  }
 },
 "nbformat": 4,
 "nbformat_minor": 5
}
