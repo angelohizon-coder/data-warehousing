{
 "cells": [
  {
   "cell_type": "code",
   "execution_count": 1,
   "id": "722af044",
   "metadata": {},
   "outputs": [],
   "source": [
    "import sqlite3 as sql"
   ]
  },
  {
   "cell_type": "code",
   "execution_count": 5,
   "id": "cb0187c1",
   "metadata": {},
   "outputs": [],
   "source": [
    "conn = sql.connect('Chinook.db')"
   ]
  },
  {
   "cell_type": "code",
   "execution_count": 6,
   "id": "76c3e180",
   "metadata": {},
   "outputs": [],
   "source": [
    "cursor = conn.cursor()"
   ]
  },
  {
   "cell_type": "code",
   "execution_count": 21,
   "id": "93f64fd9",
   "metadata": {},
   "outputs": [
    {
     "data": {
      "text/plain": [
       "<sqlite3.Cursor at 0x16a69220730>"
      ]
     },
     "execution_count": 21,
     "metadata": {},
     "output_type": "execute_result"
    }
   ],
   "source": [
    "# this allows to select all columns with a limit of 5 records\n",
    "cursor.execute('SELECT * FROM albums LIMIT 5')"
   ]
  },
  {
   "cell_type": "code",
   "execution_count": 25,
   "id": "6f2ee3f0",
   "metadata": {},
   "outputs": [
    {
     "data": {
      "text/plain": [
       "[]"
      ]
     },
     "execution_count": 25,
     "metadata": {},
     "output_type": "execute_result"
    }
   ],
   "source": [
    "# fetches all records\n",
    "cursor.fetchall()\n",
    "\n",
    "# fethcmany() has the default parameter value of 1\n",
    "# cursor.fetchmany(5)"
   ]
  },
  {
   "cell_type": "code",
   "execution_count": 24,
   "id": "82087a5a",
   "metadata": {},
   "outputs": [
    {
     "data": {
      "text/plain": [
       "<sqlite3.Cursor at 0x16a69220730>"
      ]
     },
     "execution_count": 24,
     "metadata": {},
     "output_type": "execute_result"
    }
   ],
   "source": [
    "cursor.execute('INSERT INTO artists(ArtistID, Name) values(276, \"Kiyo\")')"
   ]
  },
  {
   "cell_type": "code",
   "execution_count": 26,
   "id": "e84e5f06",
   "metadata": {},
   "outputs": [],
   "source": [
    "# commits the changes to the database\n",
    "conn.commit()"
   ]
  },
  {
   "cell_type": "code",
   "execution_count": 41,
   "id": "0a78c53c",
   "metadata": {},
   "outputs": [],
   "source": [
    "albums = [(348,'Okay Lang Yan',276), \n",
    "          (349, 'Eba', 276), \n",
    "          (350, 'Nandito Na', 276),\n",
    "          (351, 'Dantay', 276),\n",
    "          (352, 'Ikaw Lang', 276)\n",
    "         ]"
   ]
  },
  {
   "cell_type": "code",
   "execution_count": 42,
   "id": "61167846",
   "metadata": {},
   "outputs": [
    {
     "data": {
      "text/plain": [
       "<sqlite3.Cursor at 0x16a69220730>"
      ]
     },
     "execution_count": 42,
     "metadata": {},
     "output_type": "execute_result"
    }
   ],
   "source": [
    "cursor.executemany('INSERT INTO albums(AlbumID, Title, ArtistID) values(?, ?, ?)', albums)"
   ]
  },
  {
   "cell_type": "code",
   "execution_count": 43,
   "id": "75be654b",
   "metadata": {},
   "outputs": [],
   "source": [
    "conn.commit()"
   ]
  },
  {
   "cell_type": "code",
   "execution_count": 39,
   "id": "dde3d831",
   "metadata": {},
   "outputs": [
    {
     "data": {
      "text/plain": [
       "<sqlite3.Cursor at 0x16a69220730>"
      ]
     },
     "execution_count": 39,
     "metadata": {},
     "output_type": "execute_result"
    }
   ],
   "source": [
    "cursor.execute('DELETE FROM albums WHERE ArtistID=276')"
   ]
  },
  {
   "cell_type": "code",
   "execution_count": 40,
   "id": "4c1b6cfa",
   "metadata": {},
   "outputs": [],
   "source": [
    "conn.commit()"
   ]
  },
  {
   "cell_type": "code",
   "execution_count": 45,
   "id": "35b2143f",
   "metadata": {},
   "outputs": [],
   "source": [
    "import pandas as pd"
   ]
  },
  {
   "cell_type": "code",
   "execution_count": 47,
   "id": "e87c8319",
   "metadata": {},
   "outputs": [],
   "source": [
    "df_albums = pd.read_sql_query('SELECT * FROM albums', conn)"
   ]
  },
  {
   "cell_type": "code",
   "execution_count": 48,
   "id": "26e3a5ff",
   "metadata": {},
   "outputs": [
    {
     "data": {
      "text/html": [
       "<div>\n",
       "<style scoped>\n",
       "    .dataframe tbody tr th:only-of-type {\n",
       "        vertical-align: middle;\n",
       "    }\n",
       "\n",
       "    .dataframe tbody tr th {\n",
       "        vertical-align: top;\n",
       "    }\n",
       "\n",
       "    .dataframe thead th {\n",
       "        text-align: right;\n",
       "    }\n",
       "</style>\n",
       "<table border=\"1\" class=\"dataframe\">\n",
       "  <thead>\n",
       "    <tr style=\"text-align: right;\">\n",
       "      <th></th>\n",
       "      <th>AlbumId</th>\n",
       "      <th>Title</th>\n",
       "      <th>ArtistId</th>\n",
       "    </tr>\n",
       "  </thead>\n",
       "  <tbody>\n",
       "    <tr>\n",
       "      <th>0</th>\n",
       "      <td>1</td>\n",
       "      <td>For Those About To Rock We Salute You</td>\n",
       "      <td>1</td>\n",
       "    </tr>\n",
       "    <tr>\n",
       "      <th>1</th>\n",
       "      <td>2</td>\n",
       "      <td>Balls to the Wall</td>\n",
       "      <td>2</td>\n",
       "    </tr>\n",
       "    <tr>\n",
       "      <th>2</th>\n",
       "      <td>3</td>\n",
       "      <td>Restless and Wild</td>\n",
       "      <td>2</td>\n",
       "    </tr>\n",
       "    <tr>\n",
       "      <th>3</th>\n",
       "      <td>4</td>\n",
       "      <td>Let There Be Rock</td>\n",
       "      <td>1</td>\n",
       "    </tr>\n",
       "    <tr>\n",
       "      <th>4</th>\n",
       "      <td>5</td>\n",
       "      <td>Big Ones</td>\n",
       "      <td>3</td>\n",
       "    </tr>\n",
       "    <tr>\n",
       "      <th>...</th>\n",
       "      <td>...</td>\n",
       "      <td>...</td>\n",
       "      <td>...</td>\n",
       "    </tr>\n",
       "    <tr>\n",
       "      <th>347</th>\n",
       "      <td>348</td>\n",
       "      <td>Okay Lang Yan</td>\n",
       "      <td>276</td>\n",
       "    </tr>\n",
       "    <tr>\n",
       "      <th>348</th>\n",
       "      <td>349</td>\n",
       "      <td>Eba</td>\n",
       "      <td>276</td>\n",
       "    </tr>\n",
       "    <tr>\n",
       "      <th>349</th>\n",
       "      <td>350</td>\n",
       "      <td>Nandito Na</td>\n",
       "      <td>276</td>\n",
       "    </tr>\n",
       "    <tr>\n",
       "      <th>350</th>\n",
       "      <td>351</td>\n",
       "      <td>Dantay</td>\n",
       "      <td>276</td>\n",
       "    </tr>\n",
       "    <tr>\n",
       "      <th>351</th>\n",
       "      <td>352</td>\n",
       "      <td>Ikaw Lang</td>\n",
       "      <td>276</td>\n",
       "    </tr>\n",
       "  </tbody>\n",
       "</table>\n",
       "<p>352 rows × 3 columns</p>\n",
       "</div>"
      ],
      "text/plain": [
       "     AlbumId                                  Title  ArtistId\n",
       "0          1  For Those About To Rock We Salute You         1\n",
       "1          2                      Balls to the Wall         2\n",
       "2          3                      Restless and Wild         2\n",
       "3          4                      Let There Be Rock         1\n",
       "4          5                               Big Ones         3\n",
       "..       ...                                    ...       ...\n",
       "347      348                          Okay Lang Yan       276\n",
       "348      349                                    Eba       276\n",
       "349      350                             Nandito Na       276\n",
       "350      351                                 Dantay       276\n",
       "351      352                              Ikaw Lang       276\n",
       "\n",
       "[352 rows x 3 columns]"
      ]
     },
     "execution_count": 48,
     "metadata": {},
     "output_type": "execute_result"
    }
   ],
   "source": [
    "df_albums"
   ]
  },
  {
   "cell_type": "code",
   "execution_count": 49,
   "id": "25290fc2",
   "metadata": {},
   "outputs": [
    {
     "data": {
      "text/plain": [
       "(352, 3)"
      ]
     },
     "execution_count": 49,
     "metadata": {},
     "output_type": "execute_result"
    }
   ],
   "source": [
    "df_albums.shape"
   ]
  },
  {
   "cell_type": "code",
   "execution_count": 50,
   "id": "8754bcb9",
   "metadata": {},
   "outputs": [],
   "source": [
    "df_albums.to_csv('Albums.csv', index=False)"
   ]
  },
  {
   "cell_type": "code",
   "execution_count": null,
   "id": "0a206a99",
   "metadata": {},
   "outputs": [],
   "source": []
  }
 ],
 "metadata": {
  "kernelspec": {
   "display_name": "Python 3",
   "language": "python",
   "name": "python3"
  },
  "language_info": {
   "codemirror_mode": {
    "name": "ipython",
    "version": 3
   },
   "file_extension": ".py",
   "mimetype": "text/x-python",
   "name": "python",
   "nbconvert_exporter": "python",
   "pygments_lexer": "ipython3",
   "version": "3.8.8"
  }
 },
 "nbformat": 4,
 "nbformat_minor": 5
}
