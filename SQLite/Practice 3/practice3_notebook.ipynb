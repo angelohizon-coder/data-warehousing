{
 "cells": [
  {
   "cell_type": "code",
   "execution_count": 1,
   "id": "22c982af",
   "metadata": {},
   "outputs": [],
   "source": [
    "import sqlite3 as sql\n",
    "import pandas as pd"
   ]
  },
  {
   "cell_type": "code",
   "execution_count": 2,
   "id": "10cd4b24",
   "metadata": {},
   "outputs": [],
   "source": [
    "conn = sql.connect('practice3.db')"
   ]
  },
  {
   "cell_type": "code",
   "execution_count": 3,
   "id": "c652dd2e",
   "metadata": {},
   "outputs": [],
   "source": [
    "cursor = conn.cursor()"
   ]
  },
  {
   "cell_type": "code",
   "execution_count": null,
   "id": "3484ea57",
   "metadata": {},
   "outputs": [],
   "source": [
    "cursor.execute('CREATE TABLE \"sales\" (\"Product_ID\" REAL,\"Transaction_date\" TEXT,\"Product\" TEXT,\"Price\" TEXT,\"Payment_Type\" TEXT,\"Name\" TEXT,\"City\" TEXT,\"State\" TEXT,\"Country\" TEXT)')"
   ]
  },
  {
   "cell_type": "code",
   "execution_count": null,
   "id": "847681e1",
   "metadata": {},
   "outputs": [],
   "source": [
    "conn.commit()"
   ]
  },
  {
   "cell_type": "code",
   "execution_count": null,
   "id": "deaf5a03",
   "metadata": {},
   "outputs": [],
   "source": [
    "data = [(10000, '1/1/09 4:24', 'Product3', 7500, 'Amex', 'Pamela', 'Skaneateles', 'NY', 'United States'), \n",
    "        (10001, '1/8/09 11:55', 'Product1', 1200, 'Diners', 'julie', 'Haverhil', 'England', 'United Kingdom'), \n",
    "        (10002, '1/12/09 21:30', 'Product1', 1200, 'Visa', 'Julia', 'Madison', 'WI', 'United States'),\n",
    "       ]"
   ]
  },
  {
   "cell_type": "code",
   "execution_count": null,
   "id": "d0cb0282",
   "metadata": {},
   "outputs": [],
   "source": [
    "cursor.executemany('INSERT INTO sales VALUES(?, ?, ?, ?, ?, ?, ?, ?, ?)', data)"
   ]
  },
  {
   "cell_type": "code",
   "execution_count": null,
   "id": "4e8cb73a",
   "metadata": {},
   "outputs": [],
   "source": [
    "conn.commit()"
   ]
  },
  {
   "cell_type": "code",
   "execution_count": null,
   "id": "cf75b32f",
   "metadata": {},
   "outputs": [],
   "source": [
    "cursor.execute('DELETE FROM sales')"
   ]
  },
  {
   "cell_type": "code",
   "execution_count": null,
   "id": "6369482c",
   "metadata": {},
   "outputs": [],
   "source": [
    "df = pd.read_sql_query('SELECT * FROM sales', conn)\n",
    "df"
   ]
  },
  {
   "cell_type": "code",
   "execution_count": null,
   "id": "2a64c9e1",
   "metadata": {},
   "outputs": [],
   "source": [
    "additional_data = [\n",
    "                (10003, '1/26/09 13:41', 'Product1', 1200, 'Mastercard', 'Lesleigh', 'Baden', 'Aargau', 'Switzerland'),\n",
    "                (10004, '1/20/09 10:42', 'Product2', 3600, 'Diners', 'esther', 'Huddersfield', 'England', 'United Kingdom'),\n",
    "                (10005, '1/22/09 14:25', 'Product1', 1200, 'Visa', 'Hans-Joerg', 'Belfast', 'Northern Ireland', 'United Kingdom'),\n",
    "                (10006, '1/28/09 5:36', 'Product2', 3600, 'Visa', 'Christiane', 'Black River', 'Black River', 'Mauritius'),\n",
    "                ]"
   ]
  },
  {
   "cell_type": "code",
   "execution_count": null,
   "id": "8bb22788",
   "metadata": {},
   "outputs": [],
   "source": [
    "cursor.executemany('INSERT INTO sales VALUES(?, ?, ?, ?, ?, ?, ?, ?, ?)', additional_data)"
   ]
  },
  {
   "cell_type": "code",
   "execution_count": null,
   "id": "18f044db",
   "metadata": {},
   "outputs": [],
   "source": [
    "conn.commit()"
   ]
  },
  {
   "cell_type": "code",
   "execution_count": null,
   "id": "c7df12a1",
   "metadata": {},
   "outputs": [],
   "source": [
    "pd.read_sql_query('SELECT * FROM sales LIMIT 4', conn)"
   ]
  },
  {
   "cell_type": "code",
   "execution_count": null,
   "id": "b568622c",
   "metadata": {},
   "outputs": [],
   "source": [
    "pd.read_sql_query('SELECT * FROM sales', conn)"
   ]
  },
  {
   "cell_type": "code",
   "execution_count": null,
   "id": "9011face",
   "metadata": {},
   "outputs": [],
   "source": [
    "pd.read_sql_query('SELECT Name, Country FROM sales', conn)"
   ]
  },
  {
   "cell_type": "code",
   "execution_count": null,
   "id": "f8105e64",
   "metadata": {},
   "outputs": [],
   "source": [
    "pd.read_sql_query('SELECT Product, Payment_Type FROM sales WHERE Price < 3000', conn)"
   ]
  },
  {
   "cell_type": "code",
   "execution_count": null,
   "id": "1afc2ed6",
   "metadata": {},
   "outputs": [],
   "source": [
    "variable = pd.read_csv('Sales - Sales.csv')"
   ]
  },
  {
   "cell_type": "code",
   "execution_count": null,
   "id": "3982f331",
   "metadata": {},
   "outputs": [],
   "source": [
    "variable.to_sql('sales', con = conn, index=False, if_exists = 'append')"
   ]
  },
  {
   "cell_type": "code",
   "execution_count": null,
   "id": "34eab039",
   "metadata": {},
   "outputs": [],
   "source": [
    "pd.read_sql_query('SELECT * FROM sales LIMIT 10', conn)"
   ]
  },
  {
   "cell_type": "code",
   "execution_count": null,
   "id": "d2aa7a04",
   "metadata": {},
   "outputs": [],
   "source": [
    "pd.read_sql_query('SELECT Name, Country FROM sales LIMIT 10', conn)"
   ]
  },
  {
   "cell_type": "code",
   "execution_count": null,
   "id": "9c5ba539",
   "metadata": {},
   "outputs": [],
   "source": [
    "pd.read_sql_query('SELECT Product, Payment_Type FROM sales WHERE Price > 4000', conn)"
   ]
  },
  {
   "cell_type": "code",
   "execution_count": 4,
   "id": "f057c4d2",
   "metadata": {},
   "outputs": [],
   "source": [
    "test = pd.read_csv('FL_insurance - FL_insurance_sample.csv')"
   ]
  },
  {
   "cell_type": "code",
   "execution_count": 5,
   "id": "ea4ebfa4",
   "metadata": {},
   "outputs": [],
   "source": [
    "test.to_sql('test1', con = conn, index=False, if_exists = 'replace')"
   ]
  },
  {
   "cell_type": "code",
   "execution_count": null,
   "id": "24f2f310",
   "metadata": {},
   "outputs": [],
   "source": []
  }
 ],
 "metadata": {
  "kernelspec": {
   "display_name": "Python 3",
   "language": "python",
   "name": "python3"
  },
  "language_info": {
   "codemirror_mode": {
    "name": "ipython",
    "version": 3
   },
   "file_extension": ".py",
   "mimetype": "text/x-python",
   "name": "python",
   "nbconvert_exporter": "python",
   "pygments_lexer": "ipython3",
   "version": "3.8.8"
  }
 },
 "nbformat": 4,
 "nbformat_minor": 5
}
