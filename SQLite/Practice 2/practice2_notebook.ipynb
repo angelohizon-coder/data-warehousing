{
 "cells": [
  {
   "cell_type": "code",
   "execution_count": 1,
   "id": "653060b3",
   "metadata": {},
   "outputs": [],
   "source": [
    "import sqlite3 as sql\n",
    "import pandas as pd"
   ]
  },
  {
   "cell_type": "code",
   "execution_count": 2,
   "id": "d241ca23",
   "metadata": {},
   "outputs": [],
   "source": [
    "conn = sql.connect('practice2.db')"
   ]
  },
  {
   "cell_type": "code",
   "execution_count": 3,
   "id": "bc95c373",
   "metadata": {},
   "outputs": [],
   "source": [
    "cursor = conn.cursor()"
   ]
  },
  {
   "cell_type": "code",
   "execution_count": 4,
   "id": "9a07dada",
   "metadata": {},
   "outputs": [],
   "source": [
    "info1 = [\n",
    "        (1, \"Paul\", 32, \"California\", 20000.0), \n",
    "        (2, \"Allen\", 25, \"Texas\", 15000.0),    \n",
    "        (3, \"Teddy\", 23, \"Norway\", 20000.0), \n",
    "        (4, \"Mark\", 25, \"Rich-Mond\", 65000.0), \n",
    "        (5, \"David\", 27, \"Texas\", 85000.0), \n",
    "        (6, \"Kim\", 22, \"South-Hall\", 45000.0), \n",
    "        (7, \"james\", 24, \"Houston\", 10000.0)\n",
    "        ] "
   ]
  },
  {
   "cell_type": "code",
   "execution_count": 6,
   "id": "2a493fcc",
   "metadata": {},
   "outputs": [
    {
     "data": {
      "text/plain": [
       "<sqlite3.Cursor at 0x19da5003d50>"
      ]
     },
     "execution_count": 6,
     "metadata": {},
     "output_type": "execute_result"
    }
   ],
   "source": [
    "cursor.executemany('INSERT INTO table1 VALUES(?, ?, ?, ?, ?)', info1)"
   ]
  },
  {
   "cell_type": "code",
   "execution_count": 7,
   "id": "26dba08d",
   "metadata": {},
   "outputs": [],
   "source": [
    "conn.commit()"
   ]
  },
  {
   "cell_type": "code",
   "execution_count": 8,
   "id": "4277426c",
   "metadata": {},
   "outputs": [],
   "source": [
    "info2 = [\n",
    "        (1, \"IT Billing\", 1),\n",
    "        (2, \"Engineering\", 2),\n",
    "        (3, \"Finance\", 7),\n",
    "        (4, \"Engineering\", 3),\n",
    "        (5, \"Finance\", 4),\n",
    "        (6, \"Engineering\", 5),\n",
    "        (7, \"Finance\",6 ),\n",
    "        ]"
   ]
  },
  {
   "cell_type": "code",
   "execution_count": 9,
   "id": "23c2c5d3",
   "metadata": {},
   "outputs": [
    {
     "data": {
      "text/plain": [
       "<sqlite3.Cursor at 0x19da5003d50>"
      ]
     },
     "execution_count": 9,
     "metadata": {},
     "output_type": "execute_result"
    }
   ],
   "source": [
    "cursor.executemany('INSERT INTO table2 VALUES(?, ?, ?)', info2)"
   ]
  },
  {
   "cell_type": "code",
   "execution_count": 10,
   "id": "fbeafd4a",
   "metadata": {},
   "outputs": [],
   "source": [
    "conn.commit()"
   ]
  },
  {
   "cell_type": "code",
   "execution_count": 19,
   "id": "0468c0ec",
   "metadata": {},
   "outputs": [
    {
     "data": {
      "text/html": [
       "<div>\n",
       "<style scoped>\n",
       "    .dataframe tbody tr th:only-of-type {\n",
       "        vertical-align: middle;\n",
       "    }\n",
       "\n",
       "    .dataframe tbody tr th {\n",
       "        vertical-align: top;\n",
       "    }\n",
       "\n",
       "    .dataframe thead th {\n",
       "        text-align: right;\n",
       "    }\n",
       "</style>\n",
       "<table border=\"1\" class=\"dataframe\">\n",
       "  <thead>\n",
       "    <tr style=\"text-align: right;\">\n",
       "      <th></th>\n",
       "      <th>id</th>\n",
       "      <th>dept</th>\n",
       "      <th>emp_id</th>\n",
       "      <th>id</th>\n",
       "      <th>name</th>\n",
       "      <th>age</th>\n",
       "      <th>address</th>\n",
       "      <th>salary</th>\n",
       "    </tr>\n",
       "  </thead>\n",
       "  <tbody>\n",
       "    <tr>\n",
       "      <th>0</th>\n",
       "      <td>1</td>\n",
       "      <td>IT Billing</td>\n",
       "      <td>1</td>\n",
       "      <td>1</td>\n",
       "      <td>Paul</td>\n",
       "      <td>32</td>\n",
       "      <td>California</td>\n",
       "      <td>20000.0</td>\n",
       "    </tr>\n",
       "    <tr>\n",
       "      <th>1</th>\n",
       "      <td>2</td>\n",
       "      <td>Engineering</td>\n",
       "      <td>2</td>\n",
       "      <td>2</td>\n",
       "      <td>Allen</td>\n",
       "      <td>25</td>\n",
       "      <td>Texas</td>\n",
       "      <td>15000.0</td>\n",
       "    </tr>\n",
       "    <tr>\n",
       "      <th>2</th>\n",
       "      <td>4</td>\n",
       "      <td>Engineering</td>\n",
       "      <td>3</td>\n",
       "      <td>3</td>\n",
       "      <td>Teddy</td>\n",
       "      <td>23</td>\n",
       "      <td>Norway</td>\n",
       "      <td>20000.0</td>\n",
       "    </tr>\n",
       "    <tr>\n",
       "      <th>3</th>\n",
       "      <td>5</td>\n",
       "      <td>Finance</td>\n",
       "      <td>4</td>\n",
       "      <td>4</td>\n",
       "      <td>Mark</td>\n",
       "      <td>25</td>\n",
       "      <td>Rich-Mond</td>\n",
       "      <td>65000.0</td>\n",
       "    </tr>\n",
       "    <tr>\n",
       "      <th>4</th>\n",
       "      <td>6</td>\n",
       "      <td>Engineering</td>\n",
       "      <td>5</td>\n",
       "      <td>5</td>\n",
       "      <td>David</td>\n",
       "      <td>27</td>\n",
       "      <td>Texas</td>\n",
       "      <td>85000.0</td>\n",
       "    </tr>\n",
       "    <tr>\n",
       "      <th>5</th>\n",
       "      <td>7</td>\n",
       "      <td>Finance</td>\n",
       "      <td>6</td>\n",
       "      <td>6</td>\n",
       "      <td>Kim</td>\n",
       "      <td>22</td>\n",
       "      <td>South-Hall</td>\n",
       "      <td>45000.0</td>\n",
       "    </tr>\n",
       "  </tbody>\n",
       "</table>\n",
       "</div>"
      ],
      "text/plain": [
       "   id         dept  emp_id  id   name  age     address   salary\n",
       "0   1   IT Billing       1   1   Paul   32  California  20000.0\n",
       "1   2  Engineering       2   2  Allen   25       Texas  15000.0\n",
       "2   4  Engineering       3   3  Teddy   23      Norway  20000.0\n",
       "3   5      Finance       4   4   Mark   25   Rich-Mond  65000.0\n",
       "4   6  Engineering       5   5  David   27       Texas  85000.0\n",
       "5   7      Finance       6   6    Kim   22  South-Hall  45000.0"
      ]
     },
     "execution_count": 19,
     "metadata": {},
     "output_type": "execute_result"
    }
   ],
   "source": [
    "df = pd.read_sql_query('SELECT * FROM table2 LEFT OUTER JOIN table1 WHERE table1.id = table2.emp_id', conn)\n",
    "df"
   ]
  },
  {
   "cell_type": "code",
   "execution_count": 14,
   "id": "1fd13a5d",
   "metadata": {},
   "outputs": [
    {
     "data": {
      "text/plain": [
       "<sqlite3.Cursor at 0x19da5003d50>"
      ]
     },
     "execution_count": 14,
     "metadata": {},
     "output_type": "execute_result"
    }
   ],
   "source": [
    "cursor.execute('DELETE FROM table1 WHERE id = 7')"
   ]
  },
  {
   "cell_type": "code",
   "execution_count": 15,
   "id": "e4c89526",
   "metadata": {},
   "outputs": [],
   "source": [
    "conn.commit()"
   ]
  },
  {
   "cell_type": "code",
   "execution_count": 28,
   "id": "9fba3436",
   "metadata": {},
   "outputs": [
    {
     "data": {
      "text/plain": [
       "<sqlite3.Cursor at 0x19da5003d50>"
      ]
     },
     "execution_count": 28,
     "metadata": {},
     "output_type": "execute_result"
    }
   ],
   "source": [
    "cursor.executemany('INSERT INTO table1 VALUES(?,?,?,?,?)', [(7, \"James\", 24, \"Houston\", 10000.0), (8, \"Lebron\", 23, \"Lakers\", 10000.0)])"
   ]
  },
  {
   "cell_type": "code",
   "execution_count": 29,
   "id": "3863b410",
   "metadata": {},
   "outputs": [],
   "source": [
    "conn.commit()"
   ]
  },
  {
   "cell_type": "code",
   "execution_count": 38,
   "id": "5a4e03e0",
   "metadata": {},
   "outputs": [
    {
     "data": {
      "text/html": [
       "<div>\n",
       "<style scoped>\n",
       "    .dataframe tbody tr th:only-of-type {\n",
       "        vertical-align: middle;\n",
       "    }\n",
       "\n",
       "    .dataframe tbody tr th {\n",
       "        vertical-align: top;\n",
       "    }\n",
       "\n",
       "    .dataframe thead th {\n",
       "        text-align: right;\n",
       "    }\n",
       "</style>\n",
       "<table border=\"1\" class=\"dataframe\">\n",
       "  <thead>\n",
       "    <tr style=\"text-align: right;\">\n",
       "      <th></th>\n",
       "      <th>emp_id</th>\n",
       "      <th>name</th>\n",
       "      <th>dept</th>\n",
       "    </tr>\n",
       "  </thead>\n",
       "  <tbody>\n",
       "    <tr>\n",
       "      <th>0</th>\n",
       "      <td>1</td>\n",
       "      <td>Paul</td>\n",
       "      <td>IT Billing</td>\n",
       "    </tr>\n",
       "    <tr>\n",
       "      <th>1</th>\n",
       "      <td>2</td>\n",
       "      <td>Allen</td>\n",
       "      <td>Engineering</td>\n",
       "    </tr>\n",
       "    <tr>\n",
       "      <th>2</th>\n",
       "      <td>7</td>\n",
       "      <td>Teddy</td>\n",
       "      <td>Finance</td>\n",
       "    </tr>\n",
       "  </tbody>\n",
       "</table>\n",
       "</div>"
      ],
      "text/plain": [
       "   emp_id   name         dept\n",
       "0       1   Paul   IT Billing\n",
       "1       2  Allen  Engineering\n",
       "2       7  Teddy      Finance"
      ]
     },
     "execution_count": 38,
     "metadata": {},
     "output_type": "execute_result"
    }
   ],
   "source": [
    "pd.read_sql_query('SELECT emp_id, name, dept FROM table1 NATURAL JOIN table2', conn)"
   ]
  },
  {
   "cell_type": "code",
   "execution_count": 32,
   "id": "20b51c23",
   "metadata": {},
   "outputs": [
    {
     "data": {
      "text/plain": [
       "<sqlite3.Cursor at 0x19da5003d50>"
      ]
     },
     "execution_count": 32,
     "metadata": {},
     "output_type": "execute_result"
    }
   ],
   "source": [
    "cursor.execute('DELETE FROM table2 WHERE id > 3')"
   ]
  },
  {
   "cell_type": "code",
   "execution_count": 33,
   "id": "ec4cdfa4",
   "metadata": {},
   "outputs": [],
   "source": [
    "conn.commit()"
   ]
  },
  {
   "cell_type": "code",
   "execution_count": null,
   "id": "80106dec",
   "metadata": {},
   "outputs": [],
   "source": []
  }
 ],
 "metadata": {
  "kernelspec": {
   "display_name": "Python 3",
   "language": "python",
   "name": "python3"
  },
  "language_info": {
   "codemirror_mode": {
    "name": "ipython",
    "version": 3
   },
   "file_extension": ".py",
   "mimetype": "text/x-python",
   "name": "python",
   "nbconvert_exporter": "python",
   "pygments_lexer": "ipython3",
   "version": "3.8.8"
  }
 },
 "nbformat": 4,
 "nbformat_minor": 5
}
